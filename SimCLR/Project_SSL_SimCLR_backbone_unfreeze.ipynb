{
  "cells": [
    {
      "cell_type": "code",
      "execution_count": null,
      "metadata": {
        "colab": {
          "base_uri": "https://localhost:8080/"
        },
        "id": "bui3i_0DaUde",
        "outputId": "e6e52467-bd40-4fd3-9cb8-4462bf29072a"
      },
      "outputs": [
        {
          "output_type": "stream",
          "name": "stdout",
          "text": [
            "Requirement already satisfied: kaggle in /usr/local/lib/python3.10/dist-packages (1.6.17)\n",
            "Requirement already satisfied: six>=1.10 in /usr/local/lib/python3.10/dist-packages (from kaggle) (1.16.0)\n",
            "Requirement already satisfied: certifi>=2023.7.22 in /usr/local/lib/python3.10/dist-packages (from kaggle) (2024.7.4)\n",
            "Requirement already satisfied: python-dateutil in /usr/local/lib/python3.10/dist-packages (from kaggle) (2.8.2)\n",
            "Requirement already satisfied: requests in /usr/local/lib/python3.10/dist-packages (from kaggle) (2.32.3)\n",
            "Requirement already satisfied: tqdm in /usr/local/lib/python3.10/dist-packages (from kaggle) (4.66.5)\n",
            "Requirement already satisfied: python-slugify in /usr/local/lib/python3.10/dist-packages (from kaggle) (8.0.4)\n",
            "Requirement already satisfied: urllib3 in /usr/local/lib/python3.10/dist-packages (from kaggle) (2.0.7)\n",
            "Requirement already satisfied: bleach in /usr/local/lib/python3.10/dist-packages (from kaggle) (6.1.0)\n",
            "Requirement already satisfied: webencodings in /usr/local/lib/python3.10/dist-packages (from bleach->kaggle) (0.5.1)\n",
            "Requirement already satisfied: text-unidecode>=1.3 in /usr/local/lib/python3.10/dist-packages (from python-slugify->kaggle) (1.3)\n",
            "Requirement already satisfied: charset-normalizer<4,>=2 in /usr/local/lib/python3.10/dist-packages (from requests->kaggle) (3.3.2)\n",
            "Requirement already satisfied: idna<4,>=2.5 in /usr/local/lib/python3.10/dist-packages (from requests->kaggle) (3.7)\n",
            "Dataset URL: https://www.kaggle.com/datasets/paultimothymooney/chest-xray-pneumonia\n",
            "License(s): other\n",
            "Downloading chest-xray-pneumonia.zip to /content\n",
            "100% 2.29G/2.29G [00:23<00:00, 148MB/s]\n",
            "100% 2.29G/2.29G [00:23<00:00, 104MB/s]\n",
            "Dataset URL: https://www.kaggle.com/datasets/tawsifurrahman/tuberculosis-tb-chest-xray-dataset\n",
            "License(s): copyright-authors\n",
            "Downloading tuberculosis-tb-chest-xray-dataset.zip to /content\n",
            " 99% 660M/663M [00:09<00:00, 71.9MB/s]\n",
            "100% 663M/663M [00:09<00:00, 70.0MB/s]\n"
          ]
        }
      ],
      "source": [
        "!pip install kaggle\n",
        "!mkdir ~/.kaggle\n",
        "!kaggle datasets download -d paultimothymooney/chest-xray-pneumonia\n",
        "!kaggle datasets download -d tawsifurrahman/tuberculosis-tb-chest-xray-dataset"
      ]
    },
    {
      "cell_type": "code",
      "execution_count": null,
      "metadata": {
        "id": "MQpNHMe4cjaX"
      },
      "outputs": [],
      "source": [
        "!unzip chest-xray-pneumonia.zip &> /dev/null\n",
        "!unzip tuberculosis-tb-chest-xray-dataset.zip &> /dev/null"
      ]
    },
    {
      "cell_type": "code",
      "execution_count": null,
      "metadata": {
        "id": "S8DAOd0-coD-"
      },
      "outputs": [],
      "source": [
        " !mv ./TB_Chest_Radiography_Database/Normal ./TB_Chest_Radiography_Database/NORMAL"
      ]
    },
    {
      "cell_type": "code",
      "execution_count": null,
      "metadata": {
        "id": "dA4bACHUcqJT"
      },
      "outputs": [],
      "source": [
        "!mv ./TB_Chest_Radiography_Database/Tuberculosis ./TB_Chest_Radiography_Database/TUBERCULOSIS"
      ]
    },
    {
      "cell_type": "code",
      "execution_count": null,
      "metadata": {
        "id": "bAlYlD49csla"
      },
      "outputs": [],
      "source": [
        "!rm ./TB_Chest_Radiography_Database/Normal.metadata.xlsx ./TB_Chest_Radiography_Database/README.md.txt ./TB_Chest_Radiography_Database/Tuberculosis.metadata.xlsx"
      ]
    },
    {
      "cell_type": "code",
      "execution_count": null,
      "metadata": {
        "id": "L6SBaptucu6y"
      },
      "outputs": [],
      "source": [
        "data_chestxray_dir = \"./chest_xray/chest_xray/\"\n",
        "data_chesttb_dir = \"./TB_Chest_Radiography_Database/\""
      ]
    },
    {
      "cell_type": "code",
      "execution_count": null,
      "metadata": {
        "colab": {
          "base_uri": "https://localhost:8080/"
        },
        "id": "pV1fI3UCcw_5",
        "outputId": "d702298b-3670-443b-db6c-73eaf4a5b5f0"
      },
      "outputs": [
        {
          "output_type": "stream",
          "name": "stdout",
          "text": [
            "Dataset split completed!\n"
          ]
        }
      ],
      "source": [
        "import os\n",
        "import shutil\n",
        "import random\n",
        "\n",
        "# Paths to the original folders\n",
        "classes_tbchest = ['NORMAL', 'TUBERCULOSIS']\n",
        "\n",
        "# Paths for the new folders\n",
        "base_dir_tbchest = 'chest_tb'\n",
        "train_dir = os.path.join(base_dir_tbchest, 'train')\n",
        "val_dir = os.path.join(base_dir_tbchest, 'val')\n",
        "test_dir = os.path.join(base_dir_tbchest, 'test')\n",
        "\n",
        "# Create directories\n",
        "os.makedirs(train_dir, exist_ok=True)\n",
        "os.makedirs(val_dir, exist_ok=True)\n",
        "os.makedirs(test_dir, exist_ok=True)\n",
        "\n",
        "for cls in classes_tbchest:\n",
        "    os.makedirs(os.path.join(train_dir, cls), exist_ok=True)\n",
        "    os.makedirs(os.path.join(val_dir, cls), exist_ok=True)\n",
        "    os.makedirs(os.path.join(test_dir, cls), exist_ok=True)\n",
        "\n",
        "# Split ratio\n",
        "train_ratio = 0.7\n",
        "val_ratio = 0.15\n",
        "test_ratio = 0.15\n",
        "\n",
        "# Function to split data\n",
        "def split_data(class_dir, train_dir, val_dir, test_dir):\n",
        "    files = os.listdir(class_dir)\n",
        "    random.shuffle(files)\n",
        "\n",
        "    train_size = int(len(files) * train_ratio)\n",
        "    val_size = int(len(files) * val_ratio)\n",
        "\n",
        "    train_files = files[:train_size]\n",
        "    val_files = files[train_size:train_size + val_size]\n",
        "    test_files = files[train_size + val_size:]\n",
        "\n",
        "    for file in train_files:\n",
        "        shutil.copy(os.path.join(class_dir, file), os.path.join(train_dir, file))\n",
        "\n",
        "    for file in val_files:\n",
        "        shutil.copy(os.path.join(class_dir, file), os.path.join(val_dir, file))\n",
        "\n",
        "    for file in test_files:\n",
        "        shutil.copy(os.path.join(class_dir, file), os.path.join(test_dir, file))\n",
        "\n",
        "# Split each class\n",
        "for cls in classes_tbchest:\n",
        "    class_dir = os.path.join(data_chesttb_dir, cls)\n",
        "    split_data(class_dir, os.path.join(train_dir, cls), os.path.join(val_dir, cls), os.path.join(test_dir, cls))\n",
        "\n",
        "print(\"Dataset split completed!\")"
      ]
    },
    {
      "cell_type": "code",
      "execution_count": null,
      "metadata": {
        "id": "QsRmdQkWczV3"
      },
      "outputs": [],
      "source": [
        "data_chesttb_dir = \"./chest_tb/\""
      ]
    },
    {
      "cell_type": "code",
      "execution_count": null,
      "metadata": {
        "id": "4soAwLEwdVAa"
      },
      "outputs": [],
      "source": [
        "from typing import Union\n",
        "\n",
        "import torchvision.transforms as T\n",
        "from PIL.Image import Image\n",
        "from torch import Tensor\n",
        "from typing import List, Optional, Tuple, Union\n",
        "\n",
        "\n",
        "class SimCLRViewTransform:\n",
        "    def __init__(\n",
        "        self,\n",
        "        image_size: int = 224,\n",
        "        color_jitter_strength: float = 1,\n",
        "        use_blur: bool = True,\n",
        "        mean: Tuple[float, Optional[float], Optional[float]] = (0.485, 0.456, 0.406),\n",
        "        std: Tuple[float, Optional[float], Optional[float]] = (0.229, 0.224, 0.225),\n",
        "        **kwargs,\n",
        "    ):\n",
        "        self.image_size = image_size\n",
        "        self.color_jitter_strength = color_jitter_strength\n",
        "        self.use_blur = use_blur\n",
        "        self.mean = mean\n",
        "        self.std = std\n",
        "        self.transform = T.Compose(\n",
        "            [\n",
        "                T.RandomResizedCrop(image_size, antialias=True),\n",
        "                T.RandomHorizontalFlip(p=0.5),\n",
        "                T.RandomApply(\n",
        "                    [\n",
        "                        T.ColorJitter(\n",
        "                            0.8 * self.color_jitter_strength,\n",
        "                            0.8 * self.color_jitter_strength,\n",
        "                            0.8 * self.color_jitter_strength,\n",
        "                            0.2 * self.color_jitter_strength,\n",
        "                        )\n",
        "                    ],\n",
        "                    p=0.8,\n",
        "                ),\n",
        "                T.RandomGrayscale(p=0.2),\n",
        "                T.RandomApply(\n",
        "                    [\n",
        "                        T.GaussianBlur(\n",
        "                            kernel_size=image_size // 20 * 2 + 1, sigma=(0.1, 2.0)\n",
        "                        )\n",
        "                    ],\n",
        "                    p=0.5 if self.use_blur else 0.0,\n",
        "                ),\n",
        "                T.Normalize(mean=mean, std=std),\n",
        "            ]\n",
        "        )\n",
        "\n",
        "    def __call__(self, image: Union[Tensor, Image]) -> Tensor:\n",
        "        return self.transform(image)"
      ]
    },
    {
      "cell_type": "code",
      "execution_count": null,
      "metadata": {
        "id": "EbB1L3gEc1hA"
      },
      "outputs": [],
      "source": [
        "import os\n",
        "from PIL import Image\n",
        "import torch\n",
        "import numpy as np\n",
        "import torch.nn as nn\n",
        "from torch.utils.data import Dataset\n",
        "from torchvision import datasets, models, transforms\n",
        "\n",
        "\n",
        "def data_transforms(phase):\n",
        "    # If the phase is TRAIN\n",
        "    if phase == 'train':\n",
        "        # Compose transformations: Convert to Tensor\n",
        "        transform = transforms.Compose([\n",
        "            transforms.Resize((256, 256)),\n",
        "            transforms.ToTensor(),\n",
        "        ])\n",
        "\n",
        "    # If the phase is VAL\n",
        "    if phase == 'val':\n",
        "        # Apply the same transformations as the TRAIN phase\n",
        "        transform = transforms.Compose([\n",
        "            transforms.Resize((256, 256)),\n",
        "            transforms.CenterCrop(256),\n",
        "            transforms.ToTensor(),\n",
        "            transforms.Normalize([0.485, 0.456, 0.406], [0.229, 0.224, 0.225]),\n",
        "        ])\n",
        "\n",
        "    # If the phase is TEST\n",
        "    if phase == 'test':\n",
        "        # Apply the same transformations as the TRAIN phase\n",
        "        transform = transforms.Compose([\n",
        "            transforms.Resize(256),\n",
        "            transforms.CenterCrop(256),\n",
        "            transforms.ToTensor(),\n",
        "            transforms.Normalize([0.485, 0.456, 0.406], [0.229, 0.224, 0.225]),\n",
        "        ])\n",
        "\n",
        "    return transform  # Return the composed transformations\n",
        "\n",
        "image_datasets_chestxray = {x: datasets.ImageFolder(os.path.join(data_chestxray_dir, x), data_transforms(x)) for x in ['train', 'val', 'test']}\n",
        "image_datasets_chesttb = {x: datasets.ImageFolder(os.path.join(data_chesttb_dir, x), data_transforms(x)) for x in ['train', 'val', 'test']}\n",
        "\n",
        "new_class_to_idx_tb = {'NORMAL': 0, 'TUBERCULOSIS': 2}\n",
        "\n",
        "# Function to remap the labels in a dataset\n",
        "def remap_labels(dataset, new_class_to_idx):\n",
        "    # Remap the targets\n",
        "    dataset.targets = [new_class_to_idx[dataset.classes[label]] for label in dataset.targets]\n",
        "\n",
        "    # Update class index in dataset.samples\n",
        "    new_samples = []\n",
        "    for path, label in dataset.samples:\n",
        "        new_samples.append((path, new_class_to_idx[dataset.classes[label]]))\n",
        "    dataset.samples = new_samples\n",
        "\n",
        "    # Update the class_to_idx attribute\n",
        "    dataset.class_to_idx = new_class_to_idx\n",
        "    # Update the classes attribute\n",
        "    dataset.classes = list(new_class_to_idx.keys())\n",
        "\n",
        "# Apply the remapping to the chesttb datasets\n",
        "for phase in ['train', 'val', 'test']:\n",
        "    remap_labels(image_datasets_chesttb[phase], new_class_to_idx_tb)"
      ]
    },
    {
      "cell_type": "code",
      "execution_count": null,
      "metadata": {
        "colab": {
          "base_uri": "https://localhost:8080/"
        },
        "id": "sSoAYndYc4i_",
        "outputId": "5cd8cbb1-9f82-4beb-af64-c3cd66f5e73a"
      },
      "outputs": [
        {
          "output_type": "stream",
          "name": "stdout",
          "text": [
            "{'NORMAL': 0, 'PNEUMONIA': 1}\n",
            "5216\n",
            "(array([0, 1]), array([1341, 3875]))\n"
          ]
        }
      ],
      "source": [
        "print(image_datasets_chestxray['train'].class_to_idx)\n",
        "print(len(image_datasets_chestxray['train']))\n",
        "\n",
        "print(np.unique(image_datasets_chestxray['train'].targets, return_counts=True))"
      ]
    },
    {
      "cell_type": "code",
      "execution_count": null,
      "metadata": {
        "colab": {
          "base_uri": "https://localhost:8080/"
        },
        "id": "3c_PnIi0c6TB",
        "outputId": "d26ef485-f938-4c10-db28-f2fc86569b1c"
      },
      "outputs": [
        {
          "output_type": "stream",
          "name": "stdout",
          "text": [
            "{'NORMAL': 0, 'TUBERCULOSIS': 2}\n",
            "2939\n",
            "(array([0, 2]), array([2450,  489]))\n"
          ]
        }
      ],
      "source": [
        "print(image_datasets_chesttb['train'].class_to_idx)\n",
        "print(len(image_datasets_chesttb['train']))\n",
        "\n",
        "print(np.unique(image_datasets_chesttb['train'].targets, return_counts=True))"
      ]
    },
    {
      "cell_type": "code",
      "execution_count": null,
      "metadata": {
        "id": "F5jTBqgBc8Fx"
      },
      "outputs": [],
      "source": [
        "# Combine the datasets after remapping\n",
        "image_datasets_combined = {\n",
        "    x: torch.utils.data.ConcatDataset([image_datasets_chestxray[x], image_datasets_chesttb[x]])\n",
        "    for x in ['train', 'val', 'test']\n",
        "}"
      ]
    },
    {
      "cell_type": "code",
      "execution_count": null,
      "metadata": {
        "colab": {
          "base_uri": "https://localhost:8080/"
        },
        "id": "C62IvWQ1c-QP",
        "outputId": "228c8a46-a033-4b61-84ae-d81c842646df"
      },
      "outputs": [
        {
          "output_type": "stream",
          "name": "stdout",
          "text": [
            "Class weights: tensor([0.0003, 0.0003, 0.0020])\n",
            "Sample weights: tensor([0.0003, 0.0003, 0.0003,  ..., 0.0020, 0.0020, 0.0020])\n"
          ]
        }
      ],
      "source": [
        "targets_combined = []\n",
        "\n",
        "for dataset in image_datasets_combined['train'].datasets:\n",
        "    targets_combined.extend(dataset.targets)\n",
        "\n",
        "targets_combined = torch.tensor(targets_combined)\n",
        "\n",
        "# Calculate class weights (inverse of class frequency)\n",
        "class_counts = torch.bincount(targets_combined)\n",
        "class_weights = 1.0 / class_counts.float()\n",
        "print(f\"Class weights: {class_weights}\")\n",
        "\n",
        "# Calculate sample weights based on class weights\n",
        "sample_weights = class_weights[targets_combined]\n",
        "print(f\"Sample weights: {sample_weights}\")\n",
        "\n",
        "# Create WeightedRandomSampler\n",
        "sampler = torch.utils.data.WeightedRandomSampler(weights=sample_weights, num_samples=len(sample_weights), replacement=True)"
      ]
    },
    {
      "cell_type": "code",
      "execution_count": null,
      "metadata": {
        "colab": {
          "base_uri": "https://localhost:8080/",
          "height": 427
        },
        "id": "8b8E9oF6dCKj",
        "outputId": "05596245-0da8-4d33-9459-aaa2efcd1852"
      },
      "outputs": [
        {
          "output_type": "display_data",
          "data": {
            "text/plain": [
              "<Figure size 800x400 with 1 Axes>"
            ],
            "image/png": "[encoded data removed]"
          },
          "metadata": {}
        },
        {
          "output_type": "stream",
          "name": "stdout",
          "text": [
            "Class counts before balancing: [3791 3875  489]\n"
          ]
        }
      ],
      "source": [
        "import matplotlib.pyplot as plt\n",
        "\n",
        "# Count the number of instances of each class before balancing\n",
        "class_counts = torch.bincount(targets_combined)\n",
        "\n",
        "# Plot the class distribution\n",
        "plt.figure(figsize=(8, 4))\n",
        "plt.bar(range(len(class_counts)), class_counts.numpy(), tick_label=list(range(len(class_counts))))\n",
        "plt.title(\"Class Distribution Before Balancing\")\n",
        "plt.xlabel(\"Class\")\n",
        "plt.ylabel(\"Number of Samples\")\n",
        "plt.show()\n",
        "\n",
        "print(\"Class counts before balancing:\", class_counts.numpy())"
      ]
    },
    {
      "cell_type": "code",
      "execution_count": null,
      "metadata": {
        "colab": {
          "base_uri": "https://localhost:8080/",
          "height": 427
        },
        "id": "YCE78EohdERk",
        "outputId": "0696d193-54ce-41d2-9de5-8b994831398d"
      },
      "outputs": [
        {
          "output_type": "display_data",
          "data": {
            "text/plain": [
              "<Figure size 800x400 with 1 Axes>"
            ],
            "image/png": "[encoded data removed]"
          },
          "metadata": {}
        },
        {
          "output_type": "stream",
          "name": "stdout",
          "text": [
            "Class counts after balancing: [2645 2677 2678]\n"
          ]
        }
      ],
      "source": [
        "# Simulate sampling\n",
        "num_samples_to_check = 8000  # You can increase this number for better accuracy\n",
        "sampled_indices = list(sampler)[:num_samples_to_check]\n",
        "sampled_targets = targets_combined[sampled_indices]\n",
        "\n",
        "# Count the number of instances of each class after balancing\n",
        "balanced_class_counts = torch.bincount(sampled_targets)\n",
        "\n",
        "# Plot the class distribution after balancing\n",
        "plt.figure(figsize=(8, 4))\n",
        "plt.bar(range(len(balanced_class_counts)), balanced_class_counts.numpy(), tick_label=list(range(len(balanced_class_counts))))\n",
        "plt.title(\"Class Distribution After Balancing\")\n",
        "plt.xlabel(\"Class\")\n",
        "plt.ylabel(\"Number of Samples\")\n",
        "plt.show()\n",
        "\n",
        "print(\"Class counts after balancing:\", balanced_class_counts.numpy())"
      ]
    },
    {
      "cell_type": "code",
      "execution_count": null,
      "metadata": {
        "id": "uhH_37kodFvH"
      },
      "outputs": [],
      "source": [
        "dataloaders = {\n",
        "    'train': torch.utils.data.DataLoader(image_datasets_combined['train'], batch_size = 32, sampler=sampler),\n",
        "    'val': torch.utils.data.DataLoader(image_datasets_combined['val'], batch_size = 32),\n",
        "    'test': torch.utils.data.DataLoader(image_datasets_combined['test'], batch_size = 32)\n",
        "}"
      ]
    },
    {
      "cell_type": "code",
      "execution_count": null,
      "metadata": {
        "id": "zSulsJTsdHTo"
      },
      "outputs": [],
      "source": [
        "# # Check class distribution in your training set\n",
        "# targets = []\n",
        "# for _, labels in dataloaders['train']:\n",
        "#     targets.extend(labels.cpu().numpy())\n",
        "# print(\"Class distribution:\", np.bincount(targets))"
      ]
    },
    {
      "cell_type": "code",
      "execution_count": null,
      "metadata": {
        "id": "kypcBRr5dK7I",
        "colab": {
          "base_uri": "https://localhost:8080/"
        },
        "outputId": "b22047d5-4ab8-48e0-8d4b-5c696f2c6bc4"
      },
      "outputs": [
        {
          "output_type": "execute_result",
          "data": {
            "text/plain": [
              "255"
            ]
          },
          "metadata": {},
          "execution_count": 19
        }
      ],
      "source": [
        "len(dataloaders['train'])"
      ]
    },
    {
      "cell_type": "code",
      "execution_count": null,
      "metadata": {
        "id": "Aaj_1vzolJXZ"
      },
      "outputs": [],
      "source": [
        "class NT_Xent(nn.Module):\n",
        "    def __init__(self, temperature: float = 0.5, **kwargs):\n",
        "        super().__init__()\n",
        "        self.temperature = temperature\n",
        "        self.eps = 1e-8\n",
        "        if abs(self.temperature) < self.eps:\n",
        "            raise ValueError(\n",
        "                \"Illegal temperature: abs({}) < 1e-8\".format(self.temperature)\n",
        "            )\n",
        "\n",
        "    def forward(self, out0: torch.Tensor, out1: torch.Tensor):\n",
        "        device = out0.device\n",
        "        batch_size, _ = out0.shape\n",
        "\n",
        "        out0 = nn.functional.normalize(out0, dim=1)\n",
        "        out1 = nn.functional.normalize(out1, dim=1)\n",
        "\n",
        "        out = torch.cat((out0, out1), dim=0)\n",
        "        sim_matrix = torch.exp(torch.mm(out, out.t().contiguous()) / self.temperature)\n",
        "        mask = (\n",
        "            torch.ones_like(sim_matrix) - torch.eye(2 * batch_size, device=device)\n",
        "        ).bool()\n",
        "        sim_matrix = sim_matrix.masked_select(mask).view(2 * batch_size, -1)\n",
        "        pos_sim = torch.exp(torch.sum(out0 * out1, dim=-1) / self.temperature)\n",
        "        pos_sim = torch.cat((pos_sim, pos_sim), dim=0)\n",
        "        loss = (-torch.log(pos_sim / sim_matrix.sum(dim=-1))).mean()\n",
        "        return loss"
      ]
    },
    {
      "cell_type": "code",
      "execution_count": null,
      "metadata": {
        "id": "9rrHEPUUg1FN"
      },
      "outputs": [],
      "source": [
        "class SimCLR(nn.Module):\n",
        "\n",
        "    def __init__(\n",
        "        self,\n",
        "        backbone: nn.Module,\n",
        "        feature_size: int,\n",
        "        projection_dim: int = 128,\n",
        "        **kwargs\n",
        "    ):\n",
        "        super().__init__()\n",
        "        self.feature_size = feature_size\n",
        "        self.projection_dim = projection_dim\n",
        "        self.backbone = backbone\n",
        "\n",
        "        self.projection_head = nn.Sequential(\n",
        "            nn.Sequential(nn.Linear(self.feature_size, self.feature_size), nn.BatchNorm1d(self.feature_size), nn.ReLU(inplace=True)),\n",
        "            nn.Sequential(nn.Linear(self.feature_size, self.feature_size), nn.BatchNorm1d(self.feature_size), nn.ReLU(inplace=True)),\n",
        "            nn.Sequential(nn.Linear(self.feature_size, self.feature_size), nn.BatchNorm1d(self.feature_size)))\n",
        "\n",
        "        self.encoder = nn.Sequential(self.backbone, self.projection_head)\n",
        "\n",
        "    def forward(self, x0: torch.Tensor, x1: torch.Tensor):\n",
        "        f0 = self.backbone(x0).flatten(start_dim=1)\n",
        "        out0 = self.projection_head(f0)\n",
        "\n",
        "        f1 = self.backbone(x1).flatten(start_dim=1)\n",
        "        out1 = self.projection_head(f1)\n",
        "\n",
        "        return out0, out1"
      ]
    },
    {
      "cell_type": "code",
      "execution_count": null,
      "metadata": {
        "id": "1576BkYyjhfk"
      },
      "outputs": [],
      "source": [
        "backbone = models.resnet50()\n",
        "num_features = backbone.fc.in_features\n",
        "backbone.fc = nn.Identity()\n",
        "\n",
        "model = SimCLR(backbone=backbone, feature_size=num_features, projection_dim=128)\n",
        "\n",
        "device = torch.device(\"cuda:0\" if torch.cuda.is_available() else \"cpu\")\n",
        "model = model.to(device)"
      ]
    },
    {
      "cell_type": "code",
      "execution_count": null,
      "metadata": {
        "id": "9qFB964gk9Yj",
        "colab": {
          "base_uri": "https://localhost:8080/"
        },
        "outputId": "87f2ebaa-9dc3-4466-f530-8d559e7955da"
      },
      "outputs": [
        {
          "output_type": "stream",
          "name": "stdout",
          "text": [
            "Number of Model Parameters: 36109376\n",
            "Memmory Usage: 0.13 GB\n"
          ]
        }
      ],
      "source": [
        "print(f\"Number of Model Parameters: {sum(p.numel() for p in model.parameters())}\")\n",
        "print(f\"Memmory Usage: {torch.cuda.memory_allocated(device) / 1024**3:.2f} GB\")"
      ]
    },
    {
      "cell_type": "code",
      "execution_count": null,
      "metadata": {
        "id": "cloUKWkvk9wx"
      },
      "outputs": [],
      "source": [
        "optimizer = torch.optim.Adam(model.parameters(), lr=0.0001, weight_decay=1e-4)\n",
        "criterion = NT_Xent()\n",
        "ssl_transform = SimCLRViewTransform()"
      ]
    },
    {
      "cell_type": "markdown",
      "metadata": {
        "id": "x3f98iBgmfhl"
      },
      "source": [
        "### SSL Training"
      ]
    },
    {
      "cell_type": "code",
      "execution_count": null,
      "metadata": {
        "colab": {
          "base_uri": "https://localhost:8080/"
        },
        "id": "k9l3VM_7lU1N",
        "outputId": "cdb14357-2096-4231-c671-822600de7742"
      },
      "outputs": [
        {
          "output_type": "stream",
          "name": "stdout",
          "text": [
            "Mounted at /content/drive\n"
          ]
        },
        {
          "output_type": "stream",
          "name": "stderr",
          "text": [
            "<ipython-input-25-7f4f818271a5>:23: FutureWarning: You are using `torch.load` with `weights_only=False` (the current default value), which uses the default pickle module implicitly. It is possible to construct malicious pickle data which will execute arbitrary code during unpickling (See https://github.com/pytorch/pytorch/blob/main/SECURITY.md#untrusted-models for more details). In a future release, the default value for `weights_only` will be flipped to `True`. This limits the functions that could be executed during unpickling. Arbitrary objects will no longer be allowed to be loaded via this mode unless they are explicitly allowlisted by the user via `torch.serialization.add_safe_globals`. We recommend you start setting `weights_only=True` for any use case where you don't have full control of the loaded file. Please open an issue on GitHub for any issues related to this experimental feature.\n",
            "  model.load_state_dict(torch.load('/content/drive/MyDrive/model_ssl_epoch_99.pth'))\n"
          ]
        },
        {
          "output_type": "stream",
          "name": "stdout",
          "text": [
            "Training metrics saved to /content/drive/MyDrive/training_metrics_ssl_training.txt\n"
          ]
        }
      ],
      "source": [
        "import torch\n",
        "import numpy as np\n",
        "from sklearn.metrics import precision_score, recall_score, f1_score\n",
        "from tqdm import tqdm\n",
        "\n",
        "# Mount Google Drive\n",
        "from google.colab import drive\n",
        "drive.mount('/content/drive')\n",
        "\n",
        "# Initialize dictionaries to store metrics\n",
        "metrics = {\n",
        "    'train_loss': [],\n",
        "    'val_loss': [],\n",
        "}\n",
        "\n",
        "# Parameters for Early Stopping\n",
        "early_stopping_patience = 5  # Stop after 5 epochs with no improvement\n",
        "best_val_loss = float('inf')\n",
        "patience_counter = 0\n",
        "\n",
        "num_epochs = 100  # Set a higher number of epochs to allow early stopping\n",
        "\n",
        "model.load_state_dict(torch.load('/content/drive/MyDrive/model_ssl_epoch_99.pth'))\n",
        "\n",
        "for epoch in range(100,num_epochs):\n",
        "    print(f'Epoch {epoch+1}/{num_epochs}')\n",
        "    print('-' * 10)\n",
        "    # Each epoch has a training and validation phase\n",
        "    for phase in ['train', 'val']:\n",
        "        if phase == 'train':\n",
        "            model.train()  # Set model to training mode\n",
        "            dataloader = dataloaders['train']\n",
        "        else:\n",
        "            model.eval()  # Set model to evaluate mode\n",
        "            dataloader = dataloaders['val']\n",
        "\n",
        "        running_loss = 0.0\n",
        "        running_corrects = 0\n",
        "        all_labels = []\n",
        "        all_preds = []\n",
        "\n",
        "        # Iterate over data with tqdm progress bar\n",
        "        for inputs, _ in tqdm(dataloader, desc=f\"{phase.capitalize()} Phase\"):\n",
        "            inputs = inputs.to(device)\n",
        "\n",
        "            # Zero the parameter gradients\n",
        "            optimizer.zero_grad()\n",
        "\n",
        "            aug1 = ssl_transform(inputs)\n",
        "            aug2 = ssl_transform(inputs)\n",
        "\n",
        "            # Forward pass\n",
        "            with torch.set_grad_enabled(phase == 'train'):\n",
        "                out0, out1 = model(aug1, aug2)\n",
        "                loss = criterion(out0, out1)\n",
        "\n",
        "                # Backward pass + optimize only if in training phase\n",
        "                if phase == 'train':\n",
        "                    loss.backward()\n",
        "                    optimizer.step()\n",
        "\n",
        "            # Statistics\n",
        "            running_loss += loss.item() * inputs.size(0)\n",
        "\n",
        "        # Calculate metrics\n",
        "        epoch_loss = running_loss / len(dataloader.dataset)\n",
        "\n",
        "        # Save metrics\n",
        "        metrics[f'{phase}_loss'].append(epoch_loss)\n",
        "\n",
        "        print(f'{phase.capitalize()} Loss: {epoch_loss:.4f}')\n",
        "\n",
        "        # Early stopping check during validation phase\n",
        "        if phase == 'val':\n",
        "            if epoch_loss < best_val_loss:\n",
        "                best_val_loss = epoch_loss\n",
        "                patience_counter = 0  # Reset the counter if improvement occurs\n",
        "                # Save the model weights when improvement occurs\n",
        "                torch.save(model.state_dict(), '/content/drive/MyDrive/best_model_ssl_training.pth')\n",
        "            else:\n",
        "                patience_counter += 1\n",
        "\n",
        "        if epoch % 10 == 0:\n",
        "            # Save the model weights every 10 epochs\n",
        "            torch.save(model.state_dict(), f'/content/drive/MyDrive/model_ssl_epoch_{epoch}.pth')\n",
        "\n",
        "    print()\n",
        "\n",
        "    # # Check for early stopping\n",
        "    # if patience_counter >= early_stopping_patience:\n",
        "    #     print(\"Early stopping triggered\")\n",
        "    #     break\n",
        "\n",
        "# Specify the path to save the file in Google Drive\n",
        "output_path = \"/content/drive/MyDrive/training_metrics_ssl_training.txt\"\n",
        "with open(output_path, \"w\") as f:\n",
        "    for key, values in metrics.items():\n",
        "        f.write(f\"{key}: {values}\\n\")\n",
        "\n",
        "print(f\"Training metrics saved to {output_path}\")"
      ]
    },
    {
      "cell_type": "code",
      "execution_count": null,
      "metadata": {
        "colab": {
          "base_uri": "https://localhost:8080/"
        },
        "id": "8fNxmVLcqSa1",
        "outputId": "a098089f-92d1-41fe-b524-d44745331d2a"
      },
      "outputs": [
        {
          "output_type": "stream",
          "name": "stdout",
          "text": [
            "Drive already mounted at /content/drive; to attempt to forcibly remount, call drive.mount(\"/content/drive\", force_remount=True).\n"
          ]
        },
        {
          "output_type": "stream",
          "name": "stderr",
          "text": [
            "<ipython-input-26-cd531a857b8b>:30: FutureWarning: You are using `torch.load` with `weights_only=False` (the current default value), which uses the default pickle module implicitly. It is possible to construct malicious pickle data which will execute arbitrary code during unpickling (See https://github.com/pytorch/pytorch/blob/main/SECURITY.md#untrusted-models for more details). In a future release, the default value for `weights_only` will be flipped to `True`. This limits the functions that could be executed during unpickling. Arbitrary objects will no longer be allowed to be loaded via this mode unless they are explicitly allowlisted by the user via `torch.serialization.add_safe_globals`. We recommend you start setting `weights_only=True` for any use case where you don't have full control of the loaded file. Please open an issue on GitHub for any issues related to this experimental feature.\n",
            "  checkpoint = torch.load(checkpoint_path)\n"
          ]
        },
        {
          "output_type": "stream",
          "name": "stdout",
          "text": [
            "Resuming training from epoch 30\n"
          ]
        },
        {
          "output_type": "stream",
          "name": "stderr",
          "text": [
            "Linear Eval Epoch 31: 100%|██████████| 255/255 [03:27<00:00,  1.23it/s]\n"
          ]
        },
        {
          "output_type": "stream",
          "name": "stdout",
          "text": [
            "Epoch 31 Loss: 0.0887 Acc: 0.9704 Precision: 0.9706 Recall: 0.9705 F1: 0.9706\n"
          ]
        },
        {
          "output_type": "stream",
          "name": "stderr",
          "text": [
            "Linear Eval Epoch 32: 100%|██████████| 255/255 [03:25<00:00,  1.24it/s]\n"
          ]
        },
        {
          "output_type": "stream",
          "name": "stdout",
          "text": [
            "Epoch 32 Loss: 0.0884 Acc: 0.9671 Precision: 0.9670 Recall: 0.9669 F1: 0.9670\n"
          ]
        },
        {
          "output_type": "stream",
          "name": "stderr",
          "text": [
            "Linear Eval Epoch 33: 100%|██████████| 255/255 [03:25<00:00,  1.24it/s]\n"
          ]
        },
        {
          "output_type": "stream",
          "name": "stdout",
          "text": [
            "Epoch 33 Loss: 0.0858 Acc: 0.9695 Precision: 0.9696 Recall: 0.9695 F1: 0.9695\n"
          ]
        },
        {
          "output_type": "stream",
          "name": "stderr",
          "text": [
            "Linear Eval Epoch 34: 100%|██████████| 255/255 [03:24<00:00,  1.24it/s]\n"
          ]
        },
        {
          "output_type": "stream",
          "name": "stdout",
          "text": [
            "Epoch 34 Loss: 0.0857 Acc: 0.9702 Precision: 0.9705 Recall: 0.9703 F1: 0.9704\n"
          ]
        },
        {
          "output_type": "stream",
          "name": "stderr",
          "text": [
            "Linear Eval Epoch 35: 100%|██████████| 255/255 [03:23<00:00,  1.25it/s]\n"
          ]
        },
        {
          "output_type": "stream",
          "name": "stdout",
          "text": [
            "Epoch 35 Loss: 0.0843 Acc: 0.9685 Precision: 0.9685 Recall: 0.9684 F1: 0.9684\n"
          ]
        },
        {
          "output_type": "stream",
          "name": "stderr",
          "text": [
            "Linear Eval Epoch 36: 100%|██████████| 255/255 [03:22<00:00,  1.26it/s]\n"
          ]
        },
        {
          "output_type": "stream",
          "name": "stdout",
          "text": [
            "Epoch 36 Loss: 0.0728 Acc: 0.9739 Precision: 0.9737 Recall: 0.9737 F1: 0.9737\n"
          ]
        },
        {
          "output_type": "stream",
          "name": "stderr",
          "text": [
            "Linear Eval Epoch 37: 100%|██████████| 255/255 [03:22<00:00,  1.26it/s]\n"
          ]
        },
        {
          "output_type": "stream",
          "name": "stdout",
          "text": [
            "Epoch 37 Loss: 0.0815 Acc: 0.9722 Precision: 0.9720 Recall: 0.9720 F1: 0.9720\n"
          ]
        },
        {
          "output_type": "stream",
          "name": "stderr",
          "text": [
            "Linear Eval Epoch 38: 100%|██████████| 255/255 [03:23<00:00,  1.25it/s]\n"
          ]
        },
        {
          "output_type": "stream",
          "name": "stdout",
          "text": [
            "Epoch 38 Loss: 0.0792 Acc: 0.9720 Precision: 0.9719 Recall: 0.9720 F1: 0.9720\n"
          ]
        },
        {
          "output_type": "stream",
          "name": "stderr",
          "text": [
            "Linear Eval Epoch 39: 100%|██████████| 255/255 [03:25<00:00,  1.24it/s]\n"
          ]
        },
        {
          "output_type": "stream",
          "name": "stdout",
          "text": [
            "Epoch 39 Loss: 0.0858 Acc: 0.9714 Precision: 0.9714 Recall: 0.9714 F1: 0.9714\n"
          ]
        },
        {
          "output_type": "stream",
          "name": "stderr",
          "text": [
            "Linear Eval Epoch 40: 100%|██████████| 255/255 [03:24<00:00,  1.25it/s]\n"
          ]
        },
        {
          "output_type": "stream",
          "name": "stdout",
          "text": [
            "Epoch 40 Loss: 0.0892 Acc: 0.9662 Precision: 0.9663 Recall: 0.9662 F1: 0.9662\n",
            "Checkpoint saved at epoch 40\n"
          ]
        },
        {
          "output_type": "stream",
          "name": "stderr",
          "text": [
            "Linear Eval Epoch 41: 100%|██████████| 255/255 [03:25<00:00,  1.24it/s]\n"
          ]
        },
        {
          "output_type": "stream",
          "name": "stdout",
          "text": [
            "Epoch 41 Loss: 0.0790 Acc: 0.9716 Precision: 0.9717 Recall: 0.9716 F1: 0.9716\n"
          ]
        },
        {
          "output_type": "stream",
          "name": "stderr",
          "text": [
            "Linear Eval Epoch 42: 100%|██████████| 255/255 [03:25<00:00,  1.24it/s]\n"
          ]
        },
        {
          "output_type": "stream",
          "name": "stdout",
          "text": [
            "Epoch 42 Loss: 0.0864 Acc: 0.9700 Precision: 0.9701 Recall: 0.9701 F1: 0.9701\n"
          ]
        },
        {
          "output_type": "stream",
          "name": "stderr",
          "text": [
            "Linear Eval Epoch 43: 100%|██████████| 255/255 [03:26<00:00,  1.23it/s]\n"
          ]
        },
        {
          "output_type": "stream",
          "name": "stdout",
          "text": [
            "Epoch 43 Loss: 0.0920 Acc: 0.9673 Precision: 0.9674 Recall: 0.9673 F1: 0.9674\n"
          ]
        },
        {
          "output_type": "stream",
          "name": "stderr",
          "text": [
            "Linear Eval Epoch 44: 100%|██████████| 255/255 [03:23<00:00,  1.25it/s]\n"
          ]
        },
        {
          "output_type": "stream",
          "name": "stdout",
          "text": [
            "Epoch 44 Loss: 0.0743 Acc: 0.9750 Precision: 0.9750 Recall: 0.9750 F1: 0.9750\n"
          ]
        },
        {
          "output_type": "stream",
          "name": "stderr",
          "text": [
            "Linear Eval Epoch 45: 100%|██████████| 255/255 [03:23<00:00,  1.25it/s]\n"
          ]
        },
        {
          "output_type": "stream",
          "name": "stdout",
          "text": [
            "Epoch 45 Loss: 0.0802 Acc: 0.9718 Precision: 0.9718 Recall: 0.9717 F1: 0.9717\n"
          ]
        },
        {
          "output_type": "stream",
          "name": "stderr",
          "text": [
            "Linear Eval Epoch 46: 100%|██████████| 255/255 [03:24<00:00,  1.25it/s]\n"
          ]
        },
        {
          "output_type": "stream",
          "name": "stdout",
          "text": [
            "Epoch 46 Loss: 0.0714 Acc: 0.9767 Precision: 0.9768 Recall: 0.9768 F1: 0.9768\n"
          ]
        },
        {
          "output_type": "stream",
          "name": "stderr",
          "text": [
            "Linear Eval Epoch 47: 100%|██████████| 255/255 [03:25<00:00,  1.24it/s]\n"
          ]
        },
        {
          "output_type": "stream",
          "name": "stdout",
          "text": [
            "Epoch 47 Loss: 0.0811 Acc: 0.9713 Precision: 0.9716 Recall: 0.9715 F1: 0.9715\n"
          ]
        },
        {
          "output_type": "stream",
          "name": "stderr",
          "text": [
            "Linear Eval Epoch 48: 100%|██████████| 255/255 [03:23<00:00,  1.25it/s]\n"
          ]
        },
        {
          "output_type": "stream",
          "name": "stdout",
          "text": [
            "Epoch 48 Loss: 0.0805 Acc: 0.9707 Precision: 0.9708 Recall: 0.9709 F1: 0.9708\n"
          ]
        },
        {
          "output_type": "stream",
          "name": "stderr",
          "text": [
            "Linear Eval Epoch 49: 100%|██████████| 255/255 [03:23<00:00,  1.26it/s]\n"
          ]
        },
        {
          "output_type": "stream",
          "name": "stdout",
          "text": [
            "Epoch 49 Loss: 0.0772 Acc: 0.9734 Precision: 0.9735 Recall: 0.9735 F1: 0.9735\n"
          ]
        },
        {
          "output_type": "stream",
          "name": "stderr",
          "text": [
            "Linear Eval Epoch 50: 100%|██████████| 255/255 [03:22<00:00,  1.26it/s]\n"
          ]
        },
        {
          "output_type": "stream",
          "name": "stdout",
          "text": [
            "Epoch 50 Loss: 0.0706 Acc: 0.9750 Precision: 0.9750 Recall: 0.9750 F1: 0.9750\n",
            "Checkpoint saved at epoch 50\n"
          ]
        },
        {
          "output_type": "stream",
          "name": "stderr",
          "text": [
            "Linear Eval Epoch 51: 100%|██████████| 255/255 [03:22<00:00,  1.26it/s]\n"
          ]
        },
        {
          "output_type": "stream",
          "name": "stdout",
          "text": [
            "Epoch 51 Loss: 0.0813 Acc: 0.9718 Precision: 0.9717 Recall: 0.9717 F1: 0.9717\n"
          ]
        },
        {
          "output_type": "stream",
          "name": "stderr",
          "text": [
            "Linear Eval Epoch 52: 100%|██████████| 255/255 [03:21<00:00,  1.26it/s]\n"
          ]
        },
        {
          "output_type": "stream",
          "name": "stdout",
          "text": [
            "Epoch 52 Loss: 0.0740 Acc: 0.9723 Precision: 0.9724 Recall: 0.9725 F1: 0.9724\n"
          ]
        },
        {
          "output_type": "stream",
          "name": "stderr",
          "text": [
            "Linear Eval Epoch 53: 100%|██████████| 255/255 [03:24<00:00,  1.25it/s]\n"
          ]
        },
        {
          "output_type": "stream",
          "name": "stdout",
          "text": [
            "Epoch 53 Loss: 0.0721 Acc: 0.9727 Precision: 0.9727 Recall: 0.9726 F1: 0.9726\n"
          ]
        },
        {
          "output_type": "stream",
          "name": "stderr",
          "text": [
            "Linear Eval Epoch 54: 100%|██████████| 255/255 [03:24<00:00,  1.25it/s]\n"
          ]
        },
        {
          "output_type": "stream",
          "name": "stdout",
          "text": [
            "Epoch 54 Loss: 0.0767 Acc: 0.9720 Precision: 0.9723 Recall: 0.9722 F1: 0.9722\n"
          ]
        },
        {
          "output_type": "stream",
          "name": "stderr",
          "text": [
            "Linear Eval Epoch 55: 100%|██████████| 255/255 [03:24<00:00,  1.25it/s]\n"
          ]
        },
        {
          "output_type": "stream",
          "name": "stdout",
          "text": [
            "Epoch 55 Loss: 0.0739 Acc: 0.9746 Precision: 0.9747 Recall: 0.9747 F1: 0.9747\n"
          ]
        },
        {
          "output_type": "stream",
          "name": "stderr",
          "text": [
            "Linear Eval Epoch 56: 100%|██████████| 255/255 [03:22<00:00,  1.26it/s]\n"
          ]
        },
        {
          "output_type": "stream",
          "name": "stdout",
          "text": [
            "Epoch 56 Loss: 0.0806 Acc: 0.9691 Precision: 0.9691 Recall: 0.9691 F1: 0.9691\n"
          ]
        },
        {
          "output_type": "stream",
          "name": "stderr",
          "text": [
            "Linear Eval Epoch 57: 100%|██████████| 255/255 [03:24<00:00,  1.25it/s]\n"
          ]
        },
        {
          "output_type": "stream",
          "name": "stdout",
          "text": [
            "Epoch 57 Loss: 0.0692 Acc: 0.9752 Precision: 0.9753 Recall: 0.9753 F1: 0.9753\n"
          ]
        },
        {
          "output_type": "stream",
          "name": "stderr",
          "text": [
            "Linear Eval Epoch 58: 100%|██████████| 255/255 [03:22<00:00,  1.26it/s]\n"
          ]
        },
        {
          "output_type": "stream",
          "name": "stdout",
          "text": [
            "Epoch 58 Loss: 0.0748 Acc: 0.9720 Precision: 0.9719 Recall: 0.9719 F1: 0.9719\n"
          ]
        },
        {
          "output_type": "stream",
          "name": "stderr",
          "text": [
            "Linear Eval Epoch 59: 100%|██████████| 255/255 [03:25<00:00,  1.24it/s]\n"
          ]
        },
        {
          "output_type": "stream",
          "name": "stdout",
          "text": [
            "Epoch 59 Loss: 0.0765 Acc: 0.9717 Precision: 0.9718 Recall: 0.9719 F1: 0.9718\n"
          ]
        },
        {
          "output_type": "stream",
          "name": "stderr",
          "text": [
            "Linear Eval Epoch 60: 100%|██████████| 255/255 [03:22<00:00,  1.26it/s]\n"
          ]
        },
        {
          "output_type": "stream",
          "name": "stdout",
          "text": [
            "Epoch 60 Loss: 0.0716 Acc: 0.9747 Precision: 0.9748 Recall: 0.9748 F1: 0.9748\n",
            "Checkpoint saved at epoch 60\n"
          ]
        },
        {
          "output_type": "stream",
          "name": "stderr",
          "text": [
            "Linear Eval Epoch 61: 100%|██████████| 255/255 [03:24<00:00,  1.24it/s]\n"
          ]
        },
        {
          "output_type": "stream",
          "name": "stdout",
          "text": [
            "Epoch 61 Loss: 0.0744 Acc: 0.9750 Precision: 0.9750 Recall: 0.9750 F1: 0.9750\n"
          ]
        },
        {
          "output_type": "stream",
          "name": "stderr",
          "text": [
            "Linear Eval Epoch 62: 100%|██████████| 255/255 [03:23<00:00,  1.25it/s]\n"
          ]
        },
        {
          "output_type": "stream",
          "name": "stdout",
          "text": [
            "Epoch 62 Loss: 0.0746 Acc: 0.9703 Precision: 0.9706 Recall: 0.9703 F1: 0.9705\n"
          ]
        },
        {
          "output_type": "stream",
          "name": "stderr",
          "text": [
            "Linear Eval Epoch 63: 100%|██████████| 255/255 [03:27<00:00,  1.23it/s]\n"
          ]
        },
        {
          "output_type": "stream",
          "name": "stdout",
          "text": [
            "Epoch 63 Loss: 0.0723 Acc: 0.9724 Precision: 0.9725 Recall: 0.9725 F1: 0.9725\n"
          ]
        },
        {
          "output_type": "stream",
          "name": "stderr",
          "text": [
            "Linear Eval Epoch 64: 100%|██████████| 255/255 [03:35<00:00,  1.18it/s]\n"
          ]
        },
        {
          "output_type": "stream",
          "name": "stdout",
          "text": [
            "Epoch 64 Loss: 0.0700 Acc: 0.9749 Precision: 0.9749 Recall: 0.9749 F1: 0.9749\n"
          ]
        },
        {
          "output_type": "stream",
          "name": "stderr",
          "text": [
            "Linear Eval Epoch 65: 100%|██████████| 255/255 [03:23<00:00,  1.25it/s]\n"
          ]
        },
        {
          "output_type": "stream",
          "name": "stdout",
          "text": [
            "Epoch 65 Loss: 0.0714 Acc: 0.9739 Precision: 0.9738 Recall: 0.9739 F1: 0.9738\n"
          ]
        },
        {
          "output_type": "stream",
          "name": "stderr",
          "text": [
            "Linear Eval Epoch 66: 100%|██████████| 255/255 [03:23<00:00,  1.25it/s]\n"
          ]
        },
        {
          "output_type": "stream",
          "name": "stdout",
          "text": [
            "Epoch 66 Loss: 0.0714 Acc: 0.9758 Precision: 0.9759 Recall: 0.9758 F1: 0.9758\n"
          ]
        },
        {
          "output_type": "stream",
          "name": "stderr",
          "text": [
            "Linear Eval Epoch 67: 100%|██████████| 255/255 [03:22<00:00,  1.26it/s]\n"
          ]
        },
        {
          "output_type": "stream",
          "name": "stdout",
          "text": [
            "Epoch 67 Loss: 0.0743 Acc: 0.9731 Precision: 0.9731 Recall: 0.9732 F1: 0.9731\n"
          ]
        },
        {
          "output_type": "stream",
          "name": "stderr",
          "text": [
            "Linear Eval Epoch 68: 100%|██████████| 255/255 [03:23<00:00,  1.25it/s]\n"
          ]
        },
        {
          "output_type": "stream",
          "name": "stdout",
          "text": [
            "Epoch 68 Loss: 0.0698 Acc: 0.9756 Precision: 0.9756 Recall: 0.9754 F1: 0.9755\n"
          ]
        },
        {
          "output_type": "stream",
          "name": "stderr",
          "text": [
            "Linear Eval Epoch 69: 100%|██████████| 255/255 [03:21<00:00,  1.26it/s]\n"
          ]
        },
        {
          "output_type": "stream",
          "name": "stdout",
          "text": [
            "Epoch 69 Loss: 0.0648 Acc: 0.9768 Precision: 0.9768 Recall: 0.9768 F1: 0.9768\n"
          ]
        },
        {
          "output_type": "stream",
          "name": "stderr",
          "text": [
            "Linear Eval Epoch 70: 100%|██████████| 255/255 [03:23<00:00,  1.25it/s]\n"
          ]
        },
        {
          "output_type": "stream",
          "name": "stdout",
          "text": [
            "Epoch 70 Loss: 0.0707 Acc: 0.9730 Precision: 0.9732 Recall: 0.9730 F1: 0.9731\n",
            "Checkpoint saved at epoch 70\n"
          ]
        },
        {
          "output_type": "stream",
          "name": "stderr",
          "text": [
            "Linear Eval Epoch 71: 100%|██████████| 255/255 [03:23<00:00,  1.26it/s]\n"
          ]
        },
        {
          "output_type": "stream",
          "name": "stdout",
          "text": [
            "Epoch 71 Loss: 0.0636 Acc: 0.9767 Precision: 0.9766 Recall: 0.9765 F1: 0.9765\n"
          ]
        },
        {
          "output_type": "stream",
          "name": "stderr",
          "text": [
            "Linear Eval Epoch 72: 100%|██████████| 255/255 [03:23<00:00,  1.25it/s]\n"
          ]
        },
        {
          "output_type": "stream",
          "name": "stdout",
          "text": [
            "Epoch 72 Loss: 0.0770 Acc: 0.9701 Precision: 0.9702 Recall: 0.9702 F1: 0.9702\n"
          ]
        },
        {
          "output_type": "stream",
          "name": "stderr",
          "text": [
            "Linear Eval Epoch 73: 100%|██████████| 255/255 [03:23<00:00,  1.25it/s]\n"
          ]
        },
        {
          "output_type": "stream",
          "name": "stdout",
          "text": [
            "Epoch 73 Loss: 0.0661 Acc: 0.9766 Precision: 0.9767 Recall: 0.9767 F1: 0.9767\n"
          ]
        },
        {
          "output_type": "stream",
          "name": "stderr",
          "text": [
            "Linear Eval Epoch 74: 100%|██████████| 255/255 [03:22<00:00,  1.26it/s]\n"
          ]
        },
        {
          "output_type": "stream",
          "name": "stdout",
          "text": [
            "Epoch 74 Loss: 0.0742 Acc: 0.9730 Precision: 0.9730 Recall: 0.9730 F1: 0.9730\n"
          ]
        },
        {
          "output_type": "stream",
          "name": "stderr",
          "text": [
            "Linear Eval Epoch 75: 100%|██████████| 255/255 [03:22<00:00,  1.26it/s]\n"
          ]
        },
        {
          "output_type": "stream",
          "name": "stdout",
          "text": [
            "Epoch 75 Loss: 0.0688 Acc: 0.9757 Precision: 0.9759 Recall: 0.9758 F1: 0.9759\n"
          ]
        },
        {
          "output_type": "stream",
          "name": "stderr",
          "text": [
            "Linear Eval Epoch 76: 100%|██████████| 255/255 [03:21<00:00,  1.26it/s]\n"
          ]
        },
        {
          "output_type": "stream",
          "name": "stdout",
          "text": [
            "Epoch 76 Loss: 0.0691 Acc: 0.9750 Precision: 0.9749 Recall: 0.9749 F1: 0.9749\n"
          ]
        },
        {
          "output_type": "stream",
          "name": "stderr",
          "text": [
            "Linear Eval Epoch 77: 100%|██████████| 255/255 [03:21<00:00,  1.26it/s]\n"
          ]
        },
        {
          "output_type": "stream",
          "name": "stdout",
          "text": [
            "Epoch 77 Loss: 0.0644 Acc: 0.9776 Precision: 0.9774 Recall: 0.9774 F1: 0.9774\n"
          ]
        },
        {
          "output_type": "stream",
          "name": "stderr",
          "text": [
            "Linear Eval Epoch 78: 100%|██████████| 255/255 [03:21<00:00,  1.27it/s]\n"
          ]
        },
        {
          "output_type": "stream",
          "name": "stdout",
          "text": [
            "Epoch 78 Loss: 0.0660 Acc: 0.9782 Precision: 0.9781 Recall: 0.9781 F1: 0.9781\n"
          ]
        },
        {
          "output_type": "stream",
          "name": "stderr",
          "text": [
            "Linear Eval Epoch 79: 100%|██████████| 255/255 [03:20<00:00,  1.27it/s]\n"
          ]
        },
        {
          "output_type": "stream",
          "name": "stdout",
          "text": [
            "Epoch 79 Loss: 0.0645 Acc: 0.9762 Precision: 0.9762 Recall: 0.9762 F1: 0.9762\n"
          ]
        },
        {
          "output_type": "stream",
          "name": "stderr",
          "text": [
            "Linear Eval Epoch 80: 100%|██████████| 255/255 [03:21<00:00,  1.27it/s]\n"
          ]
        },
        {
          "output_type": "stream",
          "name": "stdout",
          "text": [
            "Epoch 80 Loss: 0.0613 Acc: 0.9801 Precision: 0.9801 Recall: 0.9802 F1: 0.9801\n",
            "Checkpoint saved at epoch 80\n"
          ]
        },
        {
          "output_type": "stream",
          "name": "stderr",
          "text": [
            "Linear Eval Epoch 81: 100%|██████████| 255/255 [03:23<00:00,  1.25it/s]\n"
          ]
        },
        {
          "output_type": "stream",
          "name": "stdout",
          "text": [
            "Epoch 81 Loss: 0.0737 Acc: 0.9713 Precision: 0.9714 Recall: 0.9714 F1: 0.9714\n"
          ]
        },
        {
          "output_type": "stream",
          "name": "stderr",
          "text": [
            "Linear Eval Epoch 82: 100%|██████████| 255/255 [03:22<00:00,  1.26it/s]\n"
          ]
        },
        {
          "output_type": "stream",
          "name": "stdout",
          "text": [
            "Epoch 82 Loss: 0.0678 Acc: 0.9761 Precision: 0.9763 Recall: 0.9763 F1: 0.9763\n"
          ]
        },
        {
          "output_type": "stream",
          "name": "stderr",
          "text": [
            "Linear Eval Epoch 83: 100%|██████████| 255/255 [03:22<00:00,  1.26it/s]\n"
          ]
        },
        {
          "output_type": "stream",
          "name": "stdout",
          "text": [
            "Epoch 83 Loss: 0.0671 Acc: 0.9751 Precision: 0.9752 Recall: 0.9752 F1: 0.9752\n"
          ]
        },
        {
          "output_type": "stream",
          "name": "stderr",
          "text": [
            "Linear Eval Epoch 84: 100%|██████████| 255/255 [03:21<00:00,  1.26it/s]\n"
          ]
        },
        {
          "output_type": "stream",
          "name": "stdout",
          "text": [
            "Epoch 84 Loss: 0.0671 Acc: 0.9744 Precision: 0.9745 Recall: 0.9744 F1: 0.9744\n"
          ]
        },
        {
          "output_type": "stream",
          "name": "stderr",
          "text": [
            "Linear Eval Epoch 85: 100%|██████████| 255/255 [03:21<00:00,  1.26it/s]\n"
          ]
        },
        {
          "output_type": "stream",
          "name": "stdout",
          "text": [
            "Epoch 85 Loss: 0.0668 Acc: 0.9768 Precision: 0.9768 Recall: 0.9767 F1: 0.9767\n"
          ]
        },
        {
          "output_type": "stream",
          "name": "stderr",
          "text": [
            "Linear Eval Epoch 86: 100%|██████████| 255/255 [03:21<00:00,  1.26it/s]\n"
          ]
        },
        {
          "output_type": "stream",
          "name": "stdout",
          "text": [
            "Epoch 86 Loss: 0.0688 Acc: 0.9740 Precision: 0.9741 Recall: 0.9742 F1: 0.9742\n"
          ]
        },
        {
          "output_type": "stream",
          "name": "stderr",
          "text": [
            "Linear Eval Epoch 87: 100%|██████████| 255/255 [03:22<00:00,  1.26it/s]\n"
          ]
        },
        {
          "output_type": "stream",
          "name": "stdout",
          "text": [
            "Epoch 87 Loss: 0.0594 Acc: 0.9795 Precision: 0.9793 Recall: 0.9794 F1: 0.9793\n"
          ]
        },
        {
          "output_type": "stream",
          "name": "stderr",
          "text": [
            "Linear Eval Epoch 88: 100%|██████████| 255/255 [03:21<00:00,  1.26it/s]\n"
          ]
        },
        {
          "output_type": "stream",
          "name": "stdout",
          "text": [
            "Epoch 88 Loss: 0.0708 Acc: 0.9740 Precision: 0.9740 Recall: 0.9740 F1: 0.9740\n"
          ]
        },
        {
          "output_type": "stream",
          "name": "stderr",
          "text": [
            "Linear Eval Epoch 89: 100%|██████████| 255/255 [03:21<00:00,  1.26it/s]\n"
          ]
        },
        {
          "output_type": "stream",
          "name": "stdout",
          "text": [
            "Epoch 89 Loss: 0.0645 Acc: 0.9777 Precision: 0.9778 Recall: 0.9779 F1: 0.9778\n"
          ]
        },
        {
          "output_type": "stream",
          "name": "stderr",
          "text": [
            "Linear Eval Epoch 90: 100%|██████████| 255/255 [03:23<00:00,  1.25it/s]\n"
          ]
        },
        {
          "output_type": "stream",
          "name": "stdout",
          "text": [
            "Epoch 90 Loss: 0.0626 Acc: 0.9787 Precision: 0.9787 Recall: 0.9788 F1: 0.9788\n",
            "Checkpoint saved at epoch 90\n"
          ]
        },
        {
          "output_type": "stream",
          "name": "stderr",
          "text": [
            "Linear Eval Epoch 91: 100%|██████████| 255/255 [03:24<00:00,  1.25it/s]\n"
          ]
        },
        {
          "output_type": "stream",
          "name": "stdout",
          "text": [
            "Epoch 91 Loss: 0.0604 Acc: 0.9788 Precision: 0.9791 Recall: 0.9790 F1: 0.9791\n"
          ]
        },
        {
          "output_type": "stream",
          "name": "stderr",
          "text": [
            "Linear Eval Epoch 92: 100%|██████████| 255/255 [03:24<00:00,  1.25it/s]\n"
          ]
        },
        {
          "output_type": "stream",
          "name": "stdout",
          "text": [
            "Epoch 92 Loss: 0.0635 Acc: 0.9776 Precision: 0.9776 Recall: 0.9776 F1: 0.9775\n"
          ]
        },
        {
          "output_type": "stream",
          "name": "stderr",
          "text": [
            "Linear Eval Epoch 93: 100%|██████████| 255/255 [03:23<00:00,  1.26it/s]\n"
          ]
        },
        {
          "output_type": "stream",
          "name": "stdout",
          "text": [
            "Epoch 93 Loss: 0.0641 Acc: 0.9757 Precision: 0.9757 Recall: 0.9757 F1: 0.9757\n"
          ]
        },
        {
          "output_type": "stream",
          "name": "stderr",
          "text": [
            "Linear Eval Epoch 94: 100%|██████████| 255/255 [03:23<00:00,  1.26it/s]\n"
          ]
        },
        {
          "output_type": "stream",
          "name": "stdout",
          "text": [
            "Epoch 94 Loss: 0.0611 Acc: 0.9801 Precision: 0.9801 Recall: 0.9802 F1: 0.9801\n"
          ]
        },
        {
          "output_type": "stream",
          "name": "stderr",
          "text": [
            "Linear Eval Epoch 95: 100%|██████████| 255/255 [03:21<00:00,  1.27it/s]\n"
          ]
        },
        {
          "output_type": "stream",
          "name": "stdout",
          "text": [
            "Epoch 95 Loss: 0.0650 Acc: 0.9740 Precision: 0.9741 Recall: 0.9741 F1: 0.9741\n"
          ]
        },
        {
          "output_type": "stream",
          "name": "stderr",
          "text": [
            "Linear Eval Epoch 96: 100%|██████████| 255/255 [03:21<00:00,  1.26it/s]\n"
          ]
        },
        {
          "output_type": "stream",
          "name": "stdout",
          "text": [
            "Epoch 96 Loss: 0.0543 Acc: 0.9830 Precision: 0.9830 Recall: 0.9830 F1: 0.9830\n"
          ]
        },
        {
          "output_type": "stream",
          "name": "stderr",
          "text": [
            "Linear Eval Epoch 97: 100%|██████████| 255/255 [03:24<00:00,  1.25it/s]\n"
          ]
        },
        {
          "output_type": "stream",
          "name": "stdout",
          "text": [
            "Epoch 97 Loss: 0.0588 Acc: 0.9815 Precision: 0.9814 Recall: 0.9814 F1: 0.9814\n"
          ]
        },
        {
          "output_type": "stream",
          "name": "stderr",
          "text": [
            "Linear Eval Epoch 98: 100%|██████████| 255/255 [03:25<00:00,  1.24it/s]\n"
          ]
        },
        {
          "output_type": "stream",
          "name": "stdout",
          "text": [
            "Epoch 98 Loss: 0.0602 Acc: 0.9785 Precision: 0.9787 Recall: 0.9787 F1: 0.9787\n"
          ]
        },
        {
          "output_type": "stream",
          "name": "stderr",
          "text": [
            "Linear Eval Epoch 99: 100%|██████████| 255/255 [03:24<00:00,  1.25it/s]\n"
          ]
        },
        {
          "output_type": "stream",
          "name": "stdout",
          "text": [
            "Epoch 99 Loss: 0.0643 Acc: 0.9765 Precision: 0.9765 Recall: 0.9764 F1: 0.9765\n"
          ]
        },
        {
          "output_type": "stream",
          "name": "stderr",
          "text": [
            "Linear Eval Epoch 100: 100%|██████████| 255/255 [03:22<00:00,  1.26it/s]\n"
          ]
        },
        {
          "output_type": "stream",
          "name": "stdout",
          "text": [
            "Epoch 100 Loss: 0.0602 Acc: 0.9790 Precision: 0.9790 Recall: 0.9791 F1: 0.9790\n",
            "Checkpoint saved at epoch 100\n"
          ]
        }
      ],
      "source": [
        "import torch\n",
        "import torch.nn as nn\n",
        "import torch.optim as optim\n",
        "import os\n",
        "import pickle\n",
        "from tqdm import tqdm\n",
        "from sklearn.metrics import precision_score, recall_score, f1_score\n",
        "from google.colab import drive\n",
        "\n",
        "# Mount Google Drive\n",
        "drive.mount('/content/drive')\n",
        "\n",
        "# Directory to save model checkpoints and metrics\n",
        "checkpoint_dir = '/content/drive/MyDrive'\n",
        "metrics_path = '/content/drive/MyDrive/metrics_history.pkl'\n",
        "os.makedirs(checkpoint_dir, exist_ok=True)\n",
        "\n",
        "# Initialize the model (ensure you have defined 'model' correctly before this step)\n",
        "num_classes = 3  # Update as per your dataset\n",
        "model.backbone.fc = nn.Linear(num_features, num_classes)\n",
        "model = model.backbone.to(device)\n",
        "\n",
        "# Define loss function and optimizer for the linear classifier\n",
        "criterion = nn.CrossEntropyLoss()\n",
        "optimizer = torch.optim.Adam(model.fc.parameters(), lr=0.001)\n",
        "\n",
        "# Commented code for loading from a checkpoint (uncomment when needed)\n",
        "checkpoint_path = os.path.join(checkpoint_dir, 'checkpoint_epoch_30.pth')\n",
        "if os.path.exists(checkpoint_path):\n",
        "    checkpoint = torch.load(checkpoint_path)\n",
        "    model.load_state_dict(checkpoint['model_state_dict'])\n",
        "    optimizer.load_state_dict(checkpoint['optimizer_state_dict'])\n",
        "    start_epoch = checkpoint['epoch'] + 1\n",
        "    print(f\"Resuming training from epoch {start_epoch}\")\n",
        "else:\n",
        "    start_epoch = 0\n",
        "\n",
        "# Initialize metrics history\n",
        "if os.path.exists(metrics_path):\n",
        "    with open(metrics_path, 'rb') as f:\n",
        "        metrics = pickle.load(f)\n",
        "else:\n",
        "    metrics = {'loss': [], 'accuracy': [], 'precision': [], 'recall': [], 'f1': []}\n",
        "\n",
        "# Training loop with checkpoint saving every 10th epoch\n",
        "num_epochs_linear = 100  # Adjust as needed\n",
        "\n",
        "for epoch in range(30,num_epochs_linear):\n",
        "    model.train()\n",
        "    running_loss = 0.0\n",
        "    running_corrects = 0\n",
        "    all_preds = []\n",
        "    all_labels = []\n",
        "\n",
        "    # No tqdm here for individual batches\n",
        "    for inputs, labels in tqdm(dataloaders['train'], desc=f\"Linear Eval Epoch {epoch+1}\"):\n",
        "        inputs = inputs.to(device)\n",
        "        labels = labels.to(device)\n",
        "\n",
        "        optimizer.zero_grad()\n",
        "\n",
        "        outputs = model(inputs)\n",
        "        loss = criterion(outputs, labels)\n",
        "        loss.backward()\n",
        "        optimizer.step()\n",
        "\n",
        "        _, preds = torch.max(outputs, 1)\n",
        "        running_loss += loss.item() * inputs.size(0)\n",
        "        running_corrects += torch.sum(preds == labels.data)\n",
        "\n",
        "        all_preds.extend(preds.cpu().numpy())\n",
        "        all_labels.extend(labels.cpu().numpy())\n",
        "\n",
        "    epoch_loss = running_loss / len(dataloaders['train'].dataset)\n",
        "    epoch_acc = running_corrects.double() / len(dataloaders['train'].dataset)\n",
        "\n",
        "    # Calculate precision, recall, and F1 score\n",
        "    epoch_precision = precision_score(all_labels, all_preds, average='macro')\n",
        "    epoch_recall = recall_score(all_labels, all_preds, average='macro')\n",
        "    epoch_f1 = f1_score(all_labels, all_preds, average='macro')\n",
        "\n",
        "    print(f\"Epoch {epoch+1} Loss: {epoch_loss:.4f} Acc: {epoch_acc:.4f} Precision: {epoch_precision:.4f} Recall: {epoch_recall:.4f} F1: {epoch_f1:.4f}\")\n",
        "\n",
        "    # Save metrics every 10th epoch\n",
        "    if (epoch + 1) % 10 == 0:\n",
        "        # Append metrics to the history\n",
        "        metrics['loss'].append(epoch_loss)\n",
        "        metrics['accuracy'].append(epoch_acc.item())\n",
        "        metrics['precision'].append(epoch_precision)\n",
        "        metrics['recall'].append(epoch_recall)\n",
        "        metrics['f1'].append(epoch_f1)\n",
        "\n",
        "        # Save the metrics history\n",
        "        with open(metrics_path, 'wb') as f:\n",
        "            pickle.dump(metrics, f)\n",
        "\n",
        "        # Save the model checkpoint\n",
        "        checkpoint_path = os.path.join(checkpoint_dir, f'checkpoint_epoch_{epoch+1}.pth')\n",
        "        torch.save({\n",
        "            'epoch': epoch,\n",
        "            'model_state_dict': model.state_dict(),\n",
        "            'optimizer_state_dict': optimizer.state_dict(),\n",
        "        }, checkpoint_path)\n",
        "        print(f\"Checkpoint saved at epoch {epoch+1}\")\n"
      ]
    },
    {
      "cell_type": "code",
      "execution_count": 4,
      "metadata": {
        "colab": {
          "base_uri": "https://localhost:8080/",
          "height": 524
        },
        "id": "1-32-lfFPl4D",
        "outputId": "c251c037-a5f4-4b73-cab0-6528a756bba2"
      },
      "outputs": [
        {
          "output_type": "stream",
          "name": "stdout",
          "text": [
            "Mounted at /content/drive\n"
          ]
        },
        {
          "output_type": "display_data",
          "data": {
            "text/plain": [
              "<Figure size 1200x500 with 2 Axes>"
            ],
            "image/png": "[encoded data removed]"
          },
          "metadata": {}
        }
      ],
      "source": [
        "import matplotlib.pyplot as plt\n",
        "import pickle\n",
        "\n",
        "# Mount Google Drive\n",
        "from google.colab import drive\n",
        "drive.mount('/content/drive')\n",
        "\n",
        "metrics_path = '/content/drive/MyDrive/metrics_history.pkl'\n",
        "# Load the saved metrics history\n",
        "with open(metrics_path, 'rb') as f:\n",
        "    metrics = pickle.load(f)\n",
        "\n",
        "# Extract metrics\n",
        "loss_history = metrics['loss']\n",
        "accuracy_history = metrics['accuracy']\n",
        "\n",
        "# Plotting the training loss and accuracy\n",
        "plt.figure(figsize=(12, 5))\n",
        "\n",
        "# Plot Training Loss\n",
        "plt.subplot(1, 2, 1)\n",
        "plt.plot(range(1, len(loss_history) + 1), loss_history, label='Training Loss', color='blue')\n",
        "plt.xlabel('Epochs')\n",
        "plt.ylabel('Loss')\n",
        "plt.title('Training Loss Over Epochs')\n",
        "plt.legend()\n",
        "\n",
        "# Plot Training Accuracy\n",
        "plt.subplot(1, 2, 2)\n",
        "plt.plot(range(1, len(accuracy_history) + 1), accuracy_history, label='Training Accuracy', color='blue')\n",
        "plt.xlabel('Epochs')\n",
        "plt.ylabel('Accuracy')\n",
        "plt.title('Training Accuracy Over Epochs')\n",
        "plt.legend()\n",
        "\n",
        "plt.tight_layout()\n",
        "plt.show()\n"
      ]
    },
    {
      "cell_type": "code",
      "execution_count": null,
      "metadata": {
        "colab": {
          "base_uri": "https://localhost:8080/",
          "height": 545
        },
        "id": "UwwdyEQFnUVi",
        "outputId": "849a4c42-469d-446e-d63b-fc893fc5d707"
      },
      "outputs": [
        {
          "output_type": "display_data",
          "data": {
            "text/plain": [
              "<Figure size 1000x600 with 1 Axes>"
            ],
            "image/png": "[encoded data removed]"
          },
          "metadata": {}
        }
      ],
      "source": [
        "import matplotlib.pyplot as plt\n",
        "\n",
        "# Assuming you've also saved precision, recall, and F1-score metrics\n",
        "# If not, ensure these metrics are included when saving during training\n",
        "\n",
        "# Load the saved metrics history\n",
        "with open(metrics_path, 'rb') as f:\n",
        "    metrics = pickle.load(f)\n",
        "\n",
        "# Extract metrics\n",
        "accuracy_history = metrics['accuracy']\n",
        "precision_history = metrics['precision']\n",
        "recall_history = metrics['recall']\n",
        "f1_history = metrics['f1']\n",
        "\n",
        "# Extract the final epoch's values\n",
        "final_accuracy = accuracy_history[-1]\n",
        "final_precision = precision_history[-1]\n",
        "final_recall = recall_history[-1]\n",
        "final_f1 = f1_history[-1]\n",
        "\n",
        "# Plotting accuracy, precision, recall, and F1-score\n",
        "plt.figure(figsize=(10, 6))\n",
        "\n",
        "metrics = ['Accuracy', 'Precision', 'Recall', 'F1-Score']\n",
        "scores = [final_accuracy, final_precision, final_recall, final_f1]  # Only plot the last epoch's values\n",
        "\n",
        "# Plot the metrics\n",
        "plt.bar(metrics, scores, color=['lightblue', 'skyblue', 'lightgreen', 'salmon'])\n",
        "plt.ylabel('Score')\n",
        "plt.ylim([0, 1])  # Assuming the metrics are normalized (between 0 and 1)\n",
        "plt.title('Training Evaluation Metrics at Final Epoch')\n",
        "\n",
        "plt.show()\n"
      ]
    }
  ],
  "metadata": {
    "accelerator": "GPU",
    "colab": {
      "gpuType": "T4",
      "provenance": []
    },
    "kernelspec": {
      "display_name": "Python 3",
      "name": "python3"
    },
    "language_info": {
      "name": "python"
    }
  },
  "nbformat": 4,
  "nbformat_minor": 0
}