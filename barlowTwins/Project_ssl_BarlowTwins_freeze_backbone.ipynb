{
  "cells": [
    {
      "cell_type": "code",
      "execution_count": 1,
      "metadata": {
        "colab": {
          "base_uri": "https://localhost:8080/"
        },
        "id": "Bv-8ajWoYM9i",
        "outputId": "cb1146e1-3907-46cd-ff09-2ee96245cecc"
      },
      "outputs": [
        {
          "name": "stdout",
          "output_type": "stream",
          "text": [
            "Requirement already satisfied: kaggle in /usr/local/lib/python3.10/dist-packages (1.6.17)\n",
            "Requirement already satisfied: six>=1.10 in /usr/local/lib/python3.10/dist-packages (from kaggle) (1.16.0)\n",
            "Requirement already satisfied: certifi>=2023.7.22 in /usr/local/lib/python3.10/dist-packages (from kaggle) (2024.7.4)\n",
            "Requirement already satisfied: python-dateutil in /usr/local/lib/python3.10/dist-packages (from kaggle) (2.8.2)\n",
            "Requirement already satisfied: requests in /usr/local/lib/python3.10/dist-packages (from kaggle) (2.32.3)\n",
            "Requirement already satisfied: tqdm in /usr/local/lib/python3.10/dist-packages (from kaggle) (4.66.5)\n",
            "Requirement already satisfied: python-slugify in /usr/local/lib/python3.10/dist-packages (from kaggle) (8.0.4)\n",
            "Requirement already satisfied: urllib3 in /usr/local/lib/python3.10/dist-packages (from kaggle) (2.0.7)\n",
            "Requirement already satisfied: bleach in /usr/local/lib/python3.10/dist-packages (from kaggle) (6.1.0)\n",
            "Requirement already satisfied: webencodings in /usr/local/lib/python3.10/dist-packages (from bleach->kaggle) (0.5.1)\n",
            "Requirement already satisfied: text-unidecode>=1.3 in /usr/local/lib/python3.10/dist-packages (from python-slugify->kaggle) (1.3)\n",
            "Requirement already satisfied: charset-normalizer<4,>=2 in /usr/local/lib/python3.10/dist-packages (from requests->kaggle) (3.3.2)\n",
            "Requirement already satisfied: idna<4,>=2.5 in /usr/local/lib/python3.10/dist-packages (from requests->kaggle) (3.7)\n",
            "Dataset URL: https://www.kaggle.com/datasets/paultimothymooney/chest-xray-pneumonia\n",
            "License(s): other\n",
            "Downloading chest-xray-pneumonia.zip to /content\n",
            "100% 2.29G/2.29G [00:16<00:00, 159MB/s]\n",
            "100% 2.29G/2.29G [00:16<00:00, 145MB/s]\n",
            "Dataset URL: https://www.kaggle.com/datasets/tawsifurrahman/tuberculosis-tb-chest-xray-dataset\n",
            "License(s): copyright-authors\n",
            "Downloading tuberculosis-tb-chest-xray-dataset.zip to /content\n",
            " 95% 633M/663M [00:05<00:00, 96.7MB/s]\n",
            "100% 663M/663M [00:05<00:00, 120MB/s] \n"
          ]
        }
      ],
      "source": [
        "!pip install kaggle\n",
        "!mkdir ~/.kaggle\n",
        "!kaggle datasets download -d paultimothymooney/chest-xray-pneumonia\n",
        "!kaggle datasets download -d tawsifurrahman/tuberculosis-tb-chest-xray-dataset"
      ]
    },
    {
      "cell_type": "code",
      "execution_count": 2,
      "metadata": {
        "id": "IgXxqczPYdZM"
      },
      "outputs": [],
      "source": [
        "!unzip chest-xray-pneumonia.zip &> /dev/null\n",
        "!unzip tuberculosis-tb-chest-xray-dataset.zip &> /dev/null"
      ]
    },
    {
      "cell_type": "code",
      "execution_count": 3,
      "metadata": {
        "id": "E7qVpqocYgFo"
      },
      "outputs": [],
      "source": [
        " !mv ./TB_Chest_Radiography_Database/Normal ./TB_Chest_Radiography_Database/NORMAL"
      ]
    },
    {
      "cell_type": "code",
      "execution_count": 4,
      "metadata": {
        "id": "PDESZofBYiO7"
      },
      "outputs": [],
      "source": [
        "!mv ./TB_Chest_Radiography_Database/Tuberculosis ./TB_Chest_Radiography_Database/TUBERCULOSIS"
      ]
    },
    {
      "cell_type": "code",
      "execution_count": 5,
      "metadata": {
        "id": "oHSVmMRlYkkN"
      },
      "outputs": [],
      "source": [
        "!rm ./TB_Chest_Radiography_Database/Normal.metadata.xlsx ./TB_Chest_Radiography_Database/README.md.txt ./TB_Chest_Radiography_Database/Tuberculosis.metadata.xlsx"
      ]
    },
    {
      "cell_type": "code",
      "execution_count": 6,
      "metadata": {
        "id": "iQpPLDo0YnfD"
      },
      "outputs": [],
      "source": [
        "data_chestxray_dir = \"./chest_xray/chest_xray/\"\n",
        "data_chesttb_dir = \"./TB_Chest_Radiography_Database/\""
      ]
    },
    {
      "cell_type": "code",
      "execution_count": 7,
      "metadata": {
        "colab": {
          "base_uri": "https://localhost:8080/"
        },
        "id": "A0x4-0GqYpk_",
        "outputId": "f270c496-cda3-420f-8eeb-e54db7a90f68"
      },
      "outputs": [
        {
          "name": "stdout",
          "output_type": "stream",
          "text": [
            "Dataset split completed!\n"
          ]
        }
      ],
      "source": [
        "import os\n",
        "import shutil\n",
        "import random\n",
        "\n",
        "# Paths to the original folders\n",
        "classes_tbchest = ['NORMAL', 'TUBERCULOSIS']\n",
        "\n",
        "# Paths for the new folders\n",
        "base_dir_tbchest = 'chest_tb'\n",
        "train_dir = os.path.join(base_dir_tbchest, 'train')\n",
        "val_dir = os.path.join(base_dir_tbchest, 'val')\n",
        "test_dir = os.path.join(base_dir_tbchest, 'test')\n",
        "\n",
        "# Create directories\n",
        "os.makedirs(train_dir, exist_ok=True)\n",
        "os.makedirs(val_dir, exist_ok=True)\n",
        "os.makedirs(test_dir, exist_ok=True)\n",
        "\n",
        "for cls in classes_tbchest:\n",
        "    os.makedirs(os.path.join(train_dir, cls), exist_ok=True)\n",
        "    os.makedirs(os.path.join(val_dir, cls), exist_ok=True)\n",
        "    os.makedirs(os.path.join(test_dir, cls), exist_ok=True)\n",
        "\n",
        "# Split ratio\n",
        "train_ratio = 0.7\n",
        "val_ratio = 0.15\n",
        "test_ratio = 0.15\n",
        "\n",
        "# Function to split data\n",
        "def split_data(class_dir, train_dir, val_dir, test_dir):\n",
        "    files = os.listdir(class_dir)\n",
        "    random.shuffle(files)\n",
        "\n",
        "    train_size = int(len(files) * train_ratio)\n",
        "    val_size = int(len(files) * val_ratio)\n",
        "\n",
        "    train_files = files[:train_size]\n",
        "    val_files = files[train_size:train_size + val_size]\n",
        "    test_files = files[train_size + val_size:]\n",
        "\n",
        "    for file in train_files:\n",
        "        shutil.copy(os.path.join(class_dir, file), os.path.join(train_dir, file))\n",
        "\n",
        "    for file in val_files:\n",
        "        shutil.copy(os.path.join(class_dir, file), os.path.join(val_dir, file))\n",
        "\n",
        "    for file in test_files:\n",
        "        shutil.copy(os.path.join(class_dir, file), os.path.join(test_dir, file))\n",
        "\n",
        "# Split each class\n",
        "for cls in classes_tbchest:\n",
        "    class_dir = os.path.join(data_chesttb_dir, cls)\n",
        "    split_data(class_dir, os.path.join(train_dir, cls), os.path.join(val_dir, cls), os.path.join(test_dir, cls))\n",
        "\n",
        "print(\"Dataset split completed!\")"
      ]
    },
    {
      "cell_type": "code",
      "execution_count": 8,
      "metadata": {
        "id": "C3cUxtOEYreQ"
      },
      "outputs": [],
      "source": [
        "data_chesttb_dir = \"./chest_tb/\""
      ]
    },
    {
      "cell_type": "code",
      "execution_count": 9,
      "metadata": {
        "id": "6936gDjMYt2z"
      },
      "outputs": [],
      "source": [
        "from typing import Union\n",
        "import torchvision.transforms as T\n",
        "from PIL.Image import Image\n",
        "from torch import Tensor\n",
        "from typing import List, Optional, Tuple, Union\n",
        "\n",
        "\n",
        "class SimCLRViewTransform:\n",
        "    def __init__(\n",
        "        self,\n",
        "        image_size: int = 224,\n",
        "        color_jitter_strength: float = 1,\n",
        "        use_blur: bool = True,\n",
        "        mean: Tuple[float, Optional[float], Optional[float]] = (0.485, 0.456, 0.406),\n",
        "        std: Tuple[float, Optional[float], Optional[float]] = (0.229, 0.224, 0.225),\n",
        "        **kwargs,\n",
        "    ):\n",
        "        self.image_size = image_size\n",
        "        self.color_jitter_strength = color_jitter_strength\n",
        "        self.use_blur = use_blur\n",
        "        self.mean = mean\n",
        "        self.std = std\n",
        "        self.transform = T.Compose(\n",
        "            [\n",
        "                T.RandomResizedCrop(image_size, antialias=True),\n",
        "                T.RandomHorizontalFlip(p=0.5),\n",
        "                T.RandomApply(\n",
        "                    [\n",
        "                        T.ColorJitter(\n",
        "                            0.8 * self.color_jitter_strength,\n",
        "                            0.8 * self.color_jitter_strength,\n",
        "                            0.8 * self.color_jitter_strength,\n",
        "                            0.2 * self.color_jitter_strength,\n",
        "                        )\n",
        "                    ],\n",
        "                    p=0.8,\n",
        "                ),\n",
        "                T.RandomGrayscale(p=0.2),\n",
        "                T.RandomApply(\n",
        "                    [\n",
        "                        T.GaussianBlur(\n",
        "                            kernel_size=image_size // 20 * 2 + 1, sigma=(0.1, 2.0)\n",
        "                        )\n",
        "                    ],\n",
        "                    p=0.5 if self.use_blur else 0.0,\n",
        "                ),\n",
        "                T.Normalize(mean=mean, std=std),\n",
        "            ]\n",
        "        )\n",
        "\n",
        "    def __call__(self, image: Union[Tensor, Image]) -> Tensor:\n",
        "        return self.transform(image)"
      ]
    },
    {
      "cell_type": "code",
      "execution_count": 10,
      "metadata": {
        "id": "JetZaUD7Yv9B"
      },
      "outputs": [],
      "source": [
        "import os\n",
        "from PIL import Image\n",
        "import torch\n",
        "import numpy as np\n",
        "import torch.nn as nn\n",
        "from torch.utils.data import Dataset\n",
        "from torchvision import datasets, models, transforms\n",
        "\n",
        "\n",
        "def data_transforms(phase):\n",
        "    # If the phase is TRAIN\n",
        "    if phase == 'train':\n",
        "        # Compose transformations: Convert to Tensor\n",
        "        transform = transforms.Compose([\n",
        "            transforms.Resize((256, 256)),\n",
        "            transforms.ToTensor(),\n",
        "        ])\n",
        "\n",
        "    # If the phase is VAL\n",
        "    if phase == 'val':\n",
        "        # Apply the same transformations as the TRAIN phase\n",
        "        transform = transforms.Compose([\n",
        "            transforms.Resize((256, 256)),\n",
        "            transforms.CenterCrop(256),\n",
        "            transforms.ToTensor(),\n",
        "            transforms.Normalize([0.485, 0.456, 0.406], [0.229, 0.224, 0.225]),\n",
        "        ])\n",
        "\n",
        "    # If the phase is TEST\n",
        "    if phase == 'test':\n",
        "        # Apply the same transformations as the TRAIN phase\n",
        "        transform = transforms.Compose([\n",
        "            transforms.Resize(256),\n",
        "            transforms.CenterCrop(256),\n",
        "            transforms.ToTensor(),\n",
        "            transforms.Normalize([0.485, 0.456, 0.406], [0.229, 0.224, 0.225]),\n",
        "        ])\n",
        "\n",
        "    return transform  # Return the composed transformations\n",
        "\n",
        "image_datasets_chestxray = {x: datasets.ImageFolder(os.path.join(data_chestxray_dir, x), data_transforms(x)) for x in ['train', 'val', 'test']}\n",
        "image_datasets_chesttb = {x: datasets.ImageFolder(os.path.join(data_chesttb_dir, x), data_transforms(x)) for x in ['train', 'val', 'test']}\n",
        "\n",
        "new_class_to_idx_tb = {'NORMAL': 0, 'TUBERCULOSIS': 2}\n",
        "\n",
        "# Function to remap the labels in a dataset\n",
        "def remap_labels(dataset, new_class_to_idx):\n",
        "    # Remap the targets\n",
        "    dataset.targets = [new_class_to_idx[dataset.classes[label]] for label in dataset.targets]\n",
        "\n",
        "    # Update class index in dataset.samples\n",
        "    new_samples = []\n",
        "    for path, label in dataset.samples:\n",
        "        new_samples.append((path, new_class_to_idx[dataset.classes[label]]))\n",
        "    dataset.samples = new_samples\n",
        "\n",
        "    # Update the class_to_idx attribute\n",
        "    dataset.class_to_idx = new_class_to_idx\n",
        "    # Update the classes attribute\n",
        "    dataset.classes = list(new_class_to_idx.keys())\n",
        "\n",
        "# Apply the remapping to the chesttb datasets\n",
        "for phase in ['train', 'val', 'test']:\n",
        "    remap_labels(image_datasets_chesttb[phase], new_class_to_idx_tb)"
      ]
    },
    {
      "cell_type": "code",
      "execution_count": 11,
      "metadata": {
        "colab": {
          "base_uri": "https://localhost:8080/"
        },
        "id": "WxP0sv6pYuoS",
        "outputId": "641c2f35-7de4-4e47-e048-267a05b28e93"
      },
      "outputs": [
        {
          "name": "stdout",
          "output_type": "stream",
          "text": [
            "{'NORMAL': 0, 'PNEUMONIA': 1}\n",
            "5216\n",
            "(array([0, 1]), array([1341, 3875]))\n"
          ]
        }
      ],
      "source": [
        "print(image_datasets_chestxray['train'].class_to_idx)\n",
        "print(len(image_datasets_chestxray['train']))\n",
        "\n",
        "print(np.unique(image_datasets_chestxray['train'].targets, return_counts=True))"
      ]
    },
    {
      "cell_type": "code",
      "execution_count": 12,
      "metadata": {
        "colab": {
          "base_uri": "https://localhost:8080/"
        },
        "id": "JMyk1JyfYySJ",
        "outputId": "7e47fc80-4f84-45a3-bdd4-ca227baac9dd"
      },
      "outputs": [
        {
          "name": "stdout",
          "output_type": "stream",
          "text": [
            "{'NORMAL': 0, 'TUBERCULOSIS': 2}\n",
            "2939\n",
            "(array([0, 2]), array([2450,  489]))\n"
          ]
        }
      ],
      "source": [
        "print(image_datasets_chesttb['train'].class_to_idx)\n",
        "print(len(image_datasets_chesttb['train']))\n",
        "\n",
        "print(np.unique(image_datasets_chesttb['train'].targets, return_counts=True))"
      ]
    },
    {
      "cell_type": "code",
      "execution_count": 13,
      "metadata": {
        "id": "f9PwkPhpYz2u"
      },
      "outputs": [],
      "source": [
        "# Combine the datasets after remapping\n",
        "image_datasets_combined = {\n",
        "    x: torch.utils.data.ConcatDataset([image_datasets_chestxray[x], image_datasets_chesttb[x]])\n",
        "    for x in ['train', 'val', 'test']\n",
        "}"
      ]
    },
    {
      "cell_type": "code",
      "execution_count": 14,
      "metadata": {
        "colab": {
          "base_uri": "https://localhost:8080/"
        },
        "id": "KvUtWLnuY2UD",
        "outputId": "23ea330b-230d-4c9d-b30d-7b8178d247bc"
      },
      "outputs": [
        {
          "name": "stdout",
          "output_type": "stream",
          "text": [
            "Class weights: tensor([0.0003, 0.0003, 0.0020])\n",
            "Sample weights: tensor([0.0003, 0.0003, 0.0003,  ..., 0.0020, 0.0020, 0.0020])\n"
          ]
        }
      ],
      "source": [
        "targets_combined = []\n",
        "\n",
        "for dataset in image_datasets_combined['train'].datasets:\n",
        "    targets_combined.extend(dataset.targets)\n",
        "\n",
        "targets_combined = torch.tensor(targets_combined)\n",
        "\n",
        "# Calculate class weights (inverse of class frequency)\n",
        "class_counts = torch.bincount(targets_combined)\n",
        "class_weights = 1.0 / class_counts.float()\n",
        "print(f\"Class weights: {class_weights}\")\n",
        "\n",
        "# Calculate sample weights based on class weights\n",
        "sample_weights = class_weights[targets_combined]\n",
        "print(f\"Sample weights: {sample_weights}\")\n",
        "\n",
        "# Create WeightedRandomSampler\n",
        "sampler = torch.utils.data.WeightedRandomSampler(weights=sample_weights, num_samples=len(sample_weights), replacement=True)"
      ]
    },
    {
      "cell_type": "code",
      "execution_count": 15,
      "metadata": {
        "colab": {
          "base_uri": "https://localhost:8080/",
          "height": 427
        },
        "id": "Qp0egh9xY-jK",
        "outputId": "7727f71f-1081-4c07-cf12-4135bfbce5dc"
      },
      "outputs": [
        {
          "data": {
            "image/png": "[encoded data removed]",
            "text/plain": [
              "<Figure size 800x400 with 1 Axes>"
            ]
          },
          "metadata": {},
          "output_type": "display_data"
        },
        {
          "name": "stdout",
          "output_type": "stream",
          "text": [
            "Class counts before balancing: [3791 3875  489]\n"
          ]
        }
      ],
      "source": [
        "import matplotlib.pyplot as plt\n",
        "\n",
        "# Count the number of instances of each class before balancing\n",
        "class_counts = torch.bincount(targets_combined)\n",
        "\n",
        "# Plot the class distribution\n",
        "plt.figure(figsize=(8, 4))\n",
        "plt.bar(range(len(class_counts)), class_counts.numpy(), tick_label=list(range(len(class_counts))))\n",
        "plt.title(\"Class Distribution Before Balancing\")\n",
        "plt.xlabel(\"Class\")\n",
        "plt.ylabel(\"Number of Samples\")\n",
        "plt.show()\n",
        "\n",
        "print(\"Class counts before balancing:\", class_counts.numpy())"
      ]
    },
    {
      "cell_type": "code",
      "execution_count": 16,
      "metadata": {
        "colab": {
          "base_uri": "https://localhost:8080/",
          "height": 427
        },
        "id": "-hCow2zuZAdE",
        "outputId": "3ba58bfa-2fda-469e-f4cb-935ac895398a"
      },
      "outputs": [
        {
          "data": {
            "image/png": "[encoded data removed]",
            "text/plain": [
              "<Figure size 800x400 with 1 Axes>"
            ]
          },
          "metadata": {},
          "output_type": "display_data"
        },
        {
          "name": "stdout",
          "output_type": "stream",
          "text": [
            "Class counts after balancing: [2633 2707 2660]\n"
          ]
        }
      ],
      "source": [
        "# Simulate sampling\n",
        "num_samples_to_check = 8000  # You can increase this number for better accuracy\n",
        "sampled_indices = list(sampler)[:num_samples_to_check]\n",
        "sampled_targets = targets_combined[sampled_indices]\n",
        "\n",
        "# Count the number of instances of each class after balancing\n",
        "balanced_class_counts = torch.bincount(sampled_targets)\n",
        "\n",
        "# Plot the class distribution after balancing\n",
        "plt.figure(figsize=(8, 4))\n",
        "plt.bar(range(len(balanced_class_counts)), balanced_class_counts.numpy(), tick_label=list(range(len(balanced_class_counts))))\n",
        "plt.title(\"Class Distribution After Balancing\")\n",
        "plt.xlabel(\"Class\")\n",
        "plt.ylabel(\"Number of Samples\")\n",
        "plt.show()\n",
        "\n",
        "print(\"Class counts after balancing:\", balanced_class_counts.numpy())"
      ]
    },
    {
      "cell_type": "code",
      "execution_count": 17,
      "metadata": {
        "id": "O9n3O372ZCpB"
      },
      "outputs": [],
      "source": [
        "dataloaders = {\n",
        "    'train': torch.utils.data.DataLoader(image_datasets_combined['train'], batch_size = 32, sampler=sampler),\n",
        "    'val': torch.utils.data.DataLoader(image_datasets_combined['val'], batch_size = 32),\n",
        "    'test': torch.utils.data.DataLoader(image_datasets_combined['test'], batch_size = 32)\n",
        "}"
      ]
    },
    {
      "cell_type": "code",
      "execution_count": 18,
      "metadata": {
        "colab": {
          "base_uri": "https://localhost:8080/"
        },
        "id": "QaBi1bu7ZFmI",
        "outputId": "084e8980-daa3-4220-bf0c-46ddea278750"
      },
      "outputs": [
        {
          "data": {
            "text/plain": [
              "255"
            ]
          },
          "execution_count": 18,
          "metadata": {},
          "output_type": "execute_result"
        }
      ],
      "source": [
        "len(dataloaders['train'])"
      ]
    },
    {
      "cell_type": "code",
      "execution_count": 19,
      "metadata": {
        "id": "sJSd35glZLWU"
      },
      "outputs": [],
      "source": [
        "import torch.nn.functional as F\n",
        "\n",
        "class BarlowTwinsLoss(nn.Module):\n",
        "    def __init__(self, lambda_param: float = 5e-3, **kwargs):\n",
        "        super(BarlowTwinsLoss, self).__init__()\n",
        "        self.lambda_param = lambda_param\n",
        "\n",
        "    def off_diagonal(self, x):\n",
        "        # return a flattened view of the off-diagonal elements of a square matrix\n",
        "        n, m = x.shape\n",
        "        assert n == m\n",
        "        return x.flatten()[:-1].view(n - 1, n + 1)[:, 1:].flatten()\n",
        "\n",
        "    def forward(self, z_a: torch.Tensor, z_b: torch.Tensor):\n",
        "        # normalize repr. along the batch dimension\n",
        "        z_a = F.normalize(z_a, dim=-1)\n",
        "        z_b = F.normalize(z_b, dim=-1)\n",
        "        # normalize the representations along the batch dimension\n",
        "        out_1_norm = (z_a - z_a.mean(dim=0)) / z_a.std(dim=0)\n",
        "        out_2_norm = (z_b - z_b.mean(dim=0)) / z_b.std(dim=0)\n",
        "\n",
        "        # cross-correlation matrix\n",
        "        batch_size = z_a.size(0)\n",
        "        c = torch.matmul(out_1_norm.T, out_2_norm) / batch_size\n",
        "\n",
        "        # loss\n",
        "        on_diag = torch.diagonal(c).add_(-1).pow_(2).sum()\n",
        "        off_diag = self.off_diagonal(c).add_(1).pow_(2).sum()\n",
        "        loss = on_diag + self.lambda_param * off_diag\n",
        "\n",
        "        return loss"
      ]
    },
    {
      "cell_type": "code",
      "execution_count": 20,
      "metadata": {
        "id": "r4p6niQkZL_t"
      },
      "outputs": [],
      "source": [
        "class BarlowTwins(nn.Module):\n",
        "\n",
        "    def __init__(\n",
        "        self,\n",
        "        backbone: nn.Module,\n",
        "        feature_size: int,\n",
        "        projection_dim: int = 8192,\n",
        "        hidden_dim: int = 8192,\n",
        "        **kwargs\n",
        "    ):\n",
        "        super().__init__()\n",
        "        self.feature_size = feature_size\n",
        "        self.projection_dim = projection_dim\n",
        "        self.hidden_dim = hidden_dim\n",
        "        self.backbone = backbone\n",
        "\n",
        "        self.projection_head = nn.Sequential(\n",
        "            nn.Sequential(nn.Linear(self.feature_size, self.hidden_dim), nn.BatchNorm1d(self.hidden_dim), nn.ReLU(inplace=True)),\n",
        "            nn.Sequential(nn.Linear(self.hidden_dim, self.hidden_dim), nn.BatchNorm1d(self.hidden_dim), nn.ReLU(inplace=True)),\n",
        "            nn.Sequential(nn.Linear(self.hidden_dim, self.projection_dim)))\n",
        "\n",
        "        self.encoder = nn.Sequential(self.backbone, self.projection_head)\n",
        "\n",
        "    def forward(self, x0: torch.Tensor, x1: torch.Tensor):\n",
        "        f0 = self.backbone(x0).flatten(start_dim=1)\n",
        "        out0 = self.projection_head(f0)\n",
        "\n",
        "        f1 = self.backbone(x1).flatten(start_dim=1)\n",
        "        out1 = self.projection_head(f1)\n",
        "\n",
        "        return out0, out1"
      ]
    },
    {
      "cell_type": "code",
      "execution_count": 21,
      "metadata": {
        "id": "pcZacAw2ZPUg"
      },
      "outputs": [],
      "source": [
        "backbone = models.resnet50()\n",
        "num_features = backbone.fc.in_features\n",
        "backbone.fc = nn.Identity()\n",
        "model = BarlowTwins(backbone=backbone, feature_size=num_features, projection_dim=128)\n",
        "\n",
        "# # Replace the backbone's classifier with a new linear layer\n",
        "# num_classes = 3  # Number of classes in your dataset\n",
        "# model.backbone.fc = nn.Linear(num_features, num_classes)\n",
        "# model = model.backbone.to(device)\n",
        "\n",
        "\n",
        "device = torch.device(\"cuda:0\" if torch.cuda.is_available() else \"cpu\")\n",
        "model = model.to(device)"
      ]
    },
    {
      "cell_type": "code",
      "execution_count": 22,
      "metadata": {
        "colab": {
          "base_uri": "https://localhost:8080/"
        },
        "id": "RC4yuo-6ZREO",
        "outputId": "f58f4ad4-b8c4-4d18-d870-a3cfaf6fb677"
      },
      "outputs": [
        {
          "name": "stdout",
          "output_type": "stream",
          "text": [
            "Number of Model Parameters: 108491968\n",
            "Memmory Usage: 0.40 GB\n"
          ]
        }
      ],
      "source": [
        "print(f\"Number of Model Parameters: {sum(p.numel() for p in model.parameters())}\")\n",
        "print(f\"Memmory Usage: {torch.cuda.memory_allocated(device) / 1024**3:.2f} GB\")"
      ]
    },
    {
      "cell_type": "code",
      "execution_count": 23,
      "metadata": {
        "id": "5zoh9ueWZTBC"
      },
      "outputs": [],
      "source": [
        "optimizer = torch.optim.Adam(model.parameters(), lr=0.0001, weight_decay=1e-4)\n",
        "criterion = BarlowTwinsLoss()\n",
        "ssl_transform = SimCLRViewTransform()"
      ]
    },
    {
      "cell_type": "markdown",
      "metadata": {
        "id": "a8zdQmzNayJN"
      },
      "source": [
        "### SSL training"
      ]
    },
    {
      "cell_type": "code",
      "execution_count": 24,
      "metadata": {
        "colab": {
          "base_uri": "https://localhost:8080/"
        },
        "id": "tkyVb9E-a1oo",
        "outputId": "e3709782-2968-4693-969a-632572e8fdb7"
      },
      "outputs": [
        {
          "name": "stdout",
          "output_type": "stream",
          "text": [
            "Mounted at /content/drive\n",
            "Loaded existing metrics.\n"
          ]
        },
        {
          "name": "stderr",
          "output_type": "stream",
          "text": [
            "<ipython-input-24-1b34c3f430a7>:29: FutureWarning: You are using `torch.load` with `weights_only=False` (the current default value), which uses the default pickle module implicitly. It is possible to construct malicious pickle data which will execute arbitrary code during unpickling (See https://github.com/pytorch/pytorch/blob/main/SECURITY.md#untrusted-models for more details). In a future release, the default value for `weights_only` will be flipped to `True`. This limits the functions that could be executed during unpickling. Arbitrary objects will no longer be allowed to be loaded via this mode unless they are explicitly allowlisted by the user via `torch.serialization.add_safe_globals`. We recommend you start setting `weights_only=True` for any use case where you don't have full control of the loaded file. Please open an issue on GitHub for any issues related to this experimental feature.\n",
            "  model.load_state_dict(torch.load('/content/drive/MyDrive/model_ssl_Barlow_epoch_100.pth'))\n"
          ]
        },
        {
          "name": "stdout",
          "output_type": "stream",
          "text": [
            "Final metrics saved to /content/drive/MyDrive/training_metrics_ssl_Barlow_training.pkl\n"
          ]
        }
      ],
      "source": [
        "import torch\n",
        "import numpy as np\n",
        "import pickle\n",
        "from sklearn.metrics import precision_score, recall_score, f1_score\n",
        "from tqdm import tqdm\n",
        "\n",
        "# Mount Google Drive\n",
        "from google.colab import drive\n",
        "drive.mount('/content/drive')\n",
        "\n",
        "# Load existing metrics if the file exists\n",
        "metrics_file_path = \"/content/drive/MyDrive/training_metrics_ssl_Barlow_training.pkl\"\n",
        "\n",
        "try:\n",
        "    with open(metrics_file_path, 'rb') as f:\n",
        "        metrics = pickle.load(f)\n",
        "        print(\"Loaded existing metrics.\")\n",
        "except FileNotFoundError:\n",
        "    metrics = {'train_loss': [], 'val_loss': []}\n",
        "    print(\"No existing metrics found. Starting fresh.\")\n",
        "\n",
        "# Parameters for Early Stopping\n",
        "early_stopping_patience = 5  # Stop after 5 epochs with no improvement\n",
        "best_val_loss = float('inf')\n",
        "patience_counter = 0\n",
        "\n",
        "num_epochs = 100  # Set a higher number of epochs to allow early stopping\n",
        "\n",
        "model.load_state_dict(torch.load('/content/drive/MyDrive/model_ssl_Barlow_epoch_100.pth'))\n",
        "\n",
        "for epoch in range(100,num_epochs):\n",
        "    print(f'Epoch {epoch+1}/{num_epochs}')\n",
        "    print('-' * 10)\n",
        "    # Each epoch has a training and validation phase\n",
        "    for phase in ['train', 'val']:\n",
        "        if phase == 'train':\n",
        "            model.train()  # Set model to training mode\n",
        "            dataloader = dataloaders['train']\n",
        "        else:\n",
        "            model.eval()  # Set model to evaluate mode\n",
        "            dataloader = dataloaders['val']\n",
        "\n",
        "        running_loss = 0.0\n",
        "\n",
        "        # Iterate over data with tqdm progress bar\n",
        "        for inputs, _ in tqdm(dataloader, desc=f\"{phase.capitalize()} Phase\"):\n",
        "            inputs = inputs.to(device)\n",
        "\n",
        "            # Zero the parameter gradients\n",
        "            optimizer.zero_grad()\n",
        "\n",
        "            aug1 = ssl_transform(inputs)\n",
        "            aug2 = ssl_transform(inputs)\n",
        "\n",
        "            # Forward pass\n",
        "            with torch.set_grad_enabled(phase == 'train'):\n",
        "                out0, out1 = model(aug1, aug2)\n",
        "                loss = criterion(out0, out1)\n",
        "\n",
        "                # Backward pass + optimize only if in training phase\n",
        "                if phase == 'train':\n",
        "                    loss.backward()\n",
        "                    optimizer.step()\n",
        "\n",
        "            # Statistics\n",
        "            running_loss += loss.item() * inputs.size(0)\n",
        "\n",
        "        # Calculate metrics\n",
        "        epoch_loss = running_loss / len(dataloader.dataset)\n",
        "\n",
        "        # Save metrics\n",
        "        metrics[f'{phase}_loss'].append(epoch_loss)\n",
        "\n",
        "        print(f'{phase.capitalize()} Loss: {epoch_loss:.4f}')\n",
        "\n",
        "        # Early stopping check during validation phase\n",
        "        if phase == 'val':\n",
        "            if epoch_loss < best_val_loss:\n",
        "                best_val_loss = epoch_loss\n",
        "                patience_counter = 0  # Reset the counter if improvement occurs\n",
        "                # Save the model weights when improvement occurs\n",
        "                torch.save(model.state_dict(), '/content/drive/MyDrive/best_model_ssl_barlowTwins_training.pth')\n",
        "            else:\n",
        "                patience_counter += 1\n",
        "\n",
        "        if (epoch+1) % 10 == 0:\n",
        "            # Save the model weights every 10 epochs\n",
        "            torch.save(model.state_dict(), f'/content/drive/MyDrive/model_ssl_Barlow_epoch_{epoch+1}.pth')\n",
        "            # Save the metrics to the pickle file\n",
        "            with open(metrics_file_path, 'wb') as f:\n",
        "                pickle.dump(metrics, f)\n",
        "            print(f\"Metrics saved at epoch {epoch}.\")\n",
        "\n",
        "    print()\n",
        "\n",
        "print(f\"Final metrics saved to {metrics_file_path}\")\n"
      ]
    },
    {
      "cell_type": "code",
      "execution_count": 25,
      "metadata": {
        "colab": {
          "base_uri": "https://localhost:8080/",
          "height": 489
        },
        "id": "CuInLD5IIAjA",
        "outputId": "3641054a-d0d3-46a4-81b4-26937b4e2d78"
      },
      "outputs": [
        {
          "name": "stdout",
          "output_type": "stream",
          "text": [
            "Drive already mounted at /content/drive; to attempt to forcibly remount, call drive.mount(\"/content/drive\", force_remount=True).\n"
          ]
        },
        {
          "data": {
            "image/png": "[encoded data removed]",
            "text/plain": [
              "<Figure size 640x480 with 1 Axes>"
            ]
          },
          "metadata": {},
          "output_type": "display_data"
        }
      ],
      "source": [
        "import pickle\n",
        "import matplotlib.pyplot as plt\n",
        "from google.colab import drive\n",
        "drive.mount('/content/drive')\n",
        "\n",
        "metrics_file_path = \"/content/drive/MyDrive/training_metrics_ssl_Barlow_training.pkl\"\n",
        "\n",
        "\n",
        "\n",
        "with open(metrics_file_path, 'rb') as f:\n",
        "    metrics = pickle.load(f)\n",
        "\n",
        "# Plotting the metrics\n",
        "plt.plot(metrics['train_loss'], label='Train Loss')\n",
        "plt.plot(metrics['val_loss'], label='Validation Loss')\n",
        "plt.xlabel('Epochs')\n",
        "plt.ylabel('Loss')\n",
        "plt.title('Training and Validation Loss Over Epochs')\n",
        "plt.legend()\n",
        "plt.show()"
      ]
    },
    {
      "cell_type": "code",
      "execution_count": 26,
      "metadata": {
        "colab": {
          "base_uri": "https://localhost:8080/"
        },
        "id": "ybt-j290bJRQ",
        "outputId": "80be7641-64d2-4418-d329-89d745295cc4"
      },
      "outputs": [
        {
          "name": "stderr",
          "output_type": "stream",
          "text": [
            "Linear Eval Epoch 1: 100%|██████████| 255/255 [01:55<00:00,  2.20it/s]\n"
          ]
        },
        {
          "name": "stdout",
          "output_type": "stream",
          "text": [
            "Linear Eval Epoch 1 Loss: 0.2746 Acc: 0.8926 Precision: 0.8924 Recall: 0.8926 F1-Score: 0.8925\n"
          ]
        },
        {
          "name": "stderr",
          "output_type": "stream",
          "text": [
            "Linear Eval Epoch 2: 100%|██████████| 255/255 [01:53<00:00,  2.24it/s]\n"
          ]
        },
        {
          "name": "stdout",
          "output_type": "stream",
          "text": [
            "Linear Eval Epoch 2 Loss: 0.2190 Acc: 0.9191 Precision: 0.9191 Recall: 0.9191 F1-Score: 0.9191\n"
          ]
        },
        {
          "name": "stderr",
          "output_type": "stream",
          "text": [
            "Linear Eval Epoch 3: 100%|██████████| 255/255 [01:54<00:00,  2.23it/s]\n"
          ]
        },
        {
          "name": "stdout",
          "output_type": "stream",
          "text": [
            "Linear Eval Epoch 3 Loss: 0.1901 Acc: 0.9275 Precision: 0.9276 Recall: 0.9275 F1-Score: 0.9276\n"
          ]
        },
        {
          "name": "stderr",
          "output_type": "stream",
          "text": [
            "Linear Eval Epoch 4: 100%|██████████| 255/255 [01:54<00:00,  2.23it/s]\n"
          ]
        },
        {
          "name": "stdout",
          "output_type": "stream",
          "text": [
            "Linear Eval Epoch 4 Loss: 0.2018 Acc: 0.9248 Precision: 0.9250 Recall: 0.9248 F1-Score: 0.9249\n"
          ]
        },
        {
          "name": "stderr",
          "output_type": "stream",
          "text": [
            "Linear Eval Epoch 5: 100%|██████████| 255/255 [01:55<00:00,  2.21it/s]\n"
          ]
        },
        {
          "name": "stdout",
          "output_type": "stream",
          "text": [
            "Linear Eval Epoch 5 Loss: 0.1569 Acc: 0.9394 Precision: 0.9395 Recall: 0.9394 F1-Score: 0.9394\n"
          ]
        },
        {
          "name": "stderr",
          "output_type": "stream",
          "text": [
            "Linear Eval Epoch 6: 100%|██████████| 255/255 [01:54<00:00,  2.23it/s]\n"
          ]
        },
        {
          "name": "stdout",
          "output_type": "stream",
          "text": [
            "Linear Eval Epoch 6 Loss: 0.1761 Acc: 0.9338 Precision: 0.9338 Recall: 0.9338 F1-Score: 0.9338\n"
          ]
        },
        {
          "name": "stderr",
          "output_type": "stream",
          "text": [
            "Linear Eval Epoch 7: 100%|██████████| 255/255 [01:54<00:00,  2.23it/s]\n"
          ]
        },
        {
          "name": "stdout",
          "output_type": "stream",
          "text": [
            "Linear Eval Epoch 7 Loss: 0.1651 Acc: 0.9391 Precision: 0.9390 Recall: 0.9391 F1-Score: 0.9390\n"
          ]
        },
        {
          "name": "stderr",
          "output_type": "stream",
          "text": [
            "Linear Eval Epoch 8: 100%|██████████| 255/255 [01:53<00:00,  2.25it/s]\n"
          ]
        },
        {
          "name": "stdout",
          "output_type": "stream",
          "text": [
            "Linear Eval Epoch 8 Loss: 0.1472 Acc: 0.9458 Precision: 0.9458 Recall: 0.9458 F1-Score: 0.9458\n"
          ]
        },
        {
          "name": "stderr",
          "output_type": "stream",
          "text": [
            "Linear Eval Epoch 9: 100%|██████████| 255/255 [01:53<00:00,  2.24it/s]\n"
          ]
        },
        {
          "name": "stdout",
          "output_type": "stream",
          "text": [
            "Linear Eval Epoch 9 Loss: 0.1278 Acc: 0.9512 Precision: 0.9514 Recall: 0.9512 F1-Score: 0.9513\n"
          ]
        },
        {
          "name": "stderr",
          "output_type": "stream",
          "text": [
            "Linear Eval Epoch 10: 100%|██████████| 255/255 [01:53<00:00,  2.25it/s]\n"
          ]
        },
        {
          "name": "stdout",
          "output_type": "stream",
          "text": [
            "Linear Eval Epoch 10 Loss: 0.1578 Acc: 0.9389 Precision: 0.9389 Recall: 0.9389 F1-Score: 0.9389\n"
          ]
        },
        {
          "name": "stderr",
          "output_type": "stream",
          "text": [
            "Linear Eval Epoch 11: 100%|██████████| 255/255 [01:54<00:00,  2.22it/s]\n"
          ]
        },
        {
          "name": "stdout",
          "output_type": "stream",
          "text": [
            "Linear Eval Epoch 11 Loss: 0.1480 Acc: 0.9457 Precision: 0.9458 Recall: 0.9457 F1-Score: 0.9457\n"
          ]
        },
        {
          "name": "stderr",
          "output_type": "stream",
          "text": [
            "Linear Eval Epoch 12: 100%|██████████| 255/255 [01:53<00:00,  2.24it/s]\n"
          ]
        },
        {
          "name": "stdout",
          "output_type": "stream",
          "text": [
            "Linear Eval Epoch 12 Loss: 0.1195 Acc: 0.9541 Precision: 0.9542 Recall: 0.9541 F1-Score: 0.9541\n"
          ]
        },
        {
          "name": "stderr",
          "output_type": "stream",
          "text": [
            "Linear Eval Epoch 13: 100%|██████████| 255/255 [01:55<00:00,  2.22it/s]\n"
          ]
        },
        {
          "name": "stdout",
          "output_type": "stream",
          "text": [
            "Linear Eval Epoch 13 Loss: 0.1293 Acc: 0.9517 Precision: 0.9518 Recall: 0.9517 F1-Score: 0.9517\n"
          ]
        },
        {
          "name": "stderr",
          "output_type": "stream",
          "text": [
            "Linear Eval Epoch 14: 100%|██████████| 255/255 [01:54<00:00,  2.23it/s]\n"
          ]
        },
        {
          "name": "stdout",
          "output_type": "stream",
          "text": [
            "Linear Eval Epoch 14 Loss: 0.1217 Acc: 0.9556 Precision: 0.9556 Recall: 0.9556 F1-Score: 0.9556\n"
          ]
        },
        {
          "name": "stderr",
          "output_type": "stream",
          "text": [
            "Linear Eval Epoch 15: 100%|██████████| 255/255 [01:53<00:00,  2.25it/s]\n"
          ]
        },
        {
          "name": "stdout",
          "output_type": "stream",
          "text": [
            "Linear Eval Epoch 15 Loss: 0.1318 Acc: 0.9507 Precision: 0.9508 Recall: 0.9507 F1-Score: 0.9507\n"
          ]
        },
        {
          "name": "stderr",
          "output_type": "stream",
          "text": [
            "Linear Eval Epoch 16: 100%|██████████| 255/255 [01:55<00:00,  2.21it/s]\n"
          ]
        },
        {
          "name": "stdout",
          "output_type": "stream",
          "text": [
            "Linear Eval Epoch 16 Loss: 0.1286 Acc: 0.9523 Precision: 0.9524 Recall: 0.9523 F1-Score: 0.9523\n"
          ]
        },
        {
          "name": "stderr",
          "output_type": "stream",
          "text": [
            "Linear Eval Epoch 17: 100%|██████████| 255/255 [01:54<00:00,  2.23it/s]\n"
          ]
        },
        {
          "name": "stdout",
          "output_type": "stream",
          "text": [
            "Linear Eval Epoch 17 Loss: 0.1229 Acc: 0.9539 Precision: 0.9539 Recall: 0.9539 F1-Score: 0.9539\n"
          ]
        },
        {
          "name": "stderr",
          "output_type": "stream",
          "text": [
            "Linear Eval Epoch 18: 100%|██████████| 255/255 [01:53<00:00,  2.24it/s]\n"
          ]
        },
        {
          "name": "stdout",
          "output_type": "stream",
          "text": [
            "Linear Eval Epoch 18 Loss: 0.1112 Acc: 0.9609 Precision: 0.9609 Recall: 0.9609 F1-Score: 0.9609\n"
          ]
        },
        {
          "name": "stderr",
          "output_type": "stream",
          "text": [
            "Linear Eval Epoch 19: 100%|██████████| 255/255 [01:53<00:00,  2.24it/s]\n"
          ]
        },
        {
          "name": "stdout",
          "output_type": "stream",
          "text": [
            "Linear Eval Epoch 19 Loss: 0.1038 Acc: 0.9613 Precision: 0.9613 Recall: 0.9613 F1-Score: 0.9613\n"
          ]
        },
        {
          "name": "stderr",
          "output_type": "stream",
          "text": [
            "Linear Eval Epoch 20: 100%|██████████| 255/255 [01:53<00:00,  2.25it/s]\n"
          ]
        },
        {
          "name": "stdout",
          "output_type": "stream",
          "text": [
            "Linear Eval Epoch 20 Loss: 0.1301 Acc: 0.9508 Precision: 0.9508 Recall: 0.9508 F1-Score: 0.9508\n"
          ]
        },
        {
          "name": "stderr",
          "output_type": "stream",
          "text": [
            "Linear Eval Epoch 21: 100%|██████████| 255/255 [01:54<00:00,  2.22it/s]\n"
          ]
        },
        {
          "name": "stdout",
          "output_type": "stream",
          "text": [
            "Linear Eval Epoch 21 Loss: 0.1267 Acc: 0.9519 Precision: 0.9519 Recall: 0.9519 F1-Score: 0.9519\n"
          ]
        },
        {
          "name": "stderr",
          "output_type": "stream",
          "text": [
            "Linear Eval Epoch 22: 100%|██████████| 255/255 [01:55<00:00,  2.22it/s]\n"
          ]
        },
        {
          "name": "stdout",
          "output_type": "stream",
          "text": [
            "Linear Eval Epoch 22 Loss: 0.0994 Acc: 0.9627 Precision: 0.9627 Recall: 0.9627 F1-Score: 0.9627\n"
          ]
        },
        {
          "name": "stderr",
          "output_type": "stream",
          "text": [
            "Linear Eval Epoch 23: 100%|██████████| 255/255 [01:54<00:00,  2.23it/s]\n"
          ]
        },
        {
          "name": "stdout",
          "output_type": "stream",
          "text": [
            "Linear Eval Epoch 23 Loss: 0.1188 Acc: 0.9548 Precision: 0.9548 Recall: 0.9548 F1-Score: 0.9548\n"
          ]
        },
        {
          "name": "stderr",
          "output_type": "stream",
          "text": [
            "Linear Eval Epoch 24: 100%|██████████| 255/255 [01:54<00:00,  2.24it/s]\n"
          ]
        },
        {
          "name": "stdout",
          "output_type": "stream",
          "text": [
            "Linear Eval Epoch 24 Loss: 0.1209 Acc: 0.9578 Precision: 0.9578 Recall: 0.9578 F1-Score: 0.9578\n"
          ]
        },
        {
          "name": "stderr",
          "output_type": "stream",
          "text": [
            "Linear Eval Epoch 25: 100%|██████████| 255/255 [01:54<00:00,  2.23it/s]\n"
          ]
        },
        {
          "name": "stdout",
          "output_type": "stream",
          "text": [
            "Linear Eval Epoch 25 Loss: 0.1022 Acc: 0.9633 Precision: 0.9634 Recall: 0.9633 F1-Score: 0.9633\n"
          ]
        },
        {
          "name": "stderr",
          "output_type": "stream",
          "text": [
            "Linear Eval Epoch 26: 100%|██████████| 255/255 [01:53<00:00,  2.24it/s]\n"
          ]
        },
        {
          "name": "stdout",
          "output_type": "stream",
          "text": [
            "Linear Eval Epoch 26 Loss: 0.0969 Acc: 0.9632 Precision: 0.9632 Recall: 0.9632 F1-Score: 0.9632\n"
          ]
        },
        {
          "name": "stderr",
          "output_type": "stream",
          "text": [
            "Linear Eval Epoch 27: 100%|██████████| 255/255 [01:52<00:00,  2.28it/s]\n"
          ]
        },
        {
          "name": "stdout",
          "output_type": "stream",
          "text": [
            "Linear Eval Epoch 27 Loss: 0.1112 Acc: 0.9586 Precision: 0.9586 Recall: 0.9586 F1-Score: 0.9586\n"
          ]
        },
        {
          "name": "stderr",
          "output_type": "stream",
          "text": [
            "Linear Eval Epoch 28: 100%|██████████| 255/255 [01:54<00:00,  2.22it/s]\n"
          ]
        },
        {
          "name": "stdout",
          "output_type": "stream",
          "text": [
            "Linear Eval Epoch 28 Loss: 0.1131 Acc: 0.9581 Precision: 0.9582 Recall: 0.9581 F1-Score: 0.9581\n"
          ]
        },
        {
          "name": "stderr",
          "output_type": "stream",
          "text": [
            "Linear Eval Epoch 29: 100%|██████████| 255/255 [01:52<00:00,  2.27it/s]\n"
          ]
        },
        {
          "name": "stdout",
          "output_type": "stream",
          "text": [
            "Linear Eval Epoch 29 Loss: 0.0906 Acc: 0.9674 Precision: 0.9674 Recall: 0.9674 F1-Score: 0.9674\n"
          ]
        },
        {
          "name": "stderr",
          "output_type": "stream",
          "text": [
            "Linear Eval Epoch 30: 100%|██████████| 255/255 [01:53<00:00,  2.24it/s]\n"
          ]
        },
        {
          "name": "stdout",
          "output_type": "stream",
          "text": [
            "Linear Eval Epoch 30 Loss: 0.1304 Acc: 0.9532 Precision: 0.9531 Recall: 0.9532 F1-Score: 0.9531\n"
          ]
        },
        {
          "name": "stderr",
          "output_type": "stream",
          "text": [
            "Linear Eval Epoch 31: 100%|██████████| 255/255 [01:53<00:00,  2.24it/s]\n"
          ]
        },
        {
          "name": "stdout",
          "output_type": "stream",
          "text": [
            "Linear Eval Epoch 31 Loss: 0.1012 Acc: 0.9648 Precision: 0.9648 Recall: 0.9648 F1-Score: 0.9648\n"
          ]
        },
        {
          "name": "stderr",
          "output_type": "stream",
          "text": [
            "Linear Eval Epoch 32: 100%|██████████| 255/255 [01:53<00:00,  2.24it/s]\n"
          ]
        },
        {
          "name": "stdout",
          "output_type": "stream",
          "text": [
            "Linear Eval Epoch 32 Loss: 0.0943 Acc: 0.9670 Precision: 0.9671 Recall: 0.9670 F1-Score: 0.9670\n"
          ]
        },
        {
          "name": "stderr",
          "output_type": "stream",
          "text": [
            "Linear Eval Epoch 33: 100%|██████████| 255/255 [01:54<00:00,  2.22it/s]\n"
          ]
        },
        {
          "name": "stdout",
          "output_type": "stream",
          "text": [
            "Linear Eval Epoch 33 Loss: 0.1115 Acc: 0.9584 Precision: 0.9586 Recall: 0.9584 F1-Score: 0.9585\n"
          ]
        },
        {
          "name": "stderr",
          "output_type": "stream",
          "text": [
            "Linear Eval Epoch 34: 100%|██████████| 255/255 [01:52<00:00,  2.27it/s]\n"
          ]
        },
        {
          "name": "stdout",
          "output_type": "stream",
          "text": [
            "Linear Eval Epoch 34 Loss: 0.1040 Acc: 0.9628 Precision: 0.9628 Recall: 0.9628 F1-Score: 0.9628\n"
          ]
        },
        {
          "name": "stderr",
          "output_type": "stream",
          "text": [
            "Linear Eval Epoch 35: 100%|██████████| 255/255 [01:52<00:00,  2.26it/s]\n"
          ]
        },
        {
          "name": "stdout",
          "output_type": "stream",
          "text": [
            "Linear Eval Epoch 35 Loss: 0.1035 Acc: 0.9647 Precision: 0.9647 Recall: 0.9647 F1-Score: 0.9647\n"
          ]
        },
        {
          "name": "stderr",
          "output_type": "stream",
          "text": [
            "Linear Eval Epoch 36: 100%|██████████| 255/255 [01:54<00:00,  2.24it/s]\n"
          ]
        },
        {
          "name": "stdout",
          "output_type": "stream",
          "text": [
            "Linear Eval Epoch 36 Loss: 0.1096 Acc: 0.9600 Precision: 0.9600 Recall: 0.9600 F1-Score: 0.9600\n"
          ]
        },
        {
          "name": "stderr",
          "output_type": "stream",
          "text": [
            "Linear Eval Epoch 37: 100%|██████████| 255/255 [01:54<00:00,  2.22it/s]\n"
          ]
        },
        {
          "name": "stdout",
          "output_type": "stream",
          "text": [
            "Linear Eval Epoch 37 Loss: 0.0840 Acc: 0.9690 Precision: 0.9690 Recall: 0.9690 F1-Score: 0.9690\n"
          ]
        },
        {
          "name": "stderr",
          "output_type": "stream",
          "text": [
            "Linear Eval Epoch 38: 100%|██████████| 255/255 [01:54<00:00,  2.22it/s]\n"
          ]
        },
        {
          "name": "stdout",
          "output_type": "stream",
          "text": [
            "Linear Eval Epoch 38 Loss: 0.1019 Acc: 0.9638 Precision: 0.9638 Recall: 0.9638 F1-Score: 0.9638\n"
          ]
        },
        {
          "name": "stderr",
          "output_type": "stream",
          "text": [
            "Linear Eval Epoch 39: 100%|██████████| 255/255 [01:54<00:00,  2.24it/s]\n"
          ]
        },
        {
          "name": "stdout",
          "output_type": "stream",
          "text": [
            "Linear Eval Epoch 39 Loss: 0.1110 Acc: 0.9588 Precision: 0.9588 Recall: 0.9588 F1-Score: 0.9588\n"
          ]
        },
        {
          "name": "stderr",
          "output_type": "stream",
          "text": [
            "Linear Eval Epoch 40: 100%|██████████| 255/255 [01:54<00:00,  2.23it/s]\n"
          ]
        },
        {
          "name": "stdout",
          "output_type": "stream",
          "text": [
            "Linear Eval Epoch 40 Loss: 0.0920 Acc: 0.9685 Precision: 0.9685 Recall: 0.9685 F1-Score: 0.9685\n"
          ]
        },
        {
          "name": "stderr",
          "output_type": "stream",
          "text": [
            "Linear Eval Epoch 41: 100%|██████████| 255/255 [01:53<00:00,  2.25it/s]\n"
          ]
        },
        {
          "name": "stdout",
          "output_type": "stream",
          "text": [
            "Linear Eval Epoch 41 Loss: 0.0824 Acc: 0.9711 Precision: 0.9711 Recall: 0.9711 F1-Score: 0.9711\n"
          ]
        },
        {
          "name": "stderr",
          "output_type": "stream",
          "text": [
            "Linear Eval Epoch 42: 100%|██████████| 255/255 [01:55<00:00,  2.21it/s]\n"
          ]
        },
        {
          "name": "stdout",
          "output_type": "stream",
          "text": [
            "Linear Eval Epoch 42 Loss: 0.0875 Acc: 0.9689 Precision: 0.9688 Recall: 0.9689 F1-Score: 0.9688\n"
          ]
        },
        {
          "name": "stderr",
          "output_type": "stream",
          "text": [
            "Linear Eval Epoch 43: 100%|██████████| 255/255 [01:55<00:00,  2.22it/s]\n"
          ]
        },
        {
          "name": "stdout",
          "output_type": "stream",
          "text": [
            "Linear Eval Epoch 43 Loss: 0.1015 Acc: 0.9635 Precision: 0.9635 Recall: 0.9635 F1-Score: 0.9635\n"
          ]
        },
        {
          "name": "stderr",
          "output_type": "stream",
          "text": [
            "Linear Eval Epoch 44: 100%|██████████| 255/255 [01:54<00:00,  2.23it/s]\n"
          ]
        },
        {
          "name": "stdout",
          "output_type": "stream",
          "text": [
            "Linear Eval Epoch 44 Loss: 0.1078 Acc: 0.9615 Precision: 0.9615 Recall: 0.9615 F1-Score: 0.9615\n"
          ]
        },
        {
          "name": "stderr",
          "output_type": "stream",
          "text": [
            "Linear Eval Epoch 45: 100%|██████████| 255/255 [01:54<00:00,  2.24it/s]\n"
          ]
        },
        {
          "name": "stdout",
          "output_type": "stream",
          "text": [
            "Linear Eval Epoch 45 Loss: 0.1158 Acc: 0.9584 Precision: 0.9585 Recall: 0.9584 F1-Score: 0.9584\n"
          ]
        },
        {
          "name": "stderr",
          "output_type": "stream",
          "text": [
            "Linear Eval Epoch 46: 100%|██████████| 255/255 [01:52<00:00,  2.27it/s]\n"
          ]
        },
        {
          "name": "stdout",
          "output_type": "stream",
          "text": [
            "Linear Eval Epoch 46 Loss: 0.0990 Acc: 0.9626 Precision: 0.9626 Recall: 0.9626 F1-Score: 0.9626\n"
          ]
        },
        {
          "name": "stderr",
          "output_type": "stream",
          "text": [
            "Linear Eval Epoch 47: 100%|██████████| 255/255 [01:53<00:00,  2.24it/s]\n"
          ]
        },
        {
          "name": "stdout",
          "output_type": "stream",
          "text": [
            "Linear Eval Epoch 47 Loss: 0.0932 Acc: 0.9648 Precision: 0.9648 Recall: 0.9648 F1-Score: 0.9648\n"
          ]
        },
        {
          "name": "stderr",
          "output_type": "stream",
          "text": [
            "Linear Eval Epoch 48: 100%|██████████| 255/255 [01:53<00:00,  2.24it/s]\n"
          ]
        },
        {
          "name": "stdout",
          "output_type": "stream",
          "text": [
            "Linear Eval Epoch 48 Loss: 0.0937 Acc: 0.9639 Precision: 0.9640 Recall: 0.9639 F1-Score: 0.9640\n"
          ]
        },
        {
          "name": "stderr",
          "output_type": "stream",
          "text": [
            "Linear Eval Epoch 49: 100%|██████████| 255/255 [01:54<00:00,  2.23it/s]\n"
          ]
        },
        {
          "name": "stdout",
          "output_type": "stream",
          "text": [
            "Linear Eval Epoch 49 Loss: 0.0720 Acc: 0.9719 Precision: 0.9719 Recall: 0.9719 F1-Score: 0.9719\n"
          ]
        },
        {
          "name": "stderr",
          "output_type": "stream",
          "text": [
            "Linear Eval Epoch 50: 100%|██████████| 255/255 [01:53<00:00,  2.25it/s]\n"
          ]
        },
        {
          "name": "stdout",
          "output_type": "stream",
          "text": [
            "Linear Eval Epoch 50 Loss: 0.0942 Acc: 0.9658 Precision: 0.9658 Recall: 0.9658 F1-Score: 0.9658\n"
          ]
        },
        {
          "name": "stderr",
          "output_type": "stream",
          "text": [
            "Linear Eval Epoch 51: 100%|██████████| 255/255 [01:53<00:00,  2.25it/s]\n"
          ]
        },
        {
          "name": "stdout",
          "output_type": "stream",
          "text": [
            "Linear Eval Epoch 51 Loss: 0.0758 Acc: 0.9718 Precision: 0.9718 Recall: 0.9718 F1-Score: 0.9718\n"
          ]
        },
        {
          "name": "stderr",
          "output_type": "stream",
          "text": [
            "Linear Eval Epoch 52: 100%|██████████| 255/255 [01:54<00:00,  2.23it/s]\n"
          ]
        },
        {
          "name": "stdout",
          "output_type": "stream",
          "text": [
            "Linear Eval Epoch 52 Loss: 0.0787 Acc: 0.9716 Precision: 0.9715 Recall: 0.9716 F1-Score: 0.9715\n"
          ]
        },
        {
          "name": "stderr",
          "output_type": "stream",
          "text": [
            "Linear Eval Epoch 53: 100%|██████████| 255/255 [01:52<00:00,  2.26it/s]\n"
          ]
        },
        {
          "name": "stdout",
          "output_type": "stream",
          "text": [
            "Linear Eval Epoch 53 Loss: 0.0809 Acc: 0.9702 Precision: 0.9702 Recall: 0.9702 F1-Score: 0.9702\n"
          ]
        },
        {
          "name": "stderr",
          "output_type": "stream",
          "text": [
            "Linear Eval Epoch 54: 100%|██████████| 255/255 [01:52<00:00,  2.27it/s]\n"
          ]
        },
        {
          "name": "stdout",
          "output_type": "stream",
          "text": [
            "Linear Eval Epoch 54 Loss: 0.1085 Acc: 0.9625 Precision: 0.9625 Recall: 0.9625 F1-Score: 0.9625\n"
          ]
        },
        {
          "name": "stderr",
          "output_type": "stream",
          "text": [
            "Linear Eval Epoch 55: 100%|██████████| 255/255 [01:53<00:00,  2.24it/s]\n"
          ]
        },
        {
          "name": "stdout",
          "output_type": "stream",
          "text": [
            "Linear Eval Epoch 55 Loss: 0.0975 Acc: 0.9679 Precision: 0.9679 Recall: 0.9679 F1-Score: 0.9679\n"
          ]
        },
        {
          "name": "stderr",
          "output_type": "stream",
          "text": [
            "Linear Eval Epoch 56: 100%|██████████| 255/255 [01:54<00:00,  2.22it/s]\n"
          ]
        },
        {
          "name": "stdout",
          "output_type": "stream",
          "text": [
            "Linear Eval Epoch 56 Loss: 0.0783 Acc: 0.9740 Precision: 0.9740 Recall: 0.9740 F1-Score: 0.9740\n"
          ]
        },
        {
          "name": "stderr",
          "output_type": "stream",
          "text": [
            "Linear Eval Epoch 57: 100%|██████████| 255/255 [01:54<00:00,  2.23it/s]\n"
          ]
        },
        {
          "name": "stdout",
          "output_type": "stream",
          "text": [
            "Linear Eval Epoch 57 Loss: 0.0903 Acc: 0.9659 Precision: 0.9659 Recall: 0.9659 F1-Score: 0.9659\n"
          ]
        },
        {
          "name": "stderr",
          "output_type": "stream",
          "text": [
            "Linear Eval Epoch 58: 100%|██████████| 255/255 [01:54<00:00,  2.23it/s]\n"
          ]
        },
        {
          "name": "stdout",
          "output_type": "stream",
          "text": [
            "Linear Eval Epoch 58 Loss: 0.0723 Acc: 0.9739 Precision: 0.9739 Recall: 0.9739 F1-Score: 0.9739\n"
          ]
        },
        {
          "name": "stderr",
          "output_type": "stream",
          "text": [
            "Linear Eval Epoch 59: 100%|██████████| 255/255 [01:53<00:00,  2.25it/s]\n"
          ]
        },
        {
          "name": "stdout",
          "output_type": "stream",
          "text": [
            "Linear Eval Epoch 59 Loss: 0.0789 Acc: 0.9729 Precision: 0.9729 Recall: 0.9729 F1-Score: 0.9729\n"
          ]
        },
        {
          "name": "stderr",
          "output_type": "stream",
          "text": [
            "Linear Eval Epoch 60: 100%|██████████| 255/255 [01:54<00:00,  2.24it/s]\n"
          ]
        },
        {
          "name": "stdout",
          "output_type": "stream",
          "text": [
            "Linear Eval Epoch 60 Loss: 0.0780 Acc: 0.9712 Precision: 0.9712 Recall: 0.9712 F1-Score: 0.9712\n"
          ]
        },
        {
          "name": "stderr",
          "output_type": "stream",
          "text": [
            "Linear Eval Epoch 61: 100%|██████████| 255/255 [01:53<00:00,  2.25it/s]\n"
          ]
        },
        {
          "name": "stdout",
          "output_type": "stream",
          "text": [
            "Linear Eval Epoch 61 Loss: 0.0691 Acc: 0.9751 Precision: 0.9751 Recall: 0.9751 F1-Score: 0.9751\n"
          ]
        },
        {
          "name": "stderr",
          "output_type": "stream",
          "text": [
            "Linear Eval Epoch 62: 100%|██████████| 255/255 [01:53<00:00,  2.24it/s]\n"
          ]
        },
        {
          "name": "stdout",
          "output_type": "stream",
          "text": [
            "Linear Eval Epoch 62 Loss: 0.0801 Acc: 0.9709 Precision: 0.9709 Recall: 0.9709 F1-Score: 0.9709\n"
          ]
        },
        {
          "name": "stderr",
          "output_type": "stream",
          "text": [
            "Linear Eval Epoch 63: 100%|██████████| 255/255 [01:52<00:00,  2.26it/s]\n"
          ]
        },
        {
          "name": "stdout",
          "output_type": "stream",
          "text": [
            "Linear Eval Epoch 63 Loss: 0.1043 Acc: 0.9649 Precision: 0.9650 Recall: 0.9649 F1-Score: 0.9649\n"
          ]
        },
        {
          "name": "stderr",
          "output_type": "stream",
          "text": [
            "Linear Eval Epoch 64: 100%|██████████| 255/255 [01:53<00:00,  2.24it/s]\n"
          ]
        },
        {
          "name": "stdout",
          "output_type": "stream",
          "text": [
            "Linear Eval Epoch 64 Loss: 0.0917 Acc: 0.9687 Precision: 0.9687 Recall: 0.9687 F1-Score: 0.9687\n"
          ]
        },
        {
          "name": "stderr",
          "output_type": "stream",
          "text": [
            "Linear Eval Epoch 65: 100%|██████████| 255/255 [01:54<00:00,  2.23it/s]\n"
          ]
        },
        {
          "name": "stdout",
          "output_type": "stream",
          "text": [
            "Linear Eval Epoch 65 Loss: 0.0686 Acc: 0.9739 Precision: 0.9739 Recall: 0.9739 F1-Score: 0.9739\n"
          ]
        },
        {
          "name": "stderr",
          "output_type": "stream",
          "text": [
            "Linear Eval Epoch 66: 100%|██████████| 255/255 [01:53<00:00,  2.25it/s]\n"
          ]
        },
        {
          "name": "stdout",
          "output_type": "stream",
          "text": [
            "Linear Eval Epoch 66 Loss: 0.0730 Acc: 0.9745 Precision: 0.9745 Recall: 0.9745 F1-Score: 0.9745\n"
          ]
        },
        {
          "name": "stderr",
          "output_type": "stream",
          "text": [
            "Linear Eval Epoch 67: 100%|██████████| 255/255 [01:55<00:00,  2.21it/s]\n"
          ]
        },
        {
          "name": "stdout",
          "output_type": "stream",
          "text": [
            "Linear Eval Epoch 67 Loss: 0.0893 Acc: 0.9674 Precision: 0.9674 Recall: 0.9674 F1-Score: 0.9674\n"
          ]
        },
        {
          "name": "stderr",
          "output_type": "stream",
          "text": [
            "Linear Eval Epoch 68: 100%|██████████| 255/255 [01:54<00:00,  2.23it/s]\n"
          ]
        },
        {
          "name": "stdout",
          "output_type": "stream",
          "text": [
            "Linear Eval Epoch 68 Loss: 0.0777 Acc: 0.9742 Precision: 0.9742 Recall: 0.9742 F1-Score: 0.9742\n"
          ]
        },
        {
          "name": "stderr",
          "output_type": "stream",
          "text": [
            "Linear Eval Epoch 69: 100%|██████████| 255/255 [01:53<00:00,  2.24it/s]\n"
          ]
        },
        {
          "name": "stdout",
          "output_type": "stream",
          "text": [
            "Linear Eval Epoch 69 Loss: 0.0905 Acc: 0.9689 Precision: 0.9688 Recall: 0.9689 F1-Score: 0.9688\n"
          ]
        },
        {
          "name": "stderr",
          "output_type": "stream",
          "text": [
            "Linear Eval Epoch 70: 100%|██████████| 255/255 [01:52<00:00,  2.26it/s]\n"
          ]
        },
        {
          "name": "stdout",
          "output_type": "stream",
          "text": [
            "Linear Eval Epoch 70 Loss: 0.0693 Acc: 0.9740 Precision: 0.9740 Recall: 0.9740 F1-Score: 0.9740\n"
          ]
        },
        {
          "name": "stderr",
          "output_type": "stream",
          "text": [
            "Linear Eval Epoch 71: 100%|██████████| 255/255 [01:53<00:00,  2.25it/s]\n"
          ]
        },
        {
          "name": "stdout",
          "output_type": "stream",
          "text": [
            "Linear Eval Epoch 71 Loss: 0.0834 Acc: 0.9700 Precision: 0.9699 Recall: 0.9700 F1-Score: 0.9699\n"
          ]
        },
        {
          "name": "stderr",
          "output_type": "stream",
          "text": [
            "Linear Eval Epoch 72: 100%|██████████| 255/255 [01:53<00:00,  2.25it/s]\n"
          ]
        },
        {
          "name": "stdout",
          "output_type": "stream",
          "text": [
            "Linear Eval Epoch 72 Loss: 0.0827 Acc: 0.9693 Precision: 0.9694 Recall: 0.9693 F1-Score: 0.9694\n"
          ]
        },
        {
          "name": "stderr",
          "output_type": "stream",
          "text": [
            "Linear Eval Epoch 73: 100%|██████████| 255/255 [01:54<00:00,  2.24it/s]\n"
          ]
        },
        {
          "name": "stdout",
          "output_type": "stream",
          "text": [
            "Linear Eval Epoch 73 Loss: 0.0658 Acc: 0.9762 Precision: 0.9762 Recall: 0.9762 F1-Score: 0.9762\n"
          ]
        },
        {
          "name": "stderr",
          "output_type": "stream",
          "text": [
            "Linear Eval Epoch 74: 100%|██████████| 255/255 [01:53<00:00,  2.24it/s]\n"
          ]
        },
        {
          "name": "stdout",
          "output_type": "stream",
          "text": [
            "Linear Eval Epoch 74 Loss: 0.0798 Acc: 0.9701 Precision: 0.9701 Recall: 0.9701 F1-Score: 0.9701\n"
          ]
        },
        {
          "name": "stderr",
          "output_type": "stream",
          "text": [
            "Linear Eval Epoch 75: 100%|██████████| 255/255 [01:53<00:00,  2.24it/s]\n"
          ]
        },
        {
          "name": "stdout",
          "output_type": "stream",
          "text": [
            "Linear Eval Epoch 75 Loss: 0.0754 Acc: 0.9724 Precision: 0.9724 Recall: 0.9724 F1-Score: 0.9724\n"
          ]
        },
        {
          "name": "stderr",
          "output_type": "stream",
          "text": [
            "Linear Eval Epoch 76: 100%|██████████| 255/255 [01:52<00:00,  2.26it/s]\n"
          ]
        },
        {
          "name": "stdout",
          "output_type": "stream",
          "text": [
            "Linear Eval Epoch 76 Loss: 0.0829 Acc: 0.9706 Precision: 0.9706 Recall: 0.9706 F1-Score: 0.9706\n"
          ]
        },
        {
          "name": "stderr",
          "output_type": "stream",
          "text": [
            "Linear Eval Epoch 77: 100%|██████████| 255/255 [01:54<00:00,  2.24it/s]\n"
          ]
        },
        {
          "name": "stdout",
          "output_type": "stream",
          "text": [
            "Linear Eval Epoch 77 Loss: 0.0886 Acc: 0.9663 Precision: 0.9663 Recall: 0.9663 F1-Score: 0.9663\n"
          ]
        },
        {
          "name": "stderr",
          "output_type": "stream",
          "text": [
            "Linear Eval Epoch 78: 100%|██████████| 255/255 [01:52<00:00,  2.26it/s]\n"
          ]
        },
        {
          "name": "stdout",
          "output_type": "stream",
          "text": [
            "Linear Eval Epoch 78 Loss: 0.0673 Acc: 0.9747 Precision: 0.9747 Recall: 0.9747 F1-Score: 0.9747\n"
          ]
        },
        {
          "name": "stderr",
          "output_type": "stream",
          "text": [
            "Linear Eval Epoch 79: 100%|██████████| 255/255 [01:53<00:00,  2.24it/s]\n"
          ]
        },
        {
          "name": "stdout",
          "output_type": "stream",
          "text": [
            "Linear Eval Epoch 79 Loss: 0.0866 Acc: 0.9665 Precision: 0.9666 Recall: 0.9665 F1-Score: 0.9665\n"
          ]
        },
        {
          "name": "stderr",
          "output_type": "stream",
          "text": [
            "Linear Eval Epoch 80: 100%|██████████| 255/255 [01:54<00:00,  2.24it/s]\n"
          ]
        },
        {
          "name": "stdout",
          "output_type": "stream",
          "text": [
            "Linear Eval Epoch 80 Loss: 0.0850 Acc: 0.9697 Precision: 0.9697 Recall: 0.9697 F1-Score: 0.9697\n"
          ]
        },
        {
          "name": "stderr",
          "output_type": "stream",
          "text": [
            "Linear Eval Epoch 81: 100%|██████████| 255/255 [01:53<00:00,  2.25it/s]\n"
          ]
        },
        {
          "name": "stdout",
          "output_type": "stream",
          "text": [
            "Linear Eval Epoch 81 Loss: 0.0776 Acc: 0.9739 Precision: 0.9739 Recall: 0.9739 F1-Score: 0.9739\n"
          ]
        },
        {
          "name": "stderr",
          "output_type": "stream",
          "text": [
            "Linear Eval Epoch 82: 100%|██████████| 255/255 [01:53<00:00,  2.25it/s]\n"
          ]
        },
        {
          "name": "stdout",
          "output_type": "stream",
          "text": [
            "Linear Eval Epoch 82 Loss: 0.0969 Acc: 0.9633 Precision: 0.9634 Recall: 0.9633 F1-Score: 0.9634\n"
          ]
        },
        {
          "name": "stderr",
          "output_type": "stream",
          "text": [
            "Linear Eval Epoch 83: 100%|██████████| 255/255 [01:53<00:00,  2.24it/s]\n"
          ]
        },
        {
          "name": "stdout",
          "output_type": "stream",
          "text": [
            "Linear Eval Epoch 83 Loss: 0.0858 Acc: 0.9707 Precision: 0.9707 Recall: 0.9707 F1-Score: 0.9707\n"
          ]
        },
        {
          "name": "stderr",
          "output_type": "stream",
          "text": [
            "Linear Eval Epoch 84: 100%|██████████| 255/255 [01:54<00:00,  2.22it/s]\n"
          ]
        },
        {
          "name": "stdout",
          "output_type": "stream",
          "text": [
            "Linear Eval Epoch 84 Loss: 0.0589 Acc: 0.9787 Precision: 0.9787 Recall: 0.9787 F1-Score: 0.9787\n"
          ]
        },
        {
          "name": "stderr",
          "output_type": "stream",
          "text": [
            "Linear Eval Epoch 85: 100%|██████████| 255/255 [01:52<00:00,  2.26it/s]\n"
          ]
        },
        {
          "name": "stdout",
          "output_type": "stream",
          "text": [
            "Linear Eval Epoch 85 Loss: 0.0780 Acc: 0.9713 Precision: 0.9713 Recall: 0.9713 F1-Score: 0.9713\n"
          ]
        },
        {
          "name": "stderr",
          "output_type": "stream",
          "text": [
            "Linear Eval Epoch 86: 100%|██████████| 255/255 [01:53<00:00,  2.24it/s]\n"
          ]
        },
        {
          "name": "stdout",
          "output_type": "stream",
          "text": [
            "Linear Eval Epoch 86 Loss: 0.0755 Acc: 0.9746 Precision: 0.9746 Recall: 0.9746 F1-Score: 0.9746\n"
          ]
        },
        {
          "name": "stderr",
          "output_type": "stream",
          "text": [
            "Linear Eval Epoch 87: 100%|██████████| 255/255 [01:56<00:00,  2.19it/s]\n"
          ]
        },
        {
          "name": "stdout",
          "output_type": "stream",
          "text": [
            "Linear Eval Epoch 87 Loss: 0.0732 Acc: 0.9754 Precision: 0.9754 Recall: 0.9754 F1-Score: 0.9754\n"
          ]
        },
        {
          "name": "stderr",
          "output_type": "stream",
          "text": [
            "Linear Eval Epoch 88: 100%|██████████| 255/255 [01:54<00:00,  2.22it/s]\n"
          ]
        },
        {
          "name": "stdout",
          "output_type": "stream",
          "text": [
            "Linear Eval Epoch 88 Loss: 0.0741 Acc: 0.9731 Precision: 0.9731 Recall: 0.9731 F1-Score: 0.9731\n"
          ]
        },
        {
          "name": "stderr",
          "output_type": "stream",
          "text": [
            "Linear Eval Epoch 89: 100%|██████████| 255/255 [01:54<00:00,  2.23it/s]\n"
          ]
        },
        {
          "name": "stdout",
          "output_type": "stream",
          "text": [
            "Linear Eval Epoch 89 Loss: 0.0877 Acc: 0.9692 Precision: 0.9692 Recall: 0.9692 F1-Score: 0.9692\n"
          ]
        },
        {
          "name": "stderr",
          "output_type": "stream",
          "text": [
            "Linear Eval Epoch 90: 100%|██████████| 255/255 [01:52<00:00,  2.27it/s]\n"
          ]
        },
        {
          "name": "stdout",
          "output_type": "stream",
          "text": [
            "Linear Eval Epoch 90 Loss: 0.0798 Acc: 0.9712 Precision: 0.9712 Recall: 0.9712 F1-Score: 0.9712\n"
          ]
        },
        {
          "name": "stderr",
          "output_type": "stream",
          "text": [
            "Linear Eval Epoch 91: 100%|██████████| 255/255 [01:53<00:00,  2.25it/s]\n"
          ]
        },
        {
          "name": "stdout",
          "output_type": "stream",
          "text": [
            "Linear Eval Epoch 91 Loss: 0.0782 Acc: 0.9716 Precision: 0.9716 Recall: 0.9716 F1-Score: 0.9716\n"
          ]
        },
        {
          "name": "stderr",
          "output_type": "stream",
          "text": [
            "Linear Eval Epoch 92: 100%|██████████| 255/255 [01:52<00:00,  2.26it/s]\n"
          ]
        },
        {
          "name": "stdout",
          "output_type": "stream",
          "text": [
            "Linear Eval Epoch 92 Loss: 0.0774 Acc: 0.9719 Precision: 0.9719 Recall: 0.9719 F1-Score: 0.9719\n"
          ]
        },
        {
          "name": "stderr",
          "output_type": "stream",
          "text": [
            "Linear Eval Epoch 93: 100%|██████████| 255/255 [01:54<00:00,  2.23it/s]\n"
          ]
        },
        {
          "name": "stdout",
          "output_type": "stream",
          "text": [
            "Linear Eval Epoch 93 Loss: 0.0616 Acc: 0.9765 Precision: 0.9765 Recall: 0.9765 F1-Score: 0.9765\n"
          ]
        },
        {
          "name": "stderr",
          "output_type": "stream",
          "text": [
            "Linear Eval Epoch 94: 100%|██████████| 255/255 [01:54<00:00,  2.22it/s]\n"
          ]
        },
        {
          "name": "stdout",
          "output_type": "stream",
          "text": [
            "Linear Eval Epoch 94 Loss: 0.0714 Acc: 0.9749 Precision: 0.9748 Recall: 0.9749 F1-Score: 0.9749\n"
          ]
        },
        {
          "name": "stderr",
          "output_type": "stream",
          "text": [
            "Linear Eval Epoch 95: 100%|██████████| 255/255 [01:54<00:00,  2.22it/s]\n"
          ]
        },
        {
          "name": "stdout",
          "output_type": "stream",
          "text": [
            "Linear Eval Epoch 95 Loss: 0.0751 Acc: 0.9736 Precision: 0.9736 Recall: 0.9736 F1-Score: 0.9736\n"
          ]
        },
        {
          "name": "stderr",
          "output_type": "stream",
          "text": [
            "Linear Eval Epoch 96: 100%|██████████| 255/255 [01:54<00:00,  2.23it/s]\n"
          ]
        },
        {
          "name": "stdout",
          "output_type": "stream",
          "text": [
            "Linear Eval Epoch 96 Loss: 0.0811 Acc: 0.9720 Precision: 0.9720 Recall: 0.9720 F1-Score: 0.9720\n"
          ]
        },
        {
          "name": "stderr",
          "output_type": "stream",
          "text": [
            "Linear Eval Epoch 97: 100%|██████████| 255/255 [01:54<00:00,  2.23it/s]\n"
          ]
        },
        {
          "name": "stdout",
          "output_type": "stream",
          "text": [
            "Linear Eval Epoch 97 Loss: 0.0686 Acc: 0.9749 Precision: 0.9749 Recall: 0.9749 F1-Score: 0.9749\n"
          ]
        },
        {
          "name": "stderr",
          "output_type": "stream",
          "text": [
            "Linear Eval Epoch 98: 100%|██████████| 255/255 [01:53<00:00,  2.24it/s]\n"
          ]
        },
        {
          "name": "stdout",
          "output_type": "stream",
          "text": [
            "Linear Eval Epoch 98 Loss: 0.0709 Acc: 0.9744 Precision: 0.9744 Recall: 0.9744 F1-Score: 0.9744\n"
          ]
        },
        {
          "name": "stderr",
          "output_type": "stream",
          "text": [
            "Linear Eval Epoch 99: 100%|██████████| 255/255 [01:53<00:00,  2.24it/s]\n"
          ]
        },
        {
          "name": "stdout",
          "output_type": "stream",
          "text": [
            "Linear Eval Epoch 99 Loss: 0.0741 Acc: 0.9722 Precision: 0.9721 Recall: 0.9722 F1-Score: 0.9722\n"
          ]
        },
        {
          "name": "stderr",
          "output_type": "stream",
          "text": [
            "Linear Eval Epoch 100: 100%|██████████| 255/255 [01:54<00:00,  2.22it/s]"
          ]
        },
        {
          "name": "stdout",
          "output_type": "stream",
          "text": [
            "Linear Eval Epoch 100 Loss: 0.0605 Acc: 0.9789 Precision: 0.9789 Recall: 0.9789 F1-Score: 0.9789\n"
          ]
        },
        {
          "name": "stderr",
          "output_type": "stream",
          "text": [
            "\n"
          ]
        }
      ],
      "source": [
        "import torch\n",
        "import torch.nn as nn\n",
        "import torch.optim as optim\n",
        "import matplotlib.pyplot as plt\n",
        "from sklearn.metrics import precision_score, recall_score, f1_score\n",
        "from tqdm import tqdm\n",
        "\n",
        "# Freeze the backbone\n",
        "for param in model.backbone.parameters():\n",
        "    param.requires_grad = False\n",
        "\n",
        "# Replace the backbone's classifier with a new linear layer\n",
        "num_classes = 3  # Number of classes in your dataset\n",
        "# num_features = model.backbone.fc.in_features  # Adjust this according to your model\n",
        "model.backbone.fc = nn.Linear(num_features, num_classes)\n",
        "model = model.backbone.to(device)\n",
        "\n",
        "# Define loss function and optimizer for the linear classifier\n",
        "criterion = nn.CrossEntropyLoss()\n",
        "optimizer = optim.Adam(model.fc.parameters(), lr=0.001)\n",
        "\n",
        "# Metrics storage\n",
        "train_losses = []\n",
        "train_accuracies = []\n",
        "train_precisions = []\n",
        "train_recalls = []\n",
        "train_f1_scores = []\n",
        "\n",
        "num_epochs_linear = 100  # Adjust as needed\n",
        "\n",
        "for epoch in range(num_epochs_linear):\n",
        "    model.train()\n",
        "    running_loss = 0.0\n",
        "    running_corrects = 0\n",
        "\n",
        "    # For calculating precision, recall, and F1\n",
        "    all_labels = []\n",
        "    all_preds = []\n",
        "\n",
        "    for inputs, labels in tqdm(dataloaders['train'], desc=f\"Linear Eval Epoch {epoch+1}\"):\n",
        "        inputs = inputs.to(device)\n",
        "        labels = labels.to(device)\n",
        "\n",
        "        optimizer.zero_grad()\n",
        "\n",
        "        outputs = model(inputs)\n",
        "        loss = criterion(outputs, labels)\n",
        "        loss.backward()\n",
        "        optimizer.step()\n",
        "\n",
        "        _, preds = torch.max(outputs, 1)\n",
        "        running_loss += loss.item() * inputs.size(0)\n",
        "        running_corrects += torch.sum(preds == labels.data)\n",
        "\n",
        "        # Store predictions and labels for metric calculations\n",
        "        all_labels.extend(labels.cpu().numpy())\n",
        "        all_preds.extend(preds.cpu().numpy())\n",
        "\n",
        "    epoch_loss = running_loss / len(dataloaders['train'].dataset)\n",
        "    epoch_acc = running_corrects.double() / len(dataloaders['train'].dataset)\n",
        "\n",
        "    # Calculate precision, recall, and F1-score\n",
        "    epoch_precision = precision_score(all_labels, all_preds, average='weighted')\n",
        "    epoch_recall = recall_score(all_labels, all_preds, average='weighted')\n",
        "    epoch_f1 = f1_score(all_labels, all_preds, average='weighted')\n",
        "\n",
        "    train_losses.append(epoch_loss)\n",
        "    train_accuracies.append(epoch_acc.item())\n",
        "    train_precisions.append(epoch_precision)\n",
        "    train_recalls.append(epoch_recall)\n",
        "    train_f1_scores.append(epoch_f1)\n",
        "\n",
        "    print(f\"Linear Eval Epoch {epoch+1} Loss: {epoch_loss:.4f} Acc: {epoch_acc:.4f} Precision: {epoch_precision:.4f} Recall: {epoch_recall:.4f} F1-Score: {epoch_f1:.4f}\")\n"
      ]
    },
    {
      "cell_type": "code",
      "execution_count": 27,
      "metadata": {
        "colab": {
          "base_uri": "https://localhost:8080/",
          "height": 507
        },
        "id": "3ggtSDqnIe9G",
        "outputId": "3d090468-2bda-42e2-f346-3716f2c95e50"
      },
      "outputs": [
        {
          "data": {
            "image/png": "[encoded data removed]",
            "text/plain": [
              "<Figure size 1200x500 with 2 Axes>"
            ]
          },
          "metadata": {},
          "output_type": "display_data"
        }
      ],
      "source": [
        "# Plotting the training loss and accuracy\n",
        "plt.figure(figsize=(12, 5))\n",
        "\n",
        "plt.subplot(1, 2, 1)\n",
        "plt.plot(range(1, num_epochs_linear + 1), train_losses, label='Training Loss')\n",
        "plt.xlabel('Epochs')\n",
        "plt.ylabel('Loss')\n",
        "plt.title('Training Loss Over Epochs')\n",
        "plt.legend()\n",
        "\n",
        "plt.subplot(1, 2, 2)\n",
        "plt.plot(range(1, num_epochs_linear + 1), train_accuracies, label='Training Accuracy')\n",
        "plt.xlabel('Epochs')\n",
        "plt.ylabel('Accuracy')\n",
        "plt.title('Training Accuracy Over Epochs')\n",
        "plt.legend()\n",
        "\n",
        "plt.tight_layout()\n",
        "plt.show()\n"
      ]
    },
    {
      "cell_type": "code",
      "execution_count": 28,
      "metadata": {
        "colab": {
          "base_uri": "https://localhost:8080/",
          "height": 545
        },
        "id": "h8zSrQtD8cH9",
        "outputId": "4d09abf2-0904-4fc3-bda8-3395ab7940c7"
      },
      "outputs": [
        {
          "data": {
            "image/png": "[encoded data removed]",
            "text/plain": [
              "<Figure size 1000x600 with 1 Axes>"
            ]
          },
          "metadata": {},
          "output_type": "display_data"
        }
      ],
      "source": [
        "# Plotting accuracy, precision, recall, and F1-score\n",
        "plt.figure(figsize=(10, 6))\n",
        "\n",
        "metrics = ['Accuracy', 'Precision', 'Recall', 'F1-Score']\n",
        "scores = [train_accuracies[-1], train_precisions[-1], train_recalls[-1], train_f1_scores[-1]]  # Only plot the last epoch's values\n",
        "\n",
        "# Plot the metrics\n",
        "plt.bar(metrics, scores, color=['lightblue', 'skyblue', 'lightgreen', 'salmon'])\n",
        "plt.ylabel('Score')\n",
        "plt.ylim([0, 1])  # Assuming the metrics are normalized (between 0 and 1)\n",
        "plt.title('Training Evaluation Metrics at Final Epoch')\n",
        "\n",
        "plt.show()\n"
      ]
    }
  ],
  "metadata": {
    "accelerator": "GPU",
    "colab": {
      "gpuType": "L4",
      "machine_shape": "hm",
      "provenance": []
    },
    "kernelspec": {
      "display_name": "Python 3",
      "name": "python3"
    },
    "language_info": {
      "name": "python"
    }
  },
  "nbformat": 4,
  "nbformat_minor": 0
}
