{
  "cells": [
    {
      "cell_type": "code",
      "execution_count": 1,
      "metadata": {
        "colab": {
          "base_uri": "https://localhost:8080/"
        },
        "id": "Bv-8ajWoYM9i",
        "outputId": "7d460846-65bb-437e-8489-3a196cf7adc0"
      },
      "outputs": [
        {
          "output_type": "stream",
          "name": "stdout",
          "text": [
            "Requirement already satisfied: kaggle in /usr/local/lib/python3.10/dist-packages (1.6.17)\n",
            "Requirement already satisfied: six>=1.10 in /usr/local/lib/python3.10/dist-packages (from kaggle) (1.16.0)\n",
            "Requirement already satisfied: certifi>=2023.7.22 in /usr/local/lib/python3.10/dist-packages (from kaggle) (2024.7.4)\n",
            "Requirement already satisfied: python-dateutil in /usr/local/lib/python3.10/dist-packages (from kaggle) (2.8.2)\n",
            "Requirement already satisfied: requests in /usr/local/lib/python3.10/dist-packages (from kaggle) (2.32.3)\n",
            "Requirement already satisfied: tqdm in /usr/local/lib/python3.10/dist-packages (from kaggle) (4.66.5)\n",
            "Requirement already satisfied: python-slugify in /usr/local/lib/python3.10/dist-packages (from kaggle) (8.0.4)\n",
            "Requirement already satisfied: urllib3 in /usr/local/lib/python3.10/dist-packages (from kaggle) (2.0.7)\n",
            "Requirement already satisfied: bleach in /usr/local/lib/python3.10/dist-packages (from kaggle) (6.1.0)\n",
            "Requirement already satisfied: webencodings in /usr/local/lib/python3.10/dist-packages (from bleach->kaggle) (0.5.1)\n",
            "Requirement already satisfied: text-unidecode>=1.3 in /usr/local/lib/python3.10/dist-packages (from python-slugify->kaggle) (1.3)\n",
            "Requirement already satisfied: charset-normalizer<4,>=2 in /usr/local/lib/python3.10/dist-packages (from requests->kaggle) (3.3.2)\n",
            "Requirement already satisfied: idna<4,>=2.5 in /usr/local/lib/python3.10/dist-packages (from requests->kaggle) (3.7)\n",
            "Dataset URL: https://www.kaggle.com/datasets/paultimothymooney/chest-xray-pneumonia\n",
            "License(s): other\n",
            "Downloading chest-xray-pneumonia.zip to /content\n",
            "100% 2.29G/2.29G [00:09<00:00, 282MB/s]\n",
            "100% 2.29G/2.29G [00:09<00:00, 269MB/s]\n",
            "Dataset URL: https://www.kaggle.com/datasets/tawsifurrahman/tuberculosis-tb-chest-xray-dataset\n",
            "License(s): copyright-authors\n",
            "Downloading tuberculosis-tb-chest-xray-dataset.zip to /content\n",
            " 98% 650M/663M [00:04<00:00, 199MB/s]\n",
            "100% 663M/663M [00:04<00:00, 149MB/s]\n"
          ]
        }
      ],
      "source": [
        "!pip install kaggle\n",
        "!mkdir ~/.kaggle\n",
        "!kaggle datasets download -d paultimothymooney/chest-xray-pneumonia\n",
        "!kaggle datasets download -d tawsifurrahman/tuberculosis-tb-chest-xray-dataset"
      ]
    },
    {
      "cell_type": "code",
      "execution_count": 2,
      "metadata": {
        "id": "IgXxqczPYdZM"
      },
      "outputs": [],
      "source": [
        "!unzip chest-xray-pneumonia.zip &> /dev/null\n",
        "!unzip tuberculosis-tb-chest-xray-dataset.zip &> /dev/null"
      ]
    },
    {
      "cell_type": "code",
      "execution_count": 3,
      "metadata": {
        "id": "E7qVpqocYgFo"
      },
      "outputs": [],
      "source": [
        " !mv ./TB_Chest_Radiography_Database/Normal ./TB_Chest_Radiography_Database/NORMAL"
      ]
    },
    {
      "cell_type": "code",
      "execution_count": 4,
      "metadata": {
        "id": "PDESZofBYiO7"
      },
      "outputs": [],
      "source": [
        "!mv ./TB_Chest_Radiography_Database/Tuberculosis ./TB_Chest_Radiography_Database/TUBERCULOSIS"
      ]
    },
    {
      "cell_type": "code",
      "execution_count": 5,
      "metadata": {
        "id": "oHSVmMRlYkkN"
      },
      "outputs": [],
      "source": [
        "!rm ./TB_Chest_Radiography_Database/Normal.metadata.xlsx ./TB_Chest_Radiography_Database/README.md.txt ./TB_Chest_Radiography_Database/Tuberculosis.metadata.xlsx"
      ]
    },
    {
      "cell_type": "code",
      "execution_count": 6,
      "metadata": {
        "id": "iQpPLDo0YnfD"
      },
      "outputs": [],
      "source": [
        "data_chestxray_dir = \"./chest_xray/chest_xray/\"\n",
        "data_chesttb_dir = \"./TB_Chest_Radiography_Database/\""
      ]
    },
    {
      "cell_type": "code",
      "execution_count": 7,
      "metadata": {
        "colab": {
          "base_uri": "https://localhost:8080/"
        },
        "id": "A0x4-0GqYpk_",
        "outputId": "a0b09f96-3c39-463a-e254-8533cdfb8706"
      },
      "outputs": [
        {
          "output_type": "stream",
          "name": "stdout",
          "text": [
            "Dataset split completed!\n"
          ]
        }
      ],
      "source": [
        "import os\n",
        "import shutil\n",
        "import random\n",
        "\n",
        "# Paths to the original folders\n",
        "classes_tbchest = ['NORMAL', 'TUBERCULOSIS']\n",
        "\n",
        "# Paths for the new folders\n",
        "base_dir_tbchest = 'chest_tb'\n",
        "train_dir = os.path.join(base_dir_tbchest, 'train')\n",
        "val_dir = os.path.join(base_dir_tbchest, 'val')\n",
        "test_dir = os.path.join(base_dir_tbchest, 'test')\n",
        "\n",
        "# Create directories\n",
        "os.makedirs(train_dir, exist_ok=True)\n",
        "os.makedirs(val_dir, exist_ok=True)\n",
        "os.makedirs(test_dir, exist_ok=True)\n",
        "\n",
        "for cls in classes_tbchest:\n",
        "    os.makedirs(os.path.join(train_dir, cls), exist_ok=True)\n",
        "    os.makedirs(os.path.join(val_dir, cls), exist_ok=True)\n",
        "    os.makedirs(os.path.join(test_dir, cls), exist_ok=True)\n",
        "\n",
        "# Split ratio\n",
        "train_ratio = 0.7\n",
        "val_ratio = 0.15\n",
        "test_ratio = 0.15\n",
        "\n",
        "# Function to split data\n",
        "def split_data(class_dir, train_dir, val_dir, test_dir):\n",
        "    files = os.listdir(class_dir)\n",
        "    random.shuffle(files)\n",
        "\n",
        "    train_size = int(len(files) * train_ratio)\n",
        "    val_size = int(len(files) * val_ratio)\n",
        "\n",
        "    train_files = files[:train_size]\n",
        "    val_files = files[train_size:train_size + val_size]\n",
        "    test_files = files[train_size + val_size:]\n",
        "\n",
        "    for file in train_files:\n",
        "        shutil.copy(os.path.join(class_dir, file), os.path.join(train_dir, file))\n",
        "\n",
        "    for file in val_files:\n",
        "        shutil.copy(os.path.join(class_dir, file), os.path.join(val_dir, file))\n",
        "\n",
        "    for file in test_files:\n",
        "        shutil.copy(os.path.join(class_dir, file), os.path.join(test_dir, file))\n",
        "\n",
        "# Split each class\n",
        "for cls in classes_tbchest:\n",
        "    class_dir = os.path.join(data_chesttb_dir, cls)\n",
        "    split_data(class_dir, os.path.join(train_dir, cls), os.path.join(val_dir, cls), os.path.join(test_dir, cls))\n",
        "\n",
        "print(\"Dataset split completed!\")"
      ]
    },
    {
      "cell_type": "code",
      "execution_count": 8,
      "metadata": {
        "id": "C3cUxtOEYreQ"
      },
      "outputs": [],
      "source": [
        "data_chesttb_dir = \"./chest_tb/\""
      ]
    },
    {
      "cell_type": "code",
      "execution_count": 9,
      "metadata": {
        "id": "6936gDjMYt2z"
      },
      "outputs": [],
      "source": [
        "from typing import Union\n",
        "import torchvision.transforms as T\n",
        "from PIL.Image import Image\n",
        "from torch import Tensor\n",
        "from typing import List, Optional, Tuple, Union\n",
        "\n",
        "\n",
        "class SimCLRViewTransform:\n",
        "    def __init__(\n",
        "        self,\n",
        "        image_size: int = 224,\n",
        "        color_jitter_strength: float = 1,\n",
        "        use_blur: bool = True,\n",
        "        mean: Tuple[float, Optional[float], Optional[float]] = (0.485, 0.456, 0.406),\n",
        "        std: Tuple[float, Optional[float], Optional[float]] = (0.229, 0.224, 0.225),\n",
        "        **kwargs,\n",
        "    ):\n",
        "        self.image_size = image_size\n",
        "        self.color_jitter_strength = color_jitter_strength\n",
        "        self.use_blur = use_blur\n",
        "        self.mean = mean\n",
        "        self.std = std\n",
        "        self.transform = T.Compose(\n",
        "            [\n",
        "                T.RandomResizedCrop(image_size, antialias=True),\n",
        "                T.RandomHorizontalFlip(p=0.5),\n",
        "                T.RandomApply(\n",
        "                    [\n",
        "                        T.ColorJitter(\n",
        "                            0.8 * self.color_jitter_strength,\n",
        "                            0.8 * self.color_jitter_strength,\n",
        "                            0.8 * self.color_jitter_strength,\n",
        "                            0.2 * self.color_jitter_strength,\n",
        "                        )\n",
        "                    ],\n",
        "                    p=0.8,\n",
        "                ),\n",
        "                T.RandomGrayscale(p=0.2),\n",
        "                T.RandomApply(\n",
        "                    [\n",
        "                        T.GaussianBlur(\n",
        "                            kernel_size=image_size // 20 * 2 + 1, sigma=(0.1, 2.0)\n",
        "                        )\n",
        "                    ],\n",
        "                    p=0.5 if self.use_blur else 0.0,\n",
        "                ),\n",
        "                T.Normalize(mean=mean, std=std),\n",
        "            ]\n",
        "        )\n",
        "\n",
        "    def __call__(self, image: Union[Tensor, Image]) -> Tensor:\n",
        "        return self.transform(image)"
      ]
    },
    {
      "cell_type": "code",
      "execution_count": 10,
      "metadata": {
        "id": "JetZaUD7Yv9B"
      },
      "outputs": [],
      "source": [
        "import os\n",
        "from PIL import Image\n",
        "import torch\n",
        "import numpy as np\n",
        "import torch.nn as nn\n",
        "from torch.utils.data import Dataset\n",
        "from torchvision import datasets, models, transforms\n",
        "\n",
        "\n",
        "def data_transforms(phase):\n",
        "    # If the phase is TRAIN\n",
        "    if phase == 'train':\n",
        "        # Compose transformations: Convert to Tensor\n",
        "        transform = transforms.Compose([\n",
        "            transforms.Resize((256, 256)),\n",
        "            transforms.ToTensor(),\n",
        "        ])\n",
        "\n",
        "    # If the phase is VAL\n",
        "    if phase == 'val':\n",
        "        # Apply the same transformations as the TRAIN phase\n",
        "        transform = transforms.Compose([\n",
        "            transforms.Resize((256, 256)),\n",
        "            transforms.CenterCrop(256),\n",
        "            transforms.ToTensor(),\n",
        "            transforms.Normalize([0.485, 0.456, 0.406], [0.229, 0.224, 0.225]),\n",
        "        ])\n",
        "\n",
        "    # If the phase is TEST\n",
        "    if phase == 'test':\n",
        "        # Apply the same transformations as the TRAIN phase\n",
        "        transform = transforms.Compose([\n",
        "            transforms.Resize(256),\n",
        "            transforms.CenterCrop(256),\n",
        "            transforms.ToTensor(),\n",
        "            transforms.Normalize([0.485, 0.456, 0.406], [0.229, 0.224, 0.225]),\n",
        "        ])\n",
        "\n",
        "    return transform  # Return the composed transformations\n",
        "\n",
        "image_datasets_chestxray = {x: datasets.ImageFolder(os.path.join(data_chestxray_dir, x), data_transforms(x)) for x in ['train', 'val', 'test']}\n",
        "image_datasets_chesttb = {x: datasets.ImageFolder(os.path.join(data_chesttb_dir, x), data_transforms(x)) for x in ['train', 'val', 'test']}\n",
        "\n",
        "new_class_to_idx_tb = {'NORMAL': 0, 'TUBERCULOSIS': 2}\n",
        "\n",
        "# Function to remap the labels in a dataset\n",
        "def remap_labels(dataset, new_class_to_idx):\n",
        "    # Remap the targets\n",
        "    dataset.targets = [new_class_to_idx[dataset.classes[label]] for label in dataset.targets]\n",
        "\n",
        "    # Update class index in dataset.samples\n",
        "    new_samples = []\n",
        "    for path, label in dataset.samples:\n",
        "        new_samples.append((path, new_class_to_idx[dataset.classes[label]]))\n",
        "    dataset.samples = new_samples\n",
        "\n",
        "    # Update the class_to_idx attribute\n",
        "    dataset.class_to_idx = new_class_to_idx\n",
        "    # Update the classes attribute\n",
        "    dataset.classes = list(new_class_to_idx.keys())\n",
        "\n",
        "# Apply the remapping to the chesttb datasets\n",
        "for phase in ['train', 'val', 'test']:\n",
        "    remap_labels(image_datasets_chesttb[phase], new_class_to_idx_tb)"
      ]
    },
    {
      "cell_type": "code",
      "execution_count": 11,
      "metadata": {
        "colab": {
          "base_uri": "https://localhost:8080/"
        },
        "id": "WxP0sv6pYuoS",
        "outputId": "1820173c-5d85-4d41-8b29-63f3bc126c9c"
      },
      "outputs": [
        {
          "output_type": "stream",
          "name": "stdout",
          "text": [
            "{'NORMAL': 0, 'PNEUMONIA': 1}\n",
            "5216\n",
            "(array([0, 1]), array([1341, 3875]))\n"
          ]
        }
      ],
      "source": [
        "print(image_datasets_chestxray['train'].class_to_idx)\n",
        "print(len(image_datasets_chestxray['train']))\n",
        "\n",
        "print(np.unique(image_datasets_chestxray['train'].targets, return_counts=True))"
      ]
    },
    {
      "cell_type": "code",
      "execution_count": 12,
      "metadata": {
        "colab": {
          "base_uri": "https://localhost:8080/"
        },
        "id": "JMyk1JyfYySJ",
        "outputId": "0661ce5f-39ad-403b-d5b5-0fa08be81da4"
      },
      "outputs": [
        {
          "output_type": "stream",
          "name": "stdout",
          "text": [
            "{'NORMAL': 0, 'TUBERCULOSIS': 2}\n",
            "2939\n",
            "(array([0, 2]), array([2450,  489]))\n"
          ]
        }
      ],
      "source": [
        "print(image_datasets_chesttb['train'].class_to_idx)\n",
        "print(len(image_datasets_chesttb['train']))\n",
        "\n",
        "print(np.unique(image_datasets_chesttb['train'].targets, return_counts=True))"
      ]
    },
    {
      "cell_type": "code",
      "execution_count": 13,
      "metadata": {
        "id": "f9PwkPhpYz2u"
      },
      "outputs": [],
      "source": [
        "# Combine the datasets after remapping\n",
        "image_datasets_combined = {\n",
        "    x: torch.utils.data.ConcatDataset([image_datasets_chestxray[x], image_datasets_chesttb[x]])\n",
        "    for x in ['train', 'val', 'test']\n",
        "}"
      ]
    },
    {
      "cell_type": "code",
      "execution_count": 14,
      "metadata": {
        "colab": {
          "base_uri": "https://localhost:8080/"
        },
        "id": "KvUtWLnuY2UD",
        "outputId": "358ebe33-1d8c-4f1a-8df6-55446d64620a"
      },
      "outputs": [
        {
          "output_type": "stream",
          "name": "stdout",
          "text": [
            "Class weights: tensor([0.0003, 0.0003, 0.0020])\n",
            "Sample weights: tensor([0.0003, 0.0003, 0.0003,  ..., 0.0020, 0.0020, 0.0020])\n"
          ]
        }
      ],
      "source": [
        "targets_combined = []\n",
        "\n",
        "for dataset in image_datasets_combined['train'].datasets:\n",
        "    targets_combined.extend(dataset.targets)\n",
        "\n",
        "targets_combined = torch.tensor(targets_combined)\n",
        "\n",
        "# Calculate class weights (inverse of class frequency)\n",
        "class_counts = torch.bincount(targets_combined)\n",
        "class_weights = 1.0 / class_counts.float()\n",
        "print(f\"Class weights: {class_weights}\")\n",
        "\n",
        "# Calculate sample weights based on class weights\n",
        "sample_weights = class_weights[targets_combined]\n",
        "print(f\"Sample weights: {sample_weights}\")\n",
        "\n",
        "# Create WeightedRandomSampler\n",
        "sampler = torch.utils.data.WeightedRandomSampler(weights=sample_weights, num_samples=len(sample_weights), replacement=True)"
      ]
    },
    {
      "cell_type": "code",
      "execution_count": 15,
      "metadata": {
        "colab": {
          "base_uri": "https://localhost:8080/",
          "height": 427
        },
        "id": "Qp0egh9xY-jK",
        "outputId": "790fced4-c89d-483f-eb0e-e7a5ce631651"
      },
      "outputs": [
        {
          "output_type": "display_data",
          "data": {
            "text/plain": [
              "<Figure size 800x400 with 1 Axes>"
            ],
            "image/png": "[encoded data removed]"
          },
          "metadata": {}
        },
        {
          "output_type": "stream",
          "name": "stdout",
          "text": [
            "Class counts before balancing: [3791 3875  489]\n"
          ]
        }
      ],
      "source": [
        "import matplotlib.pyplot as plt\n",
        "\n",
        "# Count the number of instances of each class before balancing\n",
        "class_counts = torch.bincount(targets_combined)\n",
        "\n",
        "# Plot the class distribution\n",
        "plt.figure(figsize=(8, 4))\n",
        "plt.bar(range(len(class_counts)), class_counts.numpy(), tick_label=list(range(len(class_counts))))\n",
        "plt.title(\"Class Distribution Before Balancing\")\n",
        "plt.xlabel(\"Class\")\n",
        "plt.ylabel(\"Number of Samples\")\n",
        "plt.show()\n",
        "\n",
        "print(\"Class counts before balancing:\", class_counts.numpy())"
      ]
    },
    {
      "cell_type": "code",
      "execution_count": 16,
      "metadata": {
        "colab": {
          "base_uri": "https://localhost:8080/",
          "height": 427
        },
        "id": "-hCow2zuZAdE",
        "outputId": "93348daa-6aae-4e44-9231-22fb6fbda275"
      },
      "outputs": [
        {
          "output_type": "display_data",
          "data": {
            "text/plain": [
              "<Figure size 800x400 with 1 Axes>"
            ],
            "image/png": "[encoded data removed]"
          },
          "metadata": {}
        },
        {
          "output_type": "stream",
          "name": "stdout",
          "text": [
            "Class counts after balancing: [2673 2686 2641]\n"
          ]
        }
      ],
      "source": [
        "# Simulate sampling\n",
        "num_samples_to_check = 8000  # You can increase this number for better accuracy\n",
        "sampled_indices = list(sampler)[:num_samples_to_check]\n",
        "sampled_targets = targets_combined[sampled_indices]\n",
        "\n",
        "# Count the number of instances of each class after balancing\n",
        "balanced_class_counts = torch.bincount(sampled_targets)\n",
        "\n",
        "# Plot the class distribution after balancing\n",
        "plt.figure(figsize=(8, 4))\n",
        "plt.bar(range(len(balanced_class_counts)), balanced_class_counts.numpy(), tick_label=list(range(len(balanced_class_counts))))\n",
        "plt.title(\"Class Distribution After Balancing\")\n",
        "plt.xlabel(\"Class\")\n",
        "plt.ylabel(\"Number of Samples\")\n",
        "plt.show()\n",
        "\n",
        "print(\"Class counts after balancing:\", balanced_class_counts.numpy())"
      ]
    },
    {
      "cell_type": "code",
      "execution_count": 17,
      "metadata": {
        "id": "O9n3O372ZCpB"
      },
      "outputs": [],
      "source": [
        "dataloaders = {\n",
        "    'train': torch.utils.data.DataLoader(image_datasets_combined['train'], batch_size = 32, sampler=sampler),\n",
        "    'val': torch.utils.data.DataLoader(image_datasets_combined['val'], batch_size = 32),\n",
        "    'test': torch.utils.data.DataLoader(image_datasets_combined['test'], batch_size = 32)\n",
        "}"
      ]
    },
    {
      "cell_type": "code",
      "execution_count": 18,
      "metadata": {
        "colab": {
          "base_uri": "https://localhost:8080/"
        },
        "id": "QaBi1bu7ZFmI",
        "outputId": "b8bfb572-0b4d-4e74-be59-060c05a78693"
      },
      "outputs": [
        {
          "output_type": "execute_result",
          "data": {
            "text/plain": [
              "255"
            ]
          },
          "metadata": {},
          "execution_count": 18
        }
      ],
      "source": [
        "len(dataloaders['train'])"
      ]
    },
    {
      "cell_type": "code",
      "execution_count": 19,
      "metadata": {
        "id": "sJSd35glZLWU"
      },
      "outputs": [],
      "source": [
        "import torch.nn.functional as F\n",
        "class BarlowTwinsLoss(nn.Module):\n",
        "    def __init__(self, lambda_param: float = 5e-3, **kwargs):\n",
        "        super(BarlowTwinsLoss, self).__init__()\n",
        "        self.lambda_param = lambda_param\n",
        "\n",
        "    def off_diagonal(self, x):\n",
        "        # return a flattened view of the off-diagonal elements of a square matrix\n",
        "        n, m = x.shape\n",
        "        assert n == m\n",
        "        return x.flatten()[:-1].view(n - 1, n + 1)[:, 1:].flatten()\n",
        "\n",
        "    def forward(self, z_a: torch.Tensor, z_b: torch.Tensor):\n",
        "        # normalize repr. along the batch dimension\n",
        "        z_a = F.normalize(z_a, dim=-1)\n",
        "        z_b = F.normalize(z_b, dim=-1)\n",
        "        # normalize the representations along the batch dimension\n",
        "        out_1_norm = (z_a - z_a.mean(dim=0)) / z_a.std(dim=0)\n",
        "        out_2_norm = (z_b - z_b.mean(dim=0)) / z_b.std(dim=0)\n",
        "\n",
        "        # cross-correlation matrix\n",
        "        batch_size = z_a.size(0)\n",
        "        c = torch.matmul(out_1_norm.T, out_2_norm) / batch_size\n",
        "\n",
        "        # loss\n",
        "        on_diag = torch.diagonal(c).add_(-1).pow_(2).sum()\n",
        "        off_diag = self.off_diagonal(c).add_(1).pow_(2).sum()\n",
        "        loss = on_diag + self.lambda_param * off_diag\n",
        "\n",
        "        return loss"
      ]
    },
    {
      "cell_type": "code",
      "execution_count": 20,
      "metadata": {
        "id": "r4p6niQkZL_t"
      },
      "outputs": [],
      "source": [
        "class BarlowTwins(nn.Module):\n",
        "\n",
        "    def __init__(\n",
        "        self,\n",
        "        backbone: nn.Module,\n",
        "        feature_size: int,\n",
        "        projection_dim: int = 8192,\n",
        "        hidden_dim: int = 8192,\n",
        "        **kwargs\n",
        "    ):\n",
        "        super().__init__()\n",
        "        self.feature_size = feature_size\n",
        "        self.projection_dim = projection_dim\n",
        "        self.hidden_dim = hidden_dim\n",
        "        self.backbone = backbone\n",
        "\n",
        "        self.projection_head = nn.Sequential(\n",
        "            nn.Sequential(nn.Linear(self.feature_size, self.hidden_dim), nn.BatchNorm1d(self.hidden_dim), nn.ReLU(inplace=True)),\n",
        "            nn.Sequential(nn.Linear(self.hidden_dim, self.hidden_dim), nn.BatchNorm1d(self.hidden_dim), nn.ReLU(inplace=True)),\n",
        "            nn.Sequential(nn.Linear(self.hidden_dim, self.projection_dim)))\n",
        "\n",
        "        self.encoder = nn.Sequential(self.backbone, self.projection_head)\n",
        "\n",
        "    def forward(self, x0: torch.Tensor, x1: torch.Tensor):\n",
        "        f0 = self.backbone(x0).flatten(start_dim=1)\n",
        "        out0 = self.projection_head(f0)\n",
        "\n",
        "        f1 = self.backbone(x1).flatten(start_dim=1)\n",
        "        out1 = self.projection_head(f1)\n",
        "\n",
        "        return out0, out1"
      ]
    },
    {
      "cell_type": "code",
      "execution_count": 21,
      "metadata": {
        "id": "pcZacAw2ZPUg"
      },
      "outputs": [],
      "source": [
        "backbone = models.resnet50()\n",
        "num_features = backbone.fc.in_features\n",
        "backbone.fc = nn.Identity()\n",
        "model = BarlowTwins(backbone=backbone, feature_size=num_features, projection_dim=128)\n",
        "\n",
        "# # Replace the backbone's classifier with a new linear layer\n",
        "# num_classes = 3  # Number of classes in your dataset\n",
        "# model.backbone.fc = nn.Linear(num_features, num_classes)\n",
        "# model = model.backbone.to(device)\n",
        "\n",
        "\n",
        "device = torch.device(\"cuda:0\" if torch.cuda.is_available() else \"cpu\")\n",
        "model = model.to(device)"
      ]
    },
    {
      "cell_type": "code",
      "execution_count": 22,
      "metadata": {
        "colab": {
          "base_uri": "https://localhost:8080/"
        },
        "id": "RC4yuo-6ZREO",
        "outputId": "7e74d9c2-477b-4f7e-e5b5-645bc509fef6"
      },
      "outputs": [
        {
          "output_type": "stream",
          "name": "stdout",
          "text": [
            "Number of Model Parameters: 108491968\n",
            "Memmory Usage: 0.40 GB\n"
          ]
        }
      ],
      "source": [
        "print(f\"Number of Model Parameters: {sum(p.numel() for p in model.parameters())}\")\n",
        "print(f\"Memmory Usage: {torch.cuda.memory_allocated(device) / 1024**3:.2f} GB\")"
      ]
    },
    {
      "cell_type": "code",
      "execution_count": 23,
      "metadata": {
        "id": "5zoh9ueWZTBC"
      },
      "outputs": [],
      "source": [
        "optimizer = torch.optim.Adam(model.parameters(), lr=0.0001, weight_decay=1e-4)\n",
        "criterion = BarlowTwinsLoss()\n",
        "ssl_transform = SimCLRViewTransform()"
      ]
    },
    {
      "cell_type": "markdown",
      "metadata": {
        "id": "a8zdQmzNayJN"
      },
      "source": [
        "### SSL training"
      ]
    },
    {
      "cell_type": "code",
      "execution_count": 24,
      "metadata": {
        "colab": {
          "base_uri": "https://localhost:8080/"
        },
        "id": "tkyVb9E-a1oo",
        "outputId": "e8c78bb4-a6ae-4339-bd3d-e9091fbe2b5f"
      },
      "outputs": [
        {
          "output_type": "stream",
          "name": "stdout",
          "text": [
            "Mounted at /content/drive\n",
            "Loaded existing metrics.\n",
            "Final metrics saved to /content/drive/MyDrive/training_metrics_ssl_Barlow_training.pkl\n"
          ]
        }
      ],
      "source": [
        "import torch\n",
        "import numpy as np\n",
        "import pickle\n",
        "from sklearn.metrics import precision_score, recall_score, f1_score\n",
        "from tqdm import tqdm\n",
        "\n",
        "# Mount Google Drive\n",
        "from google.colab import drive\n",
        "drive.mount('/content/drive')\n",
        "\n",
        "# Load existing metrics if the file exists\n",
        "metrics_file_path = \"/content/drive/MyDrive/training_metrics_ssl_Barlow_training.pkl\"\n",
        "\n",
        "try:\n",
        "    with open(metrics_file_path, 'rb') as f:\n",
        "        metrics = pickle.load(f)\n",
        "        print(\"Loaded existing metrics.\")\n",
        "except FileNotFoundError:\n",
        "    metrics = {'train_loss': [], 'val_loss': []}\n",
        "    print(\"No existing metrics found. Starting fresh.\")\n",
        "\n",
        "# Parameters for Early Stopping\n",
        "early_stopping_patience = 5  # Stop after 5 epochs with no improvement\n",
        "best_val_loss = float('inf')\n",
        "patience_counter = 0\n",
        "\n",
        "num_epochs = 100  # Set a higher number of epochs to allow early stopping\n",
        "\n",
        "model.load_state_dict(torch.load('/content/drive/MyDrive/model_ssl_Barlow_epoch_100.pth'))\n",
        "\n",
        "for epoch in range(100,num_epochs):\n",
        "    print(f'Epoch {epoch+1}/{num_epochs}')\n",
        "    print('-' * 10)\n",
        "    # Each epoch has a training and validation phase\n",
        "    for phase in ['train', 'val']:\n",
        "        if phase == 'train':\n",
        "            model.train()  # Set model to training mode\n",
        "            dataloader = dataloaders['train']\n",
        "        else:\n",
        "            model.eval()  # Set model to evaluate mode\n",
        "            dataloader = dataloaders['val']\n",
        "\n",
        "        running_loss = 0.0\n",
        "\n",
        "        # Iterate over data with tqdm progress bar\n",
        "        for inputs, _ in tqdm(dataloader, desc=f\"{phase.capitalize()} Phase\"):\n",
        "            inputs = inputs.to(device)\n",
        "\n",
        "            # Zero the parameter gradients\n",
        "            optimizer.zero_grad()\n",
        "\n",
        "            aug1 = ssl_transform(inputs)\n",
        "            aug2 = ssl_transform(inputs)\n",
        "\n",
        "            # Forward pass\n",
        "            with torch.set_grad_enabled(phase == 'train'):\n",
        "                out0, out1 = model(aug1, aug2)\n",
        "                loss = criterion(out0, out1)\n",
        "\n",
        "                # Backward pass + optimize only if in training phase\n",
        "                if phase == 'train':\n",
        "                    loss.backward()\n",
        "                    optimizer.step()\n",
        "\n",
        "            # Statistics\n",
        "            running_loss += loss.item() * inputs.size(0)\n",
        "\n",
        "        # Calculate metrics\n",
        "        epoch_loss = running_loss / len(dataloader.dataset)\n",
        "\n",
        "        # Save metrics\n",
        "        metrics[f'{phase}_loss'].append(epoch_loss)\n",
        "\n",
        "        print(f'{phase.capitalize()} Loss: {epoch_loss:.4f}')\n",
        "\n",
        "        # Early stopping check during validation phase\n",
        "        if phase == 'val':\n",
        "            if epoch_loss < best_val_loss:\n",
        "                best_val_loss = epoch_loss\n",
        "                patience_counter = 0  # Reset the counter if improvement occurs\n",
        "                # Save the model weights when improvement occurs\n",
        "                torch.save(model.state_dict(), '/content/drive/MyDrive/best_model_ssl_barlowTwins_training.pth')\n",
        "            else:\n",
        "                patience_counter += 1\n",
        "\n",
        "        if (epoch+1) % 10 == 0:\n",
        "            # Save the model weights every 10 epochs\n",
        "            torch.save(model.state_dict(), f'/content/drive/MyDrive/model_ssl_Barlow_epoch_{epoch+1}.pth')\n",
        "            # Save the metrics to the pickle file\n",
        "            with open(metrics_file_path, 'wb') as f:\n",
        "                pickle.dump(metrics, f)\n",
        "            print(f\"Metrics saved at epoch {epoch}.\")\n",
        "\n",
        "    print()\n",
        "\n",
        "print(f\"Final metrics saved to {metrics_file_path}\")\n"
      ]
    },
    {
      "cell_type": "code",
      "execution_count": 25,
      "metadata": {
        "colab": {
          "base_uri": "https://localhost:8080/",
          "height": 509
        },
        "id": "CuInLD5IIAjA",
        "outputId": "ba43262d-e8d8-46b4-ec56-bb6b50a24f8f"
      },
      "outputs": [
        {
          "output_type": "stream",
          "name": "stdout",
          "text": [
            "Drive already mounted at /content/drive; to attempt to forcibly remount, call drive.mount(\"/content/drive\", force_remount=True).\n"
          ]
        },
        {
          "output_type": "display_data",
          "data": {
            "text/plain": [
              "<Figure size 640x480 with 1 Axes>"
            ],
            "image/png": "[encoded data removed]"
          },
          "metadata": {}
        }
      ],
      "source": [
        "import pickle\n",
        "import matplotlib.pyplot as plt\n",
        "from google.colab import drive\n",
        "drive.mount('/content/drive')\n",
        "\n",
        "metrics_file_path = \"/content/drive/MyDrive/training_metrics_ssl_Barlow_training.pkl\"\n",
        "\n",
        "\n",
        "\n",
        "with open(metrics_file_path, 'rb') as f:\n",
        "    metrics = pickle.load(f)\n",
        "\n",
        "# Plotting the metrics\n",
        "plt.plot(metrics['train_loss'], label='Train Loss')\n",
        "plt.plot(metrics['val_loss'], label='Validation Loss')\n",
        "plt.xlabel('Epochs')\n",
        "plt.ylabel('Loss')\n",
        "plt.title('Training and Validation Loss Over Epochs')\n",
        "plt.legend()\n",
        "plt.show()"
      ]
    },
    {
      "cell_type": "code",
      "execution_count": 26,
      "metadata": {
        "colab": {
          "base_uri": "https://localhost:8080/"
        },
        "id": "ybt-j290bJRQ",
        "outputId": "3096e03e-7e0c-4039-856f-40ab32180953"
      },
      "outputs": [
        {
          "metadata": {
            "tags": null
          },
          "name": "stderr",
          "output_type": "stream",
          "text": [
            "Linear Eval Epoch 1: 100%|██████████| 255/255 [02:29<00:00,  1.70it/s]\n"
          ]
        },
        {
          "metadata": {
            "tags": null
          },
          "name": "stdout",
          "output_type": "stream",
          "text": [
            "Linear Eval Epoch 1 Loss: 0.2829 Acc: 0.8909 Precision: 0.8912 Recall: 0.8909 F1-Score: 0.8910\n"
          ]
        },
        {
          "metadata": {
            "tags": null
          },
          "name": "stderr",
          "output_type": "stream",
          "text": [
            "Linear Eval Epoch 2: 100%|██████████| 255/255 [02:26<00:00,  1.74it/s]\n"
          ]
        },
        {
          "metadata": {
            "tags": null
          },
          "name": "stdout",
          "output_type": "stream",
          "text": [
            "Linear Eval Epoch 2 Loss: 0.2249 Acc: 0.9153 Precision: 0.9154 Recall: 0.9153 F1-Score: 0.9153\n"
          ]
        },
        {
          "metadata": {
            "tags": null
          },
          "name": "stderr",
          "output_type": "stream",
          "text": [
            "Linear Eval Epoch 3: 100%|██████████| 255/255 [02:24<00:00,  1.76it/s]\n"
          ]
        },
        {
          "metadata": {
            "tags": null
          },
          "name": "stdout",
          "output_type": "stream",
          "text": [
            "Linear Eval Epoch 3 Loss: 0.1868 Acc: 0.9277 Precision: 0.9278 Recall: 0.9277 F1-Score: 0.9277\n"
          ]
        },
        {
          "metadata": {
            "tags": null
          },
          "name": "stderr",
          "output_type": "stream",
          "text": [
            "Linear Eval Epoch 4: 100%|██████████| 255/255 [02:24<00:00,  1.76it/s]\n"
          ]
        },
        {
          "metadata": {
            "tags": null
          },
          "name": "stdout",
          "output_type": "stream",
          "text": [
            "Linear Eval Epoch 4 Loss: 0.1833 Acc: 0.9286 Precision: 0.9287 Recall: 0.9286 F1-Score: 0.9287\n"
          ]
        },
        {
          "metadata": {
            "tags": null
          },
          "name": "stderr",
          "output_type": "stream",
          "text": [
            "Linear Eval Epoch 5: 100%|██████████| 255/255 [02:24<00:00,  1.76it/s]\n"
          ]
        },
        {
          "metadata": {
            "tags": null
          },
          "name": "stdout",
          "output_type": "stream",
          "text": [
            "Linear Eval Epoch 5 Loss: 0.1699 Acc: 0.9360 Precision: 0.9361 Recall: 0.9360 F1-Score: 0.9360\n"
          ]
        },
        {
          "metadata": {
            "tags": null
          },
          "name": "stderr",
          "output_type": "stream",
          "text": [
            "Linear Eval Epoch 6: 100%|██████████| 255/255 [02:24<00:00,  1.77it/s]\n"
          ]
        },
        {
          "metadata": {
            "tags": null
          },
          "name": "stdout",
          "output_type": "stream",
          "text": [
            "Linear Eval Epoch 6 Loss: 0.1653 Acc: 0.9393 Precision: 0.9393 Recall: 0.9393 F1-Score: 0.9393\n"
          ]
        },
        {
          "metadata": {
            "tags": null
          },
          "name": "stderr",
          "output_type": "stream",
          "text": [
            "Linear Eval Epoch 7: 100%|██████████| 255/255 [02:25<00:00,  1.75it/s]\n"
          ]
        },
        {
          "metadata": {
            "tags": null
          },
          "name": "stdout",
          "output_type": "stream",
          "text": [
            "Linear Eval Epoch 7 Loss: 0.1552 Acc: 0.9415 Precision: 0.9416 Recall: 0.9415 F1-Score: 0.9416\n"
          ]
        },
        {
          "metadata": {
            "tags": null
          },
          "name": "stderr",
          "output_type": "stream",
          "text": [
            "Linear Eval Epoch 8: 100%|██████████| 255/255 [02:24<00:00,  1.76it/s]\n"
          ]
        },
        {
          "metadata": {
            "tags": null
          },
          "name": "stdout",
          "output_type": "stream",
          "text": [
            "Linear Eval Epoch 8 Loss: 0.1654 Acc: 0.9395 Precision: 0.9396 Recall: 0.9395 F1-Score: 0.9396\n"
          ]
        },
        {
          "metadata": {
            "tags": null
          },
          "name": "stderr",
          "output_type": "stream",
          "text": [
            "Linear Eval Epoch 9: 100%|██████████| 255/255 [02:26<00:00,  1.74it/s]\n"
          ]
        },
        {
          "metadata": {
            "tags": null
          },
          "name": "stdout",
          "output_type": "stream",
          "text": [
            "Linear Eval Epoch 9 Loss: 0.1365 Acc: 0.9490 Precision: 0.9490 Recall: 0.9490 F1-Score: 0.9490\n"
          ]
        },
        {
          "metadata": {
            "tags": null
          },
          "name": "stderr",
          "output_type": "stream",
          "text": [
            "Linear Eval Epoch 10: 100%|██████████| 255/255 [02:24<00:00,  1.77it/s]\n"
          ]
        },
        {
          "metadata": {
            "tags": null
          },
          "name": "stdout",
          "output_type": "stream",
          "text": [
            "Linear Eval Epoch 10 Loss: 0.1561 Acc: 0.9414 Precision: 0.9414 Recall: 0.9414 F1-Score: 0.9414\n"
          ]
        },
        {
          "metadata": {
            "tags": null
          },
          "name": "stderr",
          "output_type": "stream",
          "text": [
            "Linear Eval Epoch 11: 100%|██████████| 255/255 [02:25<00:00,  1.76it/s]\n"
          ]
        },
        {
          "metadata": {
            "tags": null
          },
          "name": "stdout",
          "output_type": "stream",
          "text": [
            "Linear Eval Epoch 11 Loss: 0.1359 Acc: 0.9514 Precision: 0.9515 Recall: 0.9514 F1-Score: 0.9515\n"
          ]
        },
        {
          "metadata": {
            "tags": null
          },
          "name": "stderr",
          "output_type": "stream",
          "text": [
            "Linear Eval Epoch 12: 100%|██████████| 255/255 [02:25<00:00,  1.75it/s]\n"
          ]
        },
        {
          "metadata": {
            "tags": null
          },
          "name": "stdout",
          "output_type": "stream",
          "text": [
            "Linear Eval Epoch 12 Loss: 0.1306 Acc: 0.9527 Precision: 0.9527 Recall: 0.9527 F1-Score: 0.9527\n"
          ]
        },
        {
          "metadata": {
            "tags": null
          },
          "name": "stderr",
          "output_type": "stream",
          "text": [
            "Linear Eval Epoch 13: 100%|██████████| 255/255 [02:25<00:00,  1.75it/s]\n"
          ]
        },
        {
          "metadata": {
            "tags": null
          },
          "name": "stdout",
          "output_type": "stream",
          "text": [
            "Linear Eval Epoch 13 Loss: 0.1308 Acc: 0.9506 Precision: 0.9506 Recall: 0.9506 F1-Score: 0.9506\n"
          ]
        },
        {
          "metadata": {
            "tags": null
          },
          "name": "stderr",
          "output_type": "stream",
          "text": [
            "Linear Eval Epoch 14: 100%|██████████| 255/255 [02:24<00:00,  1.77it/s]\n"
          ]
        },
        {
          "metadata": {
            "tags": null
          },
          "name": "stdout",
          "output_type": "stream",
          "text": [
            "Linear Eval Epoch 14 Loss: 0.1296 Acc: 0.9541 Precision: 0.9541 Recall: 0.9541 F1-Score: 0.9541\n"
          ]
        },
        {
          "metadata": {
            "tags": null
          },
          "name": "stderr",
          "output_type": "stream",
          "text": [
            "Linear Eval Epoch 15: 100%|██████████| 255/255 [02:24<00:00,  1.76it/s]\n"
          ]
        },
        {
          "metadata": {
            "tags": null
          },
          "name": "stdout",
          "output_type": "stream",
          "text": [
            "Linear Eval Epoch 15 Loss: 0.1186 Acc: 0.9566 Precision: 0.9567 Recall: 0.9566 F1-Score: 0.9566\n"
          ]
        },
        {
          "metadata": {
            "tags": null
          },
          "name": "stderr",
          "output_type": "stream",
          "text": [
            "Linear Eval Epoch 16: 100%|██████████| 255/255 [02:24<00:00,  1.76it/s]\n"
          ]
        },
        {
          "metadata": {
            "tags": null
          },
          "name": "stdout",
          "output_type": "stream",
          "text": [
            "Linear Eval Epoch 16 Loss: 0.1222 Acc: 0.9550 Precision: 0.9550 Recall: 0.9550 F1-Score: 0.9550\n"
          ]
        },
        {
          "metadata": {
            "tags": null
          },
          "name": "stderr",
          "output_type": "stream",
          "text": [
            "Linear Eval Epoch 17: 100%|██████████| 255/255 [02:25<00:00,  1.75it/s]\n"
          ]
        },
        {
          "metadata": {
            "tags": null
          },
          "name": "stdout",
          "output_type": "stream",
          "text": [
            "Linear Eval Epoch 17 Loss: 0.1037 Acc: 0.9639 Precision: 0.9640 Recall: 0.9639 F1-Score: 0.9640\n"
          ]
        },
        {
          "metadata": {
            "tags": null
          },
          "name": "stderr",
          "output_type": "stream",
          "text": [
            "Linear Eval Epoch 18: 100%|██████████| 255/255 [02:25<00:00,  1.75it/s]\n"
          ]
        },
        {
          "metadata": {
            "tags": null
          },
          "name": "stdout",
          "output_type": "stream",
          "text": [
            "Linear Eval Epoch 18 Loss: 0.1139 Acc: 0.9578 Precision: 0.9579 Recall: 0.9578 F1-Score: 0.9578\n"
          ]
        },
        {
          "metadata": {
            "tags": null
          },
          "name": "stderr",
          "output_type": "stream",
          "text": [
            "Linear Eval Epoch 19: 100%|██████████| 255/255 [02:25<00:00,  1.75it/s]\n"
          ]
        },
        {
          "metadata": {
            "tags": null
          },
          "name": "stdout",
          "output_type": "stream",
          "text": [
            "Linear Eval Epoch 19 Loss: 0.1238 Acc: 0.9559 Precision: 0.9559 Recall: 0.9559 F1-Score: 0.9559\n"
          ]
        },
        {
          "metadata": {
            "tags": null
          },
          "name": "stderr",
          "output_type": "stream",
          "text": [
            "Linear Eval Epoch 20: 100%|██████████| 255/255 [02:25<00:00,  1.75it/s]\n"
          ]
        },
        {
          "metadata": {
            "tags": null
          },
          "name": "stdout",
          "output_type": "stream",
          "text": [
            "Linear Eval Epoch 20 Loss: 0.1209 Acc: 0.9561 Precision: 0.9562 Recall: 0.9561 F1-Score: 0.9561\n"
          ]
        },
        {
          "metadata": {
            "tags": null
          },
          "name": "stderr",
          "output_type": "stream",
          "text": [
            "Linear Eval Epoch 21: 100%|██████████| 255/255 [02:24<00:00,  1.76it/s]\n"
          ]
        },
        {
          "metadata": {
            "tags": null
          },
          "name": "stdout",
          "output_type": "stream",
          "text": [
            "Linear Eval Epoch 21 Loss: 0.1171 Acc: 0.9551 Precision: 0.9551 Recall: 0.9551 F1-Score: 0.9551\n"
          ]
        },
        {
          "metadata": {
            "tags": null
          },
          "name": "stderr",
          "output_type": "stream",
          "text": [
            "Linear Eval Epoch 22: 100%|██████████| 255/255 [02:24<00:00,  1.77it/s]\n"
          ]
        },
        {
          "metadata": {
            "tags": null
          },
          "name": "stdout",
          "output_type": "stream",
          "text": [
            "Linear Eval Epoch 22 Loss: 0.1278 Acc: 0.9539 Precision: 0.9539 Recall: 0.9539 F1-Score: 0.9539\n"
          ]
        },
        {
          "metadata": {
            "tags": null
          },
          "name": "stderr",
          "output_type": "stream",
          "text": [
            "Linear Eval Epoch 23: 100%|██████████| 255/255 [02:25<00:00,  1.75it/s]\n"
          ]
        },
        {
          "metadata": {
            "tags": null
          },
          "name": "stdout",
          "output_type": "stream",
          "text": [
            "Linear Eval Epoch 23 Loss: 0.1168 Acc: 0.9565 Precision: 0.9565 Recall: 0.9565 F1-Score: 0.9565\n"
          ]
        },
        {
          "metadata": {
            "tags": null
          },
          "name": "stderr",
          "output_type": "stream",
          "text": [
            "Linear Eval Epoch 24: 100%|██████████| 255/255 [02:26<00:00,  1.74it/s]\n"
          ]
        },
        {
          "metadata": {
            "tags": null
          },
          "name": "stdout",
          "output_type": "stream",
          "text": [
            "Linear Eval Epoch 24 Loss: 0.1023 Acc: 0.9609 Precision: 0.9609 Recall: 0.9609 F1-Score: 0.9609\n"
          ]
        },
        {
          "metadata": {
            "tags": null
          },
          "name": "stderr",
          "output_type": "stream",
          "text": [
            "Linear Eval Epoch 25: 100%|██████████| 255/255 [02:26<00:00,  1.75it/s]\n"
          ]
        },
        {
          "metadata": {
            "tags": null
          },
          "name": "stdout",
          "output_type": "stream",
          "text": [
            "Linear Eval Epoch 25 Loss: 0.1093 Acc: 0.9589 Precision: 0.9590 Recall: 0.9589 F1-Score: 0.9589\n"
          ]
        },
        {
          "metadata": {
            "tags": null
          },
          "name": "stderr",
          "output_type": "stream",
          "text": [
            "Linear Eval Epoch 26: 100%|██████████| 255/255 [02:25<00:00,  1.75it/s]\n"
          ]
        },
        {
          "metadata": {
            "tags": null
          },
          "name": "stdout",
          "output_type": "stream",
          "text": [
            "Linear Eval Epoch 26 Loss: 0.1256 Acc: 0.9546 Precision: 0.9546 Recall: 0.9546 F1-Score: 0.9546\n"
          ]
        },
        {
          "metadata": {
            "tags": null
          },
          "name": "stderr",
          "output_type": "stream",
          "text": [
            "Linear Eval Epoch 27: 100%|██████████| 255/255 [02:25<00:00,  1.76it/s]\n"
          ]
        },
        {
          "metadata": {
            "tags": null
          },
          "name": "stdout",
          "output_type": "stream",
          "text": [
            "Linear Eval Epoch 27 Loss: 0.1201 Acc: 0.9538 Precision: 0.9538 Recall: 0.9538 F1-Score: 0.9538\n"
          ]
        },
        {
          "metadata": {
            "tags": null
          },
          "name": "stderr",
          "output_type": "stream",
          "text": [
            "Linear Eval Epoch 28: 100%|██████████| 255/255 [02:24<00:00,  1.77it/s]\n"
          ]
        },
        {
          "metadata": {
            "tags": null
          },
          "name": "stdout",
          "output_type": "stream",
          "text": [
            "Linear Eval Epoch 28 Loss: 0.0951 Acc: 0.9660 Precision: 0.9660 Recall: 0.9660 F1-Score: 0.9660\n"
          ]
        },
        {
          "metadata": {
            "tags": null
          },
          "name": "stderr",
          "output_type": "stream",
          "text": [
            "Linear Eval Epoch 29: 100%|██████████| 255/255 [02:24<00:00,  1.76it/s]\n"
          ]
        },
        {
          "metadata": {
            "tags": null
          },
          "name": "stdout",
          "output_type": "stream",
          "text": [
            "Linear Eval Epoch 29 Loss: 0.1106 Acc: 0.9611 Precision: 0.9612 Recall: 0.9611 F1-Score: 0.9611\n"
          ]
        },
        {
          "metadata": {
            "tags": null
          },
          "name": "stderr",
          "output_type": "stream",
          "text": [
            "Linear Eval Epoch 30: 100%|██████████| 255/255 [02:25<00:00,  1.75it/s]\n"
          ]
        },
        {
          "metadata": {
            "tags": null
          },
          "name": "stdout",
          "output_type": "stream",
          "text": [
            "Linear Eval Epoch 30 Loss: 0.1126 Acc: 0.9600 Precision: 0.9600 Recall: 0.9600 F1-Score: 0.9600\n"
          ]
        },
        {
          "metadata": {
            "tags": null
          },
          "name": "stderr",
          "output_type": "stream",
          "text": [
            "Linear Eval Epoch 31: 100%|██████████| 255/255 [02:24<00:00,  1.76it/s]\n"
          ]
        },
        {
          "metadata": {
            "tags": null
          },
          "name": "stdout",
          "output_type": "stream",
          "text": [
            "Linear Eval Epoch 31 Loss: 0.0928 Acc: 0.9675 Precision: 0.9675 Recall: 0.9675 F1-Score: 0.9675\n"
          ]
        },
        {
          "metadata": {
            "tags": null
          },
          "name": "stderr",
          "output_type": "stream",
          "text": [
            "Linear Eval Epoch 32: 100%|██████████| 255/255 [02:24<00:00,  1.76it/s]\n"
          ]
        },
        {
          "metadata": {
            "tags": null
          },
          "name": "stdout",
          "output_type": "stream",
          "text": [
            "Linear Eval Epoch 32 Loss: 0.1262 Acc: 0.9562 Precision: 0.9562 Recall: 0.9562 F1-Score: 0.9562\n"
          ]
        },
        {
          "metadata": {
            "tags": null
          },
          "name": "stderr",
          "output_type": "stream",
          "text": [
            "Linear Eval Epoch 33: 100%|██████████| 255/255 [02:25<00:00,  1.76it/s]\n"
          ]
        },
        {
          "metadata": {
            "tags": null
          },
          "name": "stdout",
          "output_type": "stream",
          "text": [
            "Linear Eval Epoch 33 Loss: 0.1075 Acc: 0.9617 Precision: 0.9618 Recall: 0.9617 F1-Score: 0.9618\n"
          ]
        },
        {
          "metadata": {
            "tags": null
          },
          "name": "stderr",
          "output_type": "stream",
          "text": [
            "Linear Eval Epoch 34: 100%|██████████| 255/255 [02:26<00:00,  1.74it/s]\n"
          ]
        },
        {
          "metadata": {
            "tags": null
          },
          "name": "stdout",
          "output_type": "stream",
          "text": [
            "Linear Eval Epoch 34 Loss: 0.0827 Acc: 0.9700 Precision: 0.9700 Recall: 0.9700 F1-Score: 0.9700\n"
          ]
        },
        {
          "metadata": {
            "tags": null
          },
          "name": "stderr",
          "output_type": "stream",
          "text": [
            "Linear Eval Epoch 35: 100%|██████████| 255/255 [02:25<00:00,  1.76it/s]\n"
          ]
        },
        {
          "metadata": {
            "tags": null
          },
          "name": "stdout",
          "output_type": "stream",
          "text": [
            "Linear Eval Epoch 35 Loss: 0.0928 Acc: 0.9682 Precision: 0.9682 Recall: 0.9682 F1-Score: 0.9682\n"
          ]
        },
        {
          "metadata": {
            "tags": null
          },
          "name": "stderr",
          "output_type": "stream",
          "text": [
            "Linear Eval Epoch 36: 100%|██████████| 255/255 [02:25<00:00,  1.75it/s]\n"
          ]
        },
        {
          "metadata": {
            "tags": null
          },
          "name": "stdout",
          "output_type": "stream",
          "text": [
            "Linear Eval Epoch 36 Loss: 0.1038 Acc: 0.9622 Precision: 0.9623 Recall: 0.9622 F1-Score: 0.9623\n"
          ]
        },
        {
          "metadata": {
            "tags": null
          },
          "name": "stderr",
          "output_type": "stream",
          "text": [
            "Linear Eval Epoch 37: 100%|██████████| 255/255 [02:25<00:00,  1.75it/s]\n"
          ]
        },
        {
          "metadata": {
            "tags": null
          },
          "name": "stdout",
          "output_type": "stream",
          "text": [
            "Linear Eval Epoch 37 Loss: 0.0986 Acc: 0.9647 Precision: 0.9647 Recall: 0.9647 F1-Score: 0.9647\n"
          ]
        },
        {
          "metadata": {
            "tags": null
          },
          "name": "stderr",
          "output_type": "stream",
          "text": [
            "Linear Eval Epoch 38: 100%|██████████| 255/255 [02:25<00:00,  1.76it/s]\n"
          ]
        },
        {
          "metadata": {
            "tags": null
          },
          "name": "stdout",
          "output_type": "stream",
          "text": [
            "Linear Eval Epoch 38 Loss: 0.0991 Acc: 0.9652 Precision: 0.9652 Recall: 0.9652 F1-Score: 0.9652\n"
          ]
        },
        {
          "metadata": {
            "tags": null
          },
          "name": "stderr",
          "output_type": "stream",
          "text": [
            "Linear Eval Epoch 39: 100%|██████████| 255/255 [02:23<00:00,  1.77it/s]\n"
          ]
        },
        {
          "metadata": {
            "tags": null
          },
          "name": "stdout",
          "output_type": "stream",
          "text": [
            "Linear Eval Epoch 39 Loss: 0.0961 Acc: 0.9649 Precision: 0.9650 Recall: 0.9649 F1-Score: 0.9649\n"
          ]
        },
        {
          "metadata": {
            "tags": null
          },
          "name": "stderr",
          "output_type": "stream",
          "text": [
            "Linear Eval Epoch 40: 100%|██████████| 255/255 [02:25<00:00,  1.76it/s]\n"
          ]
        },
        {
          "metadata": {
            "tags": null
          },
          "name": "stdout",
          "output_type": "stream",
          "text": [
            "Linear Eval Epoch 40 Loss: 0.1045 Acc: 0.9628 Precision: 0.9628 Recall: 0.9628 F1-Score: 0.9628\n"
          ]
        },
        {
          "metadata": {
            "tags": null
          },
          "name": "stderr",
          "output_type": "stream",
          "text": [
            "Linear Eval Epoch 41: 100%|██████████| 255/255 [02:24<00:00,  1.76it/s]\n"
          ]
        },
        {
          "metadata": {
            "tags": null
          },
          "name": "stdout",
          "output_type": "stream",
          "text": [
            "Linear Eval Epoch 41 Loss: 0.0955 Acc: 0.9677 Precision: 0.9678 Recall: 0.9677 F1-Score: 0.9678\n"
          ]
        },
        {
          "metadata": {
            "tags": null
          },
          "name": "stderr",
          "output_type": "stream",
          "text": [
            "Linear Eval Epoch 42: 100%|██████████| 255/255 [02:23<00:00,  1.77it/s]\n"
          ]
        },
        {
          "metadata": {
            "tags": null
          },
          "name": "stdout",
          "output_type": "stream",
          "text": [
            "Linear Eval Epoch 42 Loss: 0.1058 Acc: 0.9635 Precision: 0.9634 Recall: 0.9635 F1-Score: 0.9634\n"
          ]
        },
        {
          "metadata": {
            "tags": null
          },
          "name": "stderr",
          "output_type": "stream",
          "text": [
            "Linear Eval Epoch 43: 100%|██████████| 255/255 [02:25<00:00,  1.76it/s]\n"
          ]
        },
        {
          "metadata": {
            "tags": null
          },
          "name": "stdout",
          "output_type": "stream",
          "text": [
            "Linear Eval Epoch 43 Loss: 0.1060 Acc: 0.9637 Precision: 0.9637 Recall: 0.9637 F1-Score: 0.9637\n"
          ]
        },
        {
          "metadata": {
            "tags": null
          },
          "name": "stderr",
          "output_type": "stream",
          "text": [
            "Linear Eval Epoch 44: 100%|██████████| 255/255 [02:25<00:00,  1.75it/s]\n"
          ]
        },
        {
          "metadata": {
            "tags": null
          },
          "name": "stdout",
          "output_type": "stream",
          "text": [
            "Linear Eval Epoch 44 Loss: 0.0888 Acc: 0.9689 Precision: 0.9688 Recall: 0.9689 F1-Score: 0.9688\n"
          ]
        },
        {
          "metadata": {
            "tags": null
          },
          "name": "stderr",
          "output_type": "stream",
          "text": [
            "Linear Eval Epoch 45: 100%|██████████| 255/255 [02:25<00:00,  1.75it/s]\n"
          ]
        },
        {
          "metadata": {
            "tags": null
          },
          "name": "stdout",
          "output_type": "stream",
          "text": [
            "Linear Eval Epoch 45 Loss: 0.0790 Acc: 0.9712 Precision: 0.9712 Recall: 0.9712 F1-Score: 0.9712\n"
          ]
        },
        {
          "metadata": {
            "tags": null
          },
          "name": "stderr",
          "output_type": "stream",
          "text": [
            "Linear Eval Epoch 46: 100%|██████████| 255/255 [02:23<00:00,  1.78it/s]\n"
          ]
        },
        {
          "metadata": {
            "tags": null
          },
          "name": "stdout",
          "output_type": "stream",
          "text": [
            "Linear Eval Epoch 46 Loss: 0.1156 Acc: 0.9628 Precision: 0.9628 Recall: 0.9628 F1-Score: 0.9628\n"
          ]
        },
        {
          "metadata": {
            "tags": null
          },
          "name": "stderr",
          "output_type": "stream",
          "text": [
            "Linear Eval Epoch 47: 100%|██████████| 255/255 [02:24<00:00,  1.76it/s]\n"
          ]
        },
        {
          "metadata": {
            "tags": null
          },
          "name": "stdout",
          "output_type": "stream",
          "text": [
            "Linear Eval Epoch 47 Loss: 0.0919 Acc: 0.9682 Precision: 0.9683 Recall: 0.9682 F1-Score: 0.9682\n"
          ]
        },
        {
          "metadata": {
            "tags": null
          },
          "name": "stderr",
          "output_type": "stream",
          "text": [
            "Linear Eval Epoch 48: 100%|██████████| 255/255 [02:24<00:00,  1.77it/s]\n"
          ]
        },
        {
          "metadata": {
            "tags": null
          },
          "name": "stdout",
          "output_type": "stream",
          "text": [
            "Linear Eval Epoch 48 Loss: 0.0831 Acc: 0.9702 Precision: 0.9702 Recall: 0.9702 F1-Score: 0.9702\n"
          ]
        },
        {
          "metadata": {
            "tags": null
          },
          "name": "stderr",
          "output_type": "stream",
          "text": [
            "Linear Eval Epoch 49: 100%|██████████| 255/255 [02:24<00:00,  1.76it/s]\n"
          ]
        },
        {
          "metadata": {
            "tags": null
          },
          "name": "stdout",
          "output_type": "stream",
          "text": [
            "Linear Eval Epoch 49 Loss: 0.0860 Acc: 0.9695 Precision: 0.9695 Recall: 0.9695 F1-Score: 0.9695\n"
          ]
        },
        {
          "metadata": {
            "tags": null
          },
          "name": "stderr",
          "output_type": "stream",
          "text": [
            "Linear Eval Epoch 50: 100%|██████████| 255/255 [02:24<00:00,  1.77it/s]\n"
          ]
        },
        {
          "metadata": {
            "tags": null
          },
          "name": "stdout",
          "output_type": "stream",
          "text": [
            "Linear Eval Epoch 50 Loss: 0.0843 Acc: 0.9704 Precision: 0.9704 Recall: 0.9704 F1-Score: 0.9704\n"
          ]
        },
        {
          "metadata": {
            "tags": null
          },
          "name": "stderr",
          "output_type": "stream",
          "text": [
            "Linear Eval Epoch 51: 100%|██████████| 255/255 [02:24<00:00,  1.77it/s]\n"
          ]
        },
        {
          "metadata": {
            "tags": null
          },
          "name": "stdout",
          "output_type": "stream",
          "text": [
            "Linear Eval Epoch 51 Loss: 0.0847 Acc: 0.9690 Precision: 0.9690 Recall: 0.9690 F1-Score: 0.9690\n"
          ]
        },
        {
          "metadata": {
            "tags": null
          },
          "name": "stderr",
          "output_type": "stream",
          "text": [
            "Linear Eval Epoch 52: 100%|██████████| 255/255 [02:24<00:00,  1.76it/s]\n"
          ]
        },
        {
          "metadata": {
            "tags": null
          },
          "name": "stdout",
          "output_type": "stream",
          "text": [
            "Linear Eval Epoch 52 Loss: 0.0921 Acc: 0.9671 Precision: 0.9672 Recall: 0.9671 F1-Score: 0.9671\n"
          ]
        },
        {
          "metadata": {
            "tags": null
          },
          "name": "stderr",
          "output_type": "stream",
          "text": [
            "Linear Eval Epoch 53: 100%|██████████| 255/255 [02:25<00:00,  1.75it/s]\n"
          ]
        },
        {
          "metadata": {
            "tags": null
          },
          "name": "stdout",
          "output_type": "stream",
          "text": [
            "Linear Eval Epoch 53 Loss: 0.0804 Acc: 0.9724 Precision: 0.9724 Recall: 0.9724 F1-Score: 0.9724\n"
          ]
        },
        {
          "metadata": {
            "tags": null
          },
          "name": "stderr",
          "output_type": "stream",
          "text": [
            "Linear Eval Epoch 54: 100%|██████████| 255/255 [02:24<00:00,  1.76it/s]\n"
          ]
        },
        {
          "metadata": {
            "tags": null
          },
          "name": "stdout",
          "output_type": "stream",
          "text": [
            "Linear Eval Epoch 54 Loss: 0.1098 Acc: 0.9604 Precision: 0.9604 Recall: 0.9604 F1-Score: 0.9604\n"
          ]
        },
        {
          "metadata": {
            "tags": null
          },
          "name": "stderr",
          "output_type": "stream",
          "text": [
            "Linear Eval Epoch 55: 100%|██████████| 255/255 [02:25<00:00,  1.75it/s]\n"
          ]
        },
        {
          "metadata": {
            "tags": null
          },
          "name": "stdout",
          "output_type": "stream",
          "text": [
            "Linear Eval Epoch 55 Loss: 0.1054 Acc: 0.9609 Precision: 0.9609 Recall: 0.9609 F1-Score: 0.9609\n"
          ]
        },
        {
          "metadata": {
            "tags": null
          },
          "name": "stderr",
          "output_type": "stream",
          "text": [
            "Linear Eval Epoch 56: 100%|██████████| 255/255 [02:24<00:00,  1.77it/s]\n"
          ]
        },
        {
          "metadata": {
            "tags": null
          },
          "name": "stdout",
          "output_type": "stream",
          "text": [
            "Linear Eval Epoch 56 Loss: 0.1048 Acc: 0.9664 Precision: 0.9664 Recall: 0.9664 F1-Score: 0.9664\n"
          ]
        },
        {
          "metadata": {
            "tags": null
          },
          "name": "stderr",
          "output_type": "stream",
          "text": [
            "Linear Eval Epoch 57: 100%|██████████| 255/255 [02:24<00:00,  1.77it/s]\n"
          ]
        },
        {
          "metadata": {
            "tags": null
          },
          "name": "stdout",
          "output_type": "stream",
          "text": [
            "Linear Eval Epoch 57 Loss: 0.0737 Acc: 0.9752 Precision: 0.9752 Recall: 0.9752 F1-Score: 0.9752\n"
          ]
        },
        {
          "metadata": {
            "tags": null
          },
          "name": "stderr",
          "output_type": "stream",
          "text": [
            "Linear Eval Epoch 58: 100%|██████████| 255/255 [02:26<00:00,  1.74it/s]\n"
          ]
        },
        {
          "metadata": {
            "tags": null
          },
          "name": "stdout",
          "output_type": "stream",
          "text": [
            "Linear Eval Epoch 58 Loss: 0.0669 Acc: 0.9755 Precision: 0.9755 Recall: 0.9755 F1-Score: 0.9755\n"
          ]
        },
        {
          "metadata": {
            "tags": null
          },
          "name": "stderr",
          "output_type": "stream",
          "text": [
            "Linear Eval Epoch 59: 100%|██████████| 255/255 [02:23<00:00,  1.78it/s]\n"
          ]
        },
        {
          "metadata": {
            "tags": null
          },
          "name": "stdout",
          "output_type": "stream",
          "text": [
            "Linear Eval Epoch 59 Loss: 0.0865 Acc: 0.9695 Precision: 0.9695 Recall: 0.9695 F1-Score: 0.9695\n"
          ]
        },
        {
          "metadata": {
            "tags": null
          },
          "name": "stderr",
          "output_type": "stream",
          "text": [
            "Linear Eval Epoch 60: 100%|██████████| 255/255 [02:26<00:00,  1.74it/s]\n"
          ]
        },
        {
          "metadata": {
            "tags": null
          },
          "name": "stdout",
          "output_type": "stream",
          "text": [
            "Linear Eval Epoch 60 Loss: 0.1037 Acc: 0.9648 Precision: 0.9648 Recall: 0.9648 F1-Score: 0.9648\n"
          ]
        },
        {
          "metadata": {
            "tags": null
          },
          "name": "stderr",
          "output_type": "stream",
          "text": [
            "Linear Eval Epoch 61: 100%|██████████| 255/255 [02:26<00:00,  1.74it/s]\n"
          ]
        },
        {
          "metadata": {
            "tags": null
          },
          "name": "stdout",
          "output_type": "stream",
          "text": [
            "Linear Eval Epoch 61 Loss: 0.0827 Acc: 0.9696 Precision: 0.9696 Recall: 0.9696 F1-Score: 0.9696\n"
          ]
        },
        {
          "metadata": {
            "tags": null
          },
          "name": "stderr",
          "output_type": "stream",
          "text": [
            "Linear Eval Epoch 62: 100%|██████████| 255/255 [02:25<00:00,  1.75it/s]\n"
          ]
        },
        {
          "metadata": {
            "tags": null
          },
          "name": "stdout",
          "output_type": "stream",
          "text": [
            "Linear Eval Epoch 62 Loss: 0.0894 Acc: 0.9693 Precision: 0.9694 Recall: 0.9693 F1-Score: 0.9693\n"
          ]
        },
        {
          "metadata": {
            "tags": null
          },
          "name": "stderr",
          "output_type": "stream",
          "text": [
            "Linear Eval Epoch 63: 100%|██████████| 255/255 [02:26<00:00,  1.74it/s]\n"
          ]
        },
        {
          "metadata": {
            "tags": null
          },
          "name": "stdout",
          "output_type": "stream",
          "text": [
            "Linear Eval Epoch 63 Loss: 0.0906 Acc: 0.9695 Precision: 0.9695 Recall: 0.9695 F1-Score: 0.9695\n"
          ]
        },
        {
          "metadata": {
            "tags": null
          },
          "name": "stderr",
          "output_type": "stream",
          "text": [
            "Linear Eval Epoch 64: 100%|██████████| 255/255 [02:26<00:00,  1.75it/s]\n"
          ]
        },
        {
          "metadata": {
            "tags": null
          },
          "name": "stdout",
          "output_type": "stream",
          "text": [
            "Linear Eval Epoch 64 Loss: 0.0591 Acc: 0.9783 Precision: 0.9783 Recall: 0.9783 F1-Score: 0.9783\n"
          ]
        },
        {
          "metadata": {
            "tags": null
          },
          "name": "stderr",
          "output_type": "stream",
          "text": [
            "Linear Eval Epoch 65: 100%|██████████| 255/255 [02:25<00:00,  1.75it/s]\n"
          ]
        },
        {
          "metadata": {
            "tags": null
          },
          "name": "stdout",
          "output_type": "stream",
          "text": [
            "Linear Eval Epoch 65 Loss: 0.0875 Acc: 0.9701 Precision: 0.9701 Recall: 0.9701 F1-Score: 0.9701\n"
          ]
        },
        {
          "metadata": {
            "tags": null
          },
          "name": "stderr",
          "output_type": "stream",
          "text": [
            "Linear Eval Epoch 66: 100%|██████████| 255/255 [02:25<00:00,  1.75it/s]\n"
          ]
        },
        {
          "metadata": {
            "tags": null
          },
          "name": "stdout",
          "output_type": "stream",
          "text": [
            "Linear Eval Epoch 66 Loss: 0.0835 Acc: 0.9686 Precision: 0.9686 Recall: 0.9686 F1-Score: 0.9686\n"
          ]
        },
        {
          "metadata": {
            "tags": null
          },
          "name": "stderr",
          "output_type": "stream",
          "text": [
            "Linear Eval Epoch 67: 100%|██████████| 255/255 [02:26<00:00,  1.74it/s]\n"
          ]
        },
        {
          "metadata": {
            "tags": null
          },
          "name": "stdout",
          "output_type": "stream",
          "text": [
            "Linear Eval Epoch 67 Loss: 0.0581 Acc: 0.9783 Precision: 0.9783 Recall: 0.9783 F1-Score: 0.9783\n"
          ]
        },
        {
          "metadata": {
            "tags": null
          },
          "name": "stderr",
          "output_type": "stream",
          "text": [
            "Linear Eval Epoch 68: 100%|██████████| 255/255 [02:26<00:00,  1.74it/s]\n"
          ]
        },
        {
          "metadata": {
            "tags": null
          },
          "name": "stdout",
          "output_type": "stream",
          "text": [
            "Linear Eval Epoch 68 Loss: 0.0735 Acc: 0.9730 Precision: 0.9731 Recall: 0.9730 F1-Score: 0.9730\n"
          ]
        },
        {
          "metadata": {
            "tags": null
          },
          "name": "stderr",
          "output_type": "stream",
          "text": [
            "Linear Eval Epoch 69: 100%|██████████| 255/255 [02:26<00:00,  1.74it/s]\n"
          ]
        },
        {
          "metadata": {
            "tags": null
          },
          "name": "stdout",
          "output_type": "stream",
          "text": [
            "Linear Eval Epoch 69 Loss: 0.0796 Acc: 0.9713 Precision: 0.9713 Recall: 0.9713 F1-Score: 0.9713\n"
          ]
        },
        {
          "metadata": {
            "tags": null
          },
          "name": "stderr",
          "output_type": "stream",
          "text": [
            "Linear Eval Epoch 70: 100%|██████████| 255/255 [02:25<00:00,  1.75it/s]\n"
          ]
        },
        {
          "metadata": {
            "tags": null
          },
          "name": "stdout",
          "output_type": "stream",
          "text": [
            "Linear Eval Epoch 70 Loss: 0.0775 Acc: 0.9712 Precision: 0.9712 Recall: 0.9712 F1-Score: 0.9712\n"
          ]
        },
        {
          "metadata": {
            "tags": null
          },
          "name": "stderr",
          "output_type": "stream",
          "text": [
            "Linear Eval Epoch 71: 100%|██████████| 255/255 [02:25<00:00,  1.75it/s]\n"
          ]
        },
        {
          "metadata": {
            "tags": null
          },
          "name": "stdout",
          "output_type": "stream",
          "text": [
            "Linear Eval Epoch 71 Loss: 0.0847 Acc: 0.9711 Precision: 0.9711 Recall: 0.9711 F1-Score: 0.9711\n"
          ]
        },
        {
          "metadata": {
            "tags": null
          },
          "name": "stderr",
          "output_type": "stream",
          "text": [
            "Linear Eval Epoch 72: 100%|██████████| 255/255 [02:26<00:00,  1.73it/s]\n"
          ]
        },
        {
          "metadata": {
            "tags": null
          },
          "name": "stdout",
          "output_type": "stream",
          "text": [
            "Linear Eval Epoch 72 Loss: 0.0731 Acc: 0.9740 Precision: 0.9740 Recall: 0.9740 F1-Score: 0.9740\n"
          ]
        },
        {
          "metadata": {
            "tags": null
          },
          "name": "stderr",
          "output_type": "stream",
          "text": [
            "Linear Eval Epoch 73: 100%|██████████| 255/255 [02:25<00:00,  1.75it/s]\n"
          ]
        },
        {
          "metadata": {
            "tags": null
          },
          "name": "stdout",
          "output_type": "stream",
          "text": [
            "Linear Eval Epoch 73 Loss: 0.0900 Acc: 0.9674 Precision: 0.9674 Recall: 0.9674 F1-Score: 0.9674\n"
          ]
        },
        {
          "metadata": {
            "tags": null
          },
          "name": "stderr",
          "output_type": "stream",
          "text": [
            "Linear Eval Epoch 74: 100%|██████████| 255/255 [02:25<00:00,  1.76it/s]\n"
          ]
        },
        {
          "metadata": {
            "tags": null
          },
          "name": "stdout",
          "output_type": "stream",
          "text": [
            "Linear Eval Epoch 74 Loss: 0.0891 Acc: 0.9690 Precision: 0.9690 Recall: 0.9690 F1-Score: 0.9690\n"
          ]
        },
        {
          "metadata": {
            "tags": null
          },
          "name": "stderr",
          "output_type": "stream",
          "text": [
            "Linear Eval Epoch 75: 100%|██████████| 255/255 [02:25<00:00,  1.76it/s]\n"
          ]
        },
        {
          "metadata": {
            "tags": null
          },
          "name": "stdout",
          "output_type": "stream",
          "text": [
            "Linear Eval Epoch 75 Loss: 0.0707 Acc: 0.9734 Precision: 0.9734 Recall: 0.9734 F1-Score: 0.9734\n"
          ]
        },
        {
          "metadata": {
            "tags": null
          },
          "name": "stderr",
          "output_type": "stream",
          "text": [
            "Linear Eval Epoch 76: 100%|██████████| 255/255 [02:25<00:00,  1.75it/s]\n"
          ]
        },
        {
          "metadata": {
            "tags": null
          },
          "name": "stdout",
          "output_type": "stream",
          "text": [
            "Linear Eval Epoch 76 Loss: 0.0829 Acc: 0.9693 Precision: 0.9694 Recall: 0.9693 F1-Score: 0.9694\n"
          ]
        },
        {
          "metadata": {
            "tags": null
          },
          "name": "stderr",
          "output_type": "stream",
          "text": [
            "Linear Eval Epoch 77: 100%|██████████| 255/255 [02:25<00:00,  1.75it/s]\n"
          ]
        },
        {
          "metadata": {
            "tags": null
          },
          "name": "stdout",
          "output_type": "stream",
          "text": [
            "Linear Eval Epoch 77 Loss: 0.0712 Acc: 0.9752 Precision: 0.9752 Recall: 0.9752 F1-Score: 0.9752\n"
          ]
        },
        {
          "metadata": {
            "tags": null
          },
          "name": "stderr",
          "output_type": "stream",
          "text": [
            "Linear Eval Epoch 78: 100%|██████████| 255/255 [02:26<00:00,  1.74it/s]\n"
          ]
        },
        {
          "metadata": {
            "tags": null
          },
          "name": "stdout",
          "output_type": "stream",
          "text": [
            "Linear Eval Epoch 78 Loss: 0.1154 Acc: 0.9622 Precision: 0.9622 Recall: 0.9622 F1-Score: 0.9622\n"
          ]
        },
        {
          "metadata": {
            "tags": null
          },
          "name": "stderr",
          "output_type": "stream",
          "text": [
            "Linear Eval Epoch 79: 100%|██████████| 255/255 [02:26<00:00,  1.74it/s]\n"
          ]
        },
        {
          "metadata": {
            "tags": null
          },
          "name": "stdout",
          "output_type": "stream",
          "text": [
            "Linear Eval Epoch 79 Loss: 0.0628 Acc: 0.9773 Precision: 0.9773 Recall: 0.9773 F1-Score: 0.9773\n"
          ]
        },
        {
          "output_type": "stream",
          "name": "stderr",
          "text": [
            "Linear Eval Epoch 80: 100%|██████████| 255/255 [02:26<00:00,  1.75it/s]\n"
          ]
        },
        {
          "output_type": "stream",
          "name": "stdout",
          "text": [
            "Linear Eval Epoch 80 Loss: 0.0595 Acc: 0.9790 Precision: 0.9790 Recall: 0.9790 F1-Score: 0.9790\n"
          ]
        },
        {
          "output_type": "stream",
          "name": "stderr",
          "text": [
            "Linear Eval Epoch 81: 100%|██████████| 255/255 [02:25<00:00,  1.75it/s]\n"
          ]
        },
        {
          "output_type": "stream",
          "name": "stdout",
          "text": [
            "Linear Eval Epoch 81 Loss: 0.0991 Acc: 0.9653 Precision: 0.9653 Recall: 0.9653 F1-Score: 0.9653\n"
          ]
        },
        {
          "output_type": "stream",
          "name": "stderr",
          "text": [
            "Linear Eval Epoch 82: 100%|██████████| 255/255 [02:26<00:00,  1.74it/s]\n"
          ]
        },
        {
          "output_type": "stream",
          "name": "stdout",
          "text": [
            "Linear Eval Epoch 82 Loss: 0.0672 Acc: 0.9738 Precision: 0.9738 Recall: 0.9738 F1-Score: 0.9738\n"
          ]
        },
        {
          "output_type": "stream",
          "name": "stderr",
          "text": [
            "Linear Eval Epoch 83: 100%|██████████| 255/255 [02:25<00:00,  1.75it/s]\n"
          ]
        },
        {
          "output_type": "stream",
          "name": "stdout",
          "text": [
            "Linear Eval Epoch 83 Loss: 0.0856 Acc: 0.9697 Precision: 0.9697 Recall: 0.9697 F1-Score: 0.9697\n"
          ]
        },
        {
          "output_type": "stream",
          "name": "stderr",
          "text": [
            "Linear Eval Epoch 84: 100%|██████████| 255/255 [02:25<00:00,  1.75it/s]\n"
          ]
        },
        {
          "output_type": "stream",
          "name": "stdout",
          "text": [
            "Linear Eval Epoch 84 Loss: 0.0714 Acc: 0.9750 Precision: 0.9750 Recall: 0.9750 F1-Score: 0.9750\n"
          ]
        },
        {
          "output_type": "stream",
          "name": "stderr",
          "text": [
            "Linear Eval Epoch 85: 100%|██████████| 255/255 [02:26<00:00,  1.74it/s]\n"
          ]
        },
        {
          "output_type": "stream",
          "name": "stdout",
          "text": [
            "Linear Eval Epoch 85 Loss: 0.0818 Acc: 0.9709 Precision: 0.9710 Recall: 0.9709 F1-Score: 0.9709\n"
          ]
        },
        {
          "output_type": "stream",
          "name": "stderr",
          "text": [
            "Linear Eval Epoch 86: 100%|██████████| 255/255 [02:24<00:00,  1.76it/s]\n"
          ]
        },
        {
          "output_type": "stream",
          "name": "stdout",
          "text": [
            "Linear Eval Epoch 86 Loss: 0.0730 Acc: 0.9746 Precision: 0.9746 Recall: 0.9746 F1-Score: 0.9746\n"
          ]
        },
        {
          "output_type": "stream",
          "name": "stderr",
          "text": [
            "Linear Eval Epoch 87: 100%|██████████| 255/255 [02:25<00:00,  1.76it/s]\n"
          ]
        },
        {
          "output_type": "stream",
          "name": "stdout",
          "text": [
            "Linear Eval Epoch 87 Loss: 0.0779 Acc: 0.9719 Precision: 0.9719 Recall: 0.9719 F1-Score: 0.9719\n"
          ]
        },
        {
          "output_type": "stream",
          "name": "stderr",
          "text": [
            "Linear Eval Epoch 88: 100%|██████████| 255/255 [02:25<00:00,  1.75it/s]\n"
          ]
        },
        {
          "output_type": "stream",
          "name": "stdout",
          "text": [
            "Linear Eval Epoch 88 Loss: 0.0665 Acc: 0.9750 Precision: 0.9750 Recall: 0.9750 F1-Score: 0.9750\n"
          ]
        },
        {
          "output_type": "stream",
          "name": "stderr",
          "text": [
            "Linear Eval Epoch 89: 100%|██████████| 255/255 [02:26<00:00,  1.74it/s]\n"
          ]
        },
        {
          "output_type": "stream",
          "name": "stdout",
          "text": [
            "Linear Eval Epoch 89 Loss: 0.0723 Acc: 0.9756 Precision: 0.9756 Recall: 0.9756 F1-Score: 0.9756\n"
          ]
        },
        {
          "output_type": "stream",
          "name": "stderr",
          "text": [
            "Linear Eval Epoch 90: 100%|██████████| 255/255 [02:25<00:00,  1.75it/s]\n"
          ]
        },
        {
          "output_type": "stream",
          "name": "stdout",
          "text": [
            "Linear Eval Epoch 90 Loss: 0.0728 Acc: 0.9742 Precision: 0.9742 Recall: 0.9742 F1-Score: 0.9742\n"
          ]
        },
        {
          "output_type": "stream",
          "name": "stderr",
          "text": [
            "Linear Eval Epoch 91: 100%|██████████| 255/255 [02:25<00:00,  1.75it/s]\n"
          ]
        },
        {
          "output_type": "stream",
          "name": "stdout",
          "text": [
            "Linear Eval Epoch 91 Loss: 0.0646 Acc: 0.9772 Precision: 0.9772 Recall: 0.9772 F1-Score: 0.9772\n"
          ]
        },
        {
          "output_type": "stream",
          "name": "stderr",
          "text": [
            "Linear Eval Epoch 92: 100%|██████████| 255/255 [02:24<00:00,  1.76it/s]\n"
          ]
        },
        {
          "output_type": "stream",
          "name": "stdout",
          "text": [
            "Linear Eval Epoch 92 Loss: 0.0792 Acc: 0.9709 Precision: 0.9710 Recall: 0.9709 F1-Score: 0.9710\n"
          ]
        },
        {
          "output_type": "stream",
          "name": "stderr",
          "text": [
            "Linear Eval Epoch 93: 100%|██████████| 255/255 [02:26<00:00,  1.74it/s]\n"
          ]
        },
        {
          "output_type": "stream",
          "name": "stdout",
          "text": [
            "Linear Eval Epoch 93 Loss: 0.0981 Acc: 0.9652 Precision: 0.9652 Recall: 0.9652 F1-Score: 0.9652\n"
          ]
        },
        {
          "output_type": "stream",
          "name": "stderr",
          "text": [
            "Linear Eval Epoch 94: 100%|██████████| 255/255 [02:26<00:00,  1.75it/s]\n"
          ]
        },
        {
          "output_type": "stream",
          "name": "stdout",
          "text": [
            "Linear Eval Epoch 94 Loss: 0.0721 Acc: 0.9739 Precision: 0.9739 Recall: 0.9739 F1-Score: 0.9739\n"
          ]
        },
        {
          "output_type": "stream",
          "name": "stderr",
          "text": [
            "Linear Eval Epoch 95: 100%|██████████| 255/255 [02:24<00:00,  1.76it/s]\n"
          ]
        },
        {
          "output_type": "stream",
          "name": "stdout",
          "text": [
            "Linear Eval Epoch 95 Loss: 0.0544 Acc: 0.9806 Precision: 0.9806 Recall: 0.9806 F1-Score: 0.9806\n"
          ]
        },
        {
          "output_type": "stream",
          "name": "stderr",
          "text": [
            "Linear Eval Epoch 96: 100%|██████████| 255/255 [02:25<00:00,  1.75it/s]\n"
          ]
        },
        {
          "output_type": "stream",
          "name": "stdout",
          "text": [
            "Linear Eval Epoch 96 Loss: 0.0612 Acc: 0.9783 Precision: 0.9783 Recall: 0.9783 F1-Score: 0.9783\n"
          ]
        },
        {
          "output_type": "stream",
          "name": "stderr",
          "text": [
            "Linear Eval Epoch 97: 100%|██████████| 255/255 [02:25<00:00,  1.76it/s]\n"
          ]
        },
        {
          "output_type": "stream",
          "name": "stdout",
          "text": [
            "Linear Eval Epoch 97 Loss: 0.0597 Acc: 0.9787 Precision: 0.9787 Recall: 0.9787 F1-Score: 0.9787\n"
          ]
        },
        {
          "output_type": "stream",
          "name": "stderr",
          "text": [
            "Linear Eval Epoch 98: 100%|██████████| 255/255 [02:26<00:00,  1.74it/s]\n"
          ]
        },
        {
          "output_type": "stream",
          "name": "stdout",
          "text": [
            "Linear Eval Epoch 98 Loss: 0.0647 Acc: 0.9772 Precision: 0.9772 Recall: 0.9772 F1-Score: 0.9772\n"
          ]
        },
        {
          "output_type": "stream",
          "name": "stderr",
          "text": [
            "Linear Eval Epoch 99: 100%|██████████| 255/255 [02:26<00:00,  1.75it/s]\n"
          ]
        },
        {
          "output_type": "stream",
          "name": "stdout",
          "text": [
            "Linear Eval Epoch 99 Loss: 0.0744 Acc: 0.9741 Precision: 0.9741 Recall: 0.9741 F1-Score: 0.9741\n"
          ]
        },
        {
          "output_type": "stream",
          "name": "stderr",
          "text": [
            "Linear Eval Epoch 100: 100%|██████████| 255/255 [02:26<00:00,  1.74it/s]"
          ]
        },
        {
          "output_type": "stream",
          "name": "stdout",
          "text": [
            "Linear Eval Epoch 100 Loss: 0.0610 Acc: 0.9785 Precision: 0.9785 Recall: 0.9785 F1-Score: 0.9785\n"
          ]
        },
        {
          "output_type": "stream",
          "name": "stderr",
          "text": [
            "\n"
          ]
        }
      ],
      "source": [
        "import torch\n",
        "import torch.nn as nn\n",
        "import torch.optim as optim\n",
        "import matplotlib.pyplot as plt\n",
        "from sklearn.metrics import precision_score, recall_score, f1_score\n",
        "from tqdm import tqdm\n",
        "\n",
        "# Freeze the backbone\n",
        "for param in model.backbone.parameters():\n",
        "    param.requires_grad = True\n",
        "\n",
        "# Replace the backbone's classifier with a new linear layer\n",
        "num_classes = 3  # Number of classes in your dataset\n",
        "# num_features = model.backbone.fc.in_features  # Adjust this according to your model\n",
        "model.backbone.fc = nn.Linear(num_features, num_classes)\n",
        "model = model.backbone.to(device)\n",
        "\n",
        "# Define loss function and optimizer for the linear classifier\n",
        "criterion = nn.CrossEntropyLoss()\n",
        "optimizer = optim.Adam(model.fc.parameters(), lr=0.001)\n",
        "\n",
        "# Metrics storage\n",
        "train_losses = []\n",
        "train_accuracies = []\n",
        "train_precisions = []\n",
        "train_recalls = []\n",
        "train_f1_scores = []\n",
        "\n",
        "num_epochs_linear = 100  # Adjust as needed\n",
        "\n",
        "for epoch in range(num_epochs_linear):\n",
        "    model.train()\n",
        "    running_loss = 0.0\n",
        "    running_corrects = 0\n",
        "\n",
        "    # For calculating precision, recall, and F1\n",
        "    all_labels = []\n",
        "    all_preds = []\n",
        "\n",
        "    for inputs, labels in tqdm(dataloaders['train'], desc=f\"Linear Eval Epoch {epoch+1}\"):\n",
        "        inputs = inputs.to(device)\n",
        "        labels = labels.to(device)\n",
        "\n",
        "        optimizer.zero_grad()\n",
        "\n",
        "        outputs = model(inputs)\n",
        "        loss = criterion(outputs, labels)\n",
        "        loss.backward()\n",
        "        optimizer.step()\n",
        "\n",
        "        _, preds = torch.max(outputs, 1)\n",
        "        running_loss += loss.item() * inputs.size(0)\n",
        "        running_corrects += torch.sum(preds == labels.data)\n",
        "\n",
        "        # Store predictions and labels for metric calculations\n",
        "        all_labels.extend(labels.cpu().numpy())\n",
        "        all_preds.extend(preds.cpu().numpy())\n",
        "\n",
        "    epoch_loss = running_loss / len(dataloaders['train'].dataset)\n",
        "    epoch_acc = running_corrects.double() / len(dataloaders['train'].dataset)\n",
        "\n",
        "    # Calculate precision, recall, and F1-score\n",
        "    epoch_precision = precision_score(all_labels, all_preds, average='weighted')\n",
        "    epoch_recall = recall_score(all_labels, all_preds, average='weighted')\n",
        "    epoch_f1 = f1_score(all_labels, all_preds, average='weighted')\n",
        "\n",
        "    train_losses.append(epoch_loss)\n",
        "    train_accuracies.append(epoch_acc.item())\n",
        "    train_precisions.append(epoch_precision)\n",
        "    train_recalls.append(epoch_recall)\n",
        "    train_f1_scores.append(epoch_f1)\n",
        "\n",
        "    print(f\"Linear Eval Epoch {epoch+1} Loss: {epoch_loss:.4f} Acc: {epoch_acc:.4f} Precision: {epoch_precision:.4f} Recall: {epoch_recall:.4f} F1-Score: {epoch_f1:.4f}\")\n"
      ]
    },
    {
      "cell_type": "code",
      "execution_count": 27,
      "metadata": {
        "colab": {
          "base_uri": "https://localhost:8080/",
          "height": 397
        },
        "id": "3ggtSDqnIe9G",
        "outputId": "ebf98889-5dcf-4057-f30e-2bcaf1436d89"
      },
      "outputs": [
        {
          "output_type": "display_data",
          "data": {
            "text/plain": [
              "<Figure size 1200x500 with 2 Axes>"
            ],
            "image/png": "[encoded data removed]"
          },
          "metadata": {}
        }
      ],
      "source": [
        "# Plotting the training loss and accuracy\n",
        "plt.figure(figsize=(12, 5))\n",
        "\n",
        "plt.subplot(1, 2, 1)\n",
        "plt.plot(range(1, num_epochs_linear + 1), train_losses, label='Training Loss')\n",
        "plt.xlabel('Epochs')\n",
        "plt.ylabel('Loss')\n",
        "plt.title('Training Loss Over Epochs')\n",
        "plt.legend()\n",
        "\n",
        "plt.subplot(1, 2, 2)\n",
        "plt.plot(range(1, num_epochs_linear + 1), train_accuracies, label='Training Accuracy')\n",
        "plt.xlabel('Epochs')\n",
        "plt.ylabel('Accuracy')\n",
        "plt.title('Training Accuracy Over Epochs')\n",
        "plt.legend()\n",
        "\n",
        "plt.tight_layout()\n",
        "plt.show()\n"
      ]
    },
    {
      "cell_type": "code",
      "execution_count": 28,
      "metadata": {
        "id": "h8zSrQtD8cH9",
        "colab": {
          "base_uri": "https://localhost:8080/",
          "height": 545
        },
        "outputId": "1ade0497-9cf1-46d1-d065-1af8db3370cf"
      },
      "outputs": [
        {
          "output_type": "display_data",
          "data": {
            "text/plain": [
              "<Figure size 1000x600 with 1 Axes>"
            ],
            "image/png": "[encoded data removed]"
          },
          "metadata": {}
        }
      ],
      "source": [
        "# Plotting accuracy, precision, recall, and F1-score\n",
        "plt.figure(figsize=(10, 6))\n",
        "\n",
        "metrics = ['Accuracy', 'Precision', 'Recall', 'F1-Score']\n",
        "scores = [train_accuracies[-1], train_precisions[-1], train_recalls[-1], train_f1_scores[-1]]  # Only plot the last epoch's values\n",
        "\n",
        "# Plot the metrics\n",
        "plt.bar(metrics, scores, color=['lightblue', 'skyblue', 'lightgreen', 'salmon'])\n",
        "plt.ylabel('Score')\n",
        "plt.ylim([0, 1])  # Assuming the metrics are normalized (between 0 and 1)\n",
        "plt.title('Training Evaluation Metrics at Final Epoch')\n",
        "\n",
        "plt.show()\n"
      ]
    }
  ],
  "metadata": {
    "accelerator": "GPU",
    "colab": {
      "gpuType": "L4",
      "machine_shape": "hm",
      "provenance": []
    },
    "kernelspec": {
      "display_name": "Python 3",
      "name": "python3"
    },
    "language_info": {
      "name": "python"
    }
  },
  "nbformat": 4,
  "nbformat_minor": 0
}